{
  "cells": [
    {
      "cell_type": "code",
      "source": [
        "from google.colab import drive\n",
        "drive.mount('/content/drive')"
      ],
      "metadata": {
        "colab": {
          "base_uri": "https://localhost:8080/"
        },
        "id": "lGXJg_ydYlvl",
        "outputId": "b194a927-cd59-4385-a118-e95f600514a7"
      },
      "execution_count": null,
      "outputs": [
        {
          "output_type": "stream",
          "name": "stdout",
          "text": [
            "Mounted at /content/drive\n"
          ]
        }
      ]
    },
    {
      "cell_type": "code",
      "execution_count": null,
      "metadata": {
        "id": "GvC3RAjvYiLm"
      },
      "outputs": [],
      "source": [
        "import pandas as pd\n",
        "from matplotlib import pyplot as plt\n",
        "import numpy as np"
      ]
    },
    {
      "cell_type": "code",
      "execution_count": null,
      "metadata": {
        "id": "KYel4oz2YiLo"
      },
      "outputs": [],
      "source": [
        "import warnings\n",
        "warnings.filterwarnings('ignore')"
      ]
    },
    {
      "cell_type": "code",
      "execution_count": null,
      "metadata": {
        "scrolled": true,
        "colab": {
          "base_uri": "https://localhost:8080/",
          "height": 206
        },
        "id": "IcMDv-q-YiLo",
        "outputId": "0f6bfe08-ace8-4187-e510-dc25dde33132"
      },
      "outputs": [
        {
          "output_type": "execute_result",
          "data": {
            "text/plain": [
              "     Pregnancies  Glucose  BloodPressure  SkinThickness  Insulin   BMI  \\\n",
              "535            4      132              0              0        0  32.9   \n",
              "231            6      134             80             37      370  46.2   \n",
              "150            1      136             74             50      204  37.4   \n",
              "722            1      149             68             29      127  29.3   \n",
              "281           10      129             76             28      122  35.9   \n",
              "\n",
              "     DiabetesPedigreeFunction  Age  Outcome  \n",
              "535                     0.302   23        1  \n",
              "231                     0.238   46        1  \n",
              "150                     0.399   24        0  \n",
              "722                     0.349   42        1  \n",
              "281                     0.280   39        0  "
            ],
            "text/html": [
              "\n",
              "  <div id=\"df-32563bcd-a257-43ea-9a8a-145464e14ef8\" class=\"colab-df-container\">\n",
              "    <div>\n",
              "<style scoped>\n",
              "    .dataframe tbody tr th:only-of-type {\n",
              "        vertical-align: middle;\n",
              "    }\n",
              "\n",
              "    .dataframe tbody tr th {\n",
              "        vertical-align: top;\n",
              "    }\n",
              "\n",
              "    .dataframe thead th {\n",
              "        text-align: right;\n",
              "    }\n",
              "</style>\n",
              "<table border=\"1\" class=\"dataframe\">\n",
              "  <thead>\n",
              "    <tr style=\"text-align: right;\">\n",
              "      <th></th>\n",
              "      <th>Pregnancies</th>\n",
              "      <th>Glucose</th>\n",
              "      <th>BloodPressure</th>\n",
              "      <th>SkinThickness</th>\n",
              "      <th>Insulin</th>\n",
              "      <th>BMI</th>\n",
              "      <th>DiabetesPedigreeFunction</th>\n",
              "      <th>Age</th>\n",
              "      <th>Outcome</th>\n",
              "    </tr>\n",
              "  </thead>\n",
              "  <tbody>\n",
              "    <tr>\n",
              "      <th>535</th>\n",
              "      <td>4</td>\n",
              "      <td>132</td>\n",
              "      <td>0</td>\n",
              "      <td>0</td>\n",
              "      <td>0</td>\n",
              "      <td>32.9</td>\n",
              "      <td>0.302</td>\n",
              "      <td>23</td>\n",
              "      <td>1</td>\n",
              "    </tr>\n",
              "    <tr>\n",
              "      <th>231</th>\n",
              "      <td>6</td>\n",
              "      <td>134</td>\n",
              "      <td>80</td>\n",
              "      <td>37</td>\n",
              "      <td>370</td>\n",
              "      <td>46.2</td>\n",
              "      <td>0.238</td>\n",
              "      <td>46</td>\n",
              "      <td>1</td>\n",
              "    </tr>\n",
              "    <tr>\n",
              "      <th>150</th>\n",
              "      <td>1</td>\n",
              "      <td>136</td>\n",
              "      <td>74</td>\n",
              "      <td>50</td>\n",
              "      <td>204</td>\n",
              "      <td>37.4</td>\n",
              "      <td>0.399</td>\n",
              "      <td>24</td>\n",
              "      <td>0</td>\n",
              "    </tr>\n",
              "    <tr>\n",
              "      <th>722</th>\n",
              "      <td>1</td>\n",
              "      <td>149</td>\n",
              "      <td>68</td>\n",
              "      <td>29</td>\n",
              "      <td>127</td>\n",
              "      <td>29.3</td>\n",
              "      <td>0.349</td>\n",
              "      <td>42</td>\n",
              "      <td>1</td>\n",
              "    </tr>\n",
              "    <tr>\n",
              "      <th>281</th>\n",
              "      <td>10</td>\n",
              "      <td>129</td>\n",
              "      <td>76</td>\n",
              "      <td>28</td>\n",
              "      <td>122</td>\n",
              "      <td>35.9</td>\n",
              "      <td>0.280</td>\n",
              "      <td>39</td>\n",
              "      <td>0</td>\n",
              "    </tr>\n",
              "  </tbody>\n",
              "</table>\n",
              "</div>\n",
              "    <div class=\"colab-df-buttons\">\n",
              "\n",
              "  <div class=\"colab-df-container\">\n",
              "    <button class=\"colab-df-convert\" onclick=\"convertToInteractive('df-32563bcd-a257-43ea-9a8a-145464e14ef8')\"\n",
              "            title=\"Convert this dataframe to an interactive table.\"\n",
              "            style=\"display:none;\">\n",
              "\n",
              "  <svg xmlns=\"http://www.w3.org/2000/svg\" height=\"24px\" viewBox=\"0 -960 960 960\">\n",
              "    <path d=\"M120-120v-720h720v720H120Zm60-500h600v-160H180v160Zm220 220h160v-160H400v160Zm0 220h160v-160H400v160ZM180-400h160v-160H180v160Zm440 0h160v-160H620v160ZM180-180h160v-160H180v160Zm440 0h160v-160H620v160Z\"/>\n",
              "  </svg>\n",
              "    </button>\n",
              "\n",
              "  <style>\n",
              "    .colab-df-container {\n",
              "      display:flex;\n",
              "      gap: 12px;\n",
              "    }\n",
              "\n",
              "    .colab-df-convert {\n",
              "      background-color: #E8F0FE;\n",
              "      border: none;\n",
              "      border-radius: 50%;\n",
              "      cursor: pointer;\n",
              "      display: none;\n",
              "      fill: #1967D2;\n",
              "      height: 32px;\n",
              "      padding: 0 0 0 0;\n",
              "      width: 32px;\n",
              "    }\n",
              "\n",
              "    .colab-df-convert:hover {\n",
              "      background-color: #E2EBFA;\n",
              "      box-shadow: 0px 1px 2px rgba(60, 64, 67, 0.3), 0px 1px 3px 1px rgba(60, 64, 67, 0.15);\n",
              "      fill: #174EA6;\n",
              "    }\n",
              "\n",
              "    .colab-df-buttons div {\n",
              "      margin-bottom: 4px;\n",
              "    }\n",
              "\n",
              "    [theme=dark] .colab-df-convert {\n",
              "      background-color: #3B4455;\n",
              "      fill: #D2E3FC;\n",
              "    }\n",
              "\n",
              "    [theme=dark] .colab-df-convert:hover {\n",
              "      background-color: #434B5C;\n",
              "      box-shadow: 0px 1px 3px 1px rgba(0, 0, 0, 0.15);\n",
              "      filter: drop-shadow(0px 1px 2px rgba(0, 0, 0, 0.3));\n",
              "      fill: #FFFFFF;\n",
              "    }\n",
              "  </style>\n",
              "\n",
              "    <script>\n",
              "      const buttonEl =\n",
              "        document.querySelector('#df-32563bcd-a257-43ea-9a8a-145464e14ef8 button.colab-df-convert');\n",
              "      buttonEl.style.display =\n",
              "        google.colab.kernel.accessAllowed ? 'block' : 'none';\n",
              "\n",
              "      async function convertToInteractive(key) {\n",
              "        const element = document.querySelector('#df-32563bcd-a257-43ea-9a8a-145464e14ef8');\n",
              "        const dataTable =\n",
              "          await google.colab.kernel.invokeFunction('convertToInteractive',\n",
              "                                                    [key], {});\n",
              "        if (!dataTable) return;\n",
              "\n",
              "        const docLinkHtml = 'Like what you see? Visit the ' +\n",
              "          '<a target=\"_blank\" href=https://colab.research.google.com/notebooks/data_table.ipynb>data table notebook</a>'\n",
              "          + ' to learn more about interactive tables.';\n",
              "        element.innerHTML = '';\n",
              "        dataTable['output_type'] = 'display_data';\n",
              "        await google.colab.output.renderOutput(dataTable, element);\n",
              "        const docLink = document.createElement('div');\n",
              "        docLink.innerHTML = docLinkHtml;\n",
              "        element.appendChild(docLink);\n",
              "      }\n",
              "    </script>\n",
              "  </div>\n",
              "\n",
              "\n",
              "<div id=\"df-0191fd0a-3759-4bad-9634-8314f3a08bee\">\n",
              "  <button class=\"colab-df-quickchart\" onclick=\"quickchart('df-0191fd0a-3759-4bad-9634-8314f3a08bee')\"\n",
              "            title=\"Suggest charts\"\n",
              "            style=\"display:none;\">\n",
              "\n",
              "<svg xmlns=\"http://www.w3.org/2000/svg\" height=\"24px\"viewBox=\"0 0 24 24\"\n",
              "     width=\"24px\">\n",
              "    <g>\n",
              "        <path d=\"M19 3H5c-1.1 0-2 .9-2 2v14c0 1.1.9 2 2 2h14c1.1 0 2-.9 2-2V5c0-1.1-.9-2-2-2zM9 17H7v-7h2v7zm4 0h-2V7h2v10zm4 0h-2v-4h2v4z\"/>\n",
              "    </g>\n",
              "</svg>\n",
              "  </button>\n",
              "\n",
              "<style>\n",
              "  .colab-df-quickchart {\n",
              "      --bg-color: #E8F0FE;\n",
              "      --fill-color: #1967D2;\n",
              "      --hover-bg-color: #E2EBFA;\n",
              "      --hover-fill-color: #174EA6;\n",
              "      --disabled-fill-color: #AAA;\n",
              "      --disabled-bg-color: #DDD;\n",
              "  }\n",
              "\n",
              "  [theme=dark] .colab-df-quickchart {\n",
              "      --bg-color: #3B4455;\n",
              "      --fill-color: #D2E3FC;\n",
              "      --hover-bg-color: #434B5C;\n",
              "      --hover-fill-color: #FFFFFF;\n",
              "      --disabled-bg-color: #3B4455;\n",
              "      --disabled-fill-color: #666;\n",
              "  }\n",
              "\n",
              "  .colab-df-quickchart {\n",
              "    background-color: var(--bg-color);\n",
              "    border: none;\n",
              "    border-radius: 50%;\n",
              "    cursor: pointer;\n",
              "    display: none;\n",
              "    fill: var(--fill-color);\n",
              "    height: 32px;\n",
              "    padding: 0;\n",
              "    width: 32px;\n",
              "  }\n",
              "\n",
              "  .colab-df-quickchart:hover {\n",
              "    background-color: var(--hover-bg-color);\n",
              "    box-shadow: 0 1px 2px rgba(60, 64, 67, 0.3), 0 1px 3px 1px rgba(60, 64, 67, 0.15);\n",
              "    fill: var(--button-hover-fill-color);\n",
              "  }\n",
              "\n",
              "  .colab-df-quickchart-complete:disabled,\n",
              "  .colab-df-quickchart-complete:disabled:hover {\n",
              "    background-color: var(--disabled-bg-color);\n",
              "    fill: var(--disabled-fill-color);\n",
              "    box-shadow: none;\n",
              "  }\n",
              "\n",
              "  .colab-df-spinner {\n",
              "    border: 2px solid var(--fill-color);\n",
              "    border-color: transparent;\n",
              "    border-bottom-color: var(--fill-color);\n",
              "    animation:\n",
              "      spin 1s steps(1) infinite;\n",
              "  }\n",
              "\n",
              "  @keyframes spin {\n",
              "    0% {\n",
              "      border-color: transparent;\n",
              "      border-bottom-color: var(--fill-color);\n",
              "      border-left-color: var(--fill-color);\n",
              "    }\n",
              "    20% {\n",
              "      border-color: transparent;\n",
              "      border-left-color: var(--fill-color);\n",
              "      border-top-color: var(--fill-color);\n",
              "    }\n",
              "    30% {\n",
              "      border-color: transparent;\n",
              "      border-left-color: var(--fill-color);\n",
              "      border-top-color: var(--fill-color);\n",
              "      border-right-color: var(--fill-color);\n",
              "    }\n",
              "    40% {\n",
              "      border-color: transparent;\n",
              "      border-right-color: var(--fill-color);\n",
              "      border-top-color: var(--fill-color);\n",
              "    }\n",
              "    60% {\n",
              "      border-color: transparent;\n",
              "      border-right-color: var(--fill-color);\n",
              "    }\n",
              "    80% {\n",
              "      border-color: transparent;\n",
              "      border-right-color: var(--fill-color);\n",
              "      border-bottom-color: var(--fill-color);\n",
              "    }\n",
              "    90% {\n",
              "      border-color: transparent;\n",
              "      border-bottom-color: var(--fill-color);\n",
              "    }\n",
              "  }\n",
              "</style>\n",
              "\n",
              "  <script>\n",
              "    async function quickchart(key) {\n",
              "      const quickchartButtonEl =\n",
              "        document.querySelector('#' + key + ' button');\n",
              "      quickchartButtonEl.disabled = true;  // To prevent multiple clicks.\n",
              "      quickchartButtonEl.classList.add('colab-df-spinner');\n",
              "      try {\n",
              "        const charts = await google.colab.kernel.invokeFunction(\n",
              "            'suggestCharts', [key], {});\n",
              "      } catch (error) {\n",
              "        console.error('Error during call to suggestCharts:', error);\n",
              "      }\n",
              "      quickchartButtonEl.classList.remove('colab-df-spinner');\n",
              "      quickchartButtonEl.classList.add('colab-df-quickchart-complete');\n",
              "    }\n",
              "    (() => {\n",
              "      let quickchartButtonEl =\n",
              "        document.querySelector('#df-0191fd0a-3759-4bad-9634-8314f3a08bee button');\n",
              "      quickchartButtonEl.style.display =\n",
              "        google.colab.kernel.accessAllowed ? 'block' : 'none';\n",
              "    })();\n",
              "  </script>\n",
              "</div>\n",
              "\n",
              "    </div>\n",
              "  </div>\n"
            ],
            "application/vnd.google.colaboratory.intrinsic+json": {
              "type": "dataframe",
              "summary": "{\n  \"name\": \"df\",\n  \"rows\": 5,\n  \"fields\": [\n    {\n      \"column\": \"Pregnancies\",\n      \"properties\": {\n        \"dtype\": \"number\",\n        \"std\": 3,\n        \"min\": 1,\n        \"max\": 10,\n        \"num_unique_values\": 4,\n        \"samples\": [\n          6,\n          10,\n          4\n        ],\n        \"semantic_type\": \"\",\n        \"description\": \"\"\n      }\n    },\n    {\n      \"column\": \"Glucose\",\n      \"properties\": {\n        \"dtype\": \"number\",\n        \"std\": 7,\n        \"min\": 129,\n        \"max\": 149,\n        \"num_unique_values\": 5,\n        \"samples\": [\n          134,\n          129,\n          136\n        ],\n        \"semantic_type\": \"\",\n        \"description\": \"\"\n      }\n    },\n    {\n      \"column\": \"BloodPressure\",\n      \"properties\": {\n        \"dtype\": \"number\",\n        \"std\": 33,\n        \"min\": 0,\n        \"max\": 80,\n        \"num_unique_values\": 5,\n        \"samples\": [\n          80,\n          76,\n          74\n        ],\n        \"semantic_type\": \"\",\n        \"description\": \"\"\n      }\n    },\n    {\n      \"column\": \"SkinThickness\",\n      \"properties\": {\n        \"dtype\": \"number\",\n        \"std\": 18,\n        \"min\": 0,\n        \"max\": 50,\n        \"num_unique_values\": 5,\n        \"samples\": [\n          37,\n          28,\n          50\n        ],\n        \"semantic_type\": \"\",\n        \"description\": \"\"\n      }\n    },\n    {\n      \"column\": \"Insulin\",\n      \"properties\": {\n        \"dtype\": \"number\",\n        \"std\": 136,\n        \"min\": 0,\n        \"max\": 370,\n        \"num_unique_values\": 5,\n        \"samples\": [\n          370,\n          122,\n          204\n        ],\n        \"semantic_type\": \"\",\n        \"description\": \"\"\n      }\n    },\n    {\n      \"column\": \"BMI\",\n      \"properties\": {\n        \"dtype\": \"number\",\n        \"std\": 6.323211209504236,\n        \"min\": 29.3,\n        \"max\": 46.2,\n        \"num_unique_values\": 5,\n        \"samples\": [\n          46.2,\n          35.9,\n          37.4\n        ],\n        \"semantic_type\": \"\",\n        \"description\": \"\"\n      }\n    },\n    {\n      \"column\": \"DiabetesPedigreeFunction\",\n      \"properties\": {\n        \"dtype\": \"number\",\n        \"std\": 0.06230008025677014,\n        \"min\": 0.238,\n        \"max\": 0.399,\n        \"num_unique_values\": 5,\n        \"samples\": [\n          0.238,\n          0.28,\n          0.399\n        ],\n        \"semantic_type\": \"\",\n        \"description\": \"\"\n      }\n    },\n    {\n      \"column\": \"Age\",\n      \"properties\": {\n        \"dtype\": \"number\",\n        \"std\": 10,\n        \"min\": 23,\n        \"max\": 46,\n        \"num_unique_values\": 5,\n        \"samples\": [\n          46,\n          39,\n          24\n        ],\n        \"semantic_type\": \"\",\n        \"description\": \"\"\n      }\n    },\n    {\n      \"column\": \"Outcome\",\n      \"properties\": {\n        \"dtype\": \"number\",\n        \"std\": 0,\n        \"min\": 0,\n        \"max\": 1,\n        \"num_unique_values\": 2,\n        \"samples\": [\n          0,\n          1\n        ],\n        \"semantic_type\": \"\",\n        \"description\": \"\"\n      }\n    }\n  ]\n}"
            }
          },
          "metadata": {},
          "execution_count": 4
        }
      ],
      "source": [
        "df = pd.read_csv('/content/drive/MyDrive/diabetes.csv')\n",
        "df.sample(5)"
      ]
    },
    {
      "cell_type": "code",
      "execution_count": null,
      "metadata": {
        "colab": {
          "base_uri": "https://localhost:8080/"
        },
        "id": "6scfT7mXYiLp",
        "outputId": "0e9b44d5-d720-41be-a238-9f0ef4a7ba65"
      },
      "outputs": [
        {
          "output_type": "execute_result",
          "data": {
            "text/plain": [
              "Outcome\n",
              "0    500\n",
              "1    268\n",
              "Name: count, dtype: int64"
            ]
          },
          "metadata": {},
          "execution_count": 5
        }
      ],
      "source": [
        "df.Outcome.value_counts()"
      ]
    },
    {
      "cell_type": "code",
      "execution_count": null,
      "metadata": {
        "colab": {
          "base_uri": "https://localhost:8080/"
        },
        "id": "6WP1XiA0YiLp",
        "outputId": "0c3305e3-5846-4541-cb8b-923b256c8b4e"
      },
      "outputs": [
        {
          "output_type": "execute_result",
          "data": {
            "text/plain": [
              "Index(['Pregnancies', 'Glucose', 'BloodPressure', 'SkinThickness', 'Insulin',\n",
              "       'BMI', 'DiabetesPedigreeFunction', 'Age', 'Outcome'],\n",
              "      dtype='object')"
            ]
          },
          "metadata": {},
          "execution_count": 6
        }
      ],
      "source": [
        "df.columns"
      ]
    },
    {
      "cell_type": "code",
      "execution_count": null,
      "metadata": {
        "scrolled": false,
        "colab": {
          "base_uri": "https://localhost:8080/"
        },
        "id": "TEN8ElbWYiLr",
        "outputId": "f45376e1-2a6c-438c-b0e7-c3522ef74a37"
      },
      "outputs": [
        {
          "output_type": "execute_result",
          "data": {
            "text/plain": [
              "Pregnancies                   int64\n",
              "Glucose                       int64\n",
              "BloodPressure                 int64\n",
              "SkinThickness                 int64\n",
              "Insulin                       int64\n",
              "BMI                         float64\n",
              "DiabetesPedigreeFunction    float64\n",
              "Age                           int64\n",
              "Outcome                       int64\n",
              "dtype: object"
            ]
          },
          "metadata": {},
          "execution_count": 7
        }
      ],
      "source": [
        "df.dtypes"
      ]
    },
    {
      "cell_type": "code",
      "execution_count": null,
      "metadata": {
        "colab": {
          "base_uri": "https://localhost:8080/"
        },
        "id": "5UhAr26KYiLs",
        "outputId": "e78cf124-4145-4210-9f76-429c19c1524d"
      },
      "outputs": [
        {
          "output_type": "execute_result",
          "data": {
            "text/plain": [
              "Pregnancies                 0\n",
              "Glucose                     0\n",
              "BloodPressure               0\n",
              "SkinThickness               0\n",
              "Insulin                     0\n",
              "BMI                         0\n",
              "DiabetesPedigreeFunction    0\n",
              "Age                         0\n",
              "Outcome                     0\n",
              "dtype: int64"
            ]
          },
          "metadata": {},
          "execution_count": 8
        }
      ],
      "source": [
        "df.isnull().sum()"
      ]
    },
    {
      "cell_type": "code",
      "execution_count": null,
      "metadata": {
        "colab": {
          "base_uri": "https://localhost:8080/"
        },
        "id": "mQNHykTjYiLt",
        "outputId": "4e113592-821e-4534-8cfc-9a9f31a26049"
      },
      "outputs": [
        {
          "output_type": "execute_result",
          "data": {
            "text/plain": [
              "(768, 9)"
            ]
          },
          "metadata": {},
          "execution_count": 9
        }
      ],
      "source": [
        "df.shape"
      ]
    },
    {
      "cell_type": "markdown",
      "metadata": {
        "id": "G2XbzMA-YiL6"
      },
      "source": [
        "**Train test split**"
      ]
    },
    {
      "cell_type": "code",
      "execution_count": null,
      "metadata": {
        "id": "rWUwL0C3YiL6"
      },
      "outputs": [],
      "source": [
        "X = df.drop('Outcome',axis='columns')\n",
        "y = df['Outcome']\n",
        "\n",
        "from sklearn.model_selection import train_test_split\n",
        "X_train, X_test, y_train, y_test = train_test_split(X, y, test_size=0.2, random_state=15, stratify=y)"
      ]
    },
    {
      "cell_type": "code",
      "source": [
        "def monitor_class_distribution(y):\n",
        "  class_distribution = np.bincount(y)\n",
        "  if class_distribution[1]>class_distribution[0]:\n",
        "    imbalance_ratio = class_distribution[1] / class_distribution[0]\n",
        "  else:\n",
        "    imbalance_ratio = class_distribution[0] / class_distribution[1]\n",
        "  return imbalance_ratio"
      ],
      "metadata": {
        "id": "KD8fK3GpiUSw"
      },
      "execution_count": null,
      "outputs": []
    },
    {
      "cell_type": "code",
      "source": [
        "imb_ratio=monitor_class_distribution(y)\n",
        "print(imb_ratio)"
      ],
      "metadata": {
        "colab": {
          "base_uri": "https://localhost:8080/"
        },
        "id": "16qMKQ6viUWR",
        "outputId": "26285165-38d7-48e9-ebb2-8891b0bd43c8"
      },
      "execution_count": null,
      "outputs": [
        {
          "output_type": "stream",
          "name": "stdout",
          "text": [
            "1.8656716417910448\n"
          ]
        }
      ]
    },
    {
      "cell_type": "markdown",
      "source": [
        "before applying sampling"
      ],
      "metadata": {
        "id": "po8zhwenTiNA"
      }
    },
    {
      "cell_type": "code",
      "source": [
        "import time\n",
        "import psutil\n",
        "import xgboost as xgb\n",
        "from sklearn.metrics import accuracy_score, classification_report, roc_auc_score, roc_curve\n",
        "\n",
        "def train_resource_monitor(X_train, y_train):\n",
        "  model= xgb.XGBClassifier(\n",
        "      objective='binary:logistic',\n",
        "      max_depth=3,\n",
        "      learning_rate=0.1,\n",
        "      n_estimators=100,\n",
        "      subsample=0.8,\n",
        "      colsample_bytree=0.8\n",
        "  )\n",
        "  cpu_usage = []\n",
        "  memory_usage = []\n",
        "  initial_cpu_percent = psutil.cpu_percent(interval=None)\n",
        "  initial_memory_percent = psutil.virtual_memory().percent\n",
        "  start_time = time.time()\n",
        "  model.fit(X_train, y_train)\n",
        "  end_time = time.time()\n",
        "  execution_time = end_time - start_time\n",
        "  final_cpu_percent = psutil.cpu_percent(interval=None)\n",
        "  final_memory_percent = psutil.virtual_memory().percent\n",
        "  size=len(y_train)\n",
        "  print(f\"Input size: {size}, Execution time: {execution_time:.6f} seconds\")\n",
        "  print(f\"Initial CPU Usage: {initial_cpu_percent}%\")\n",
        "  print(f\"Final CPU Usage: {final_cpu_percent}%\")\n",
        "  print(f\"Initial Memory Usage: {initial_memory_percent}%\")\n",
        "  print(f\"Final Memory Usage: {final_memory_percent}%\")\n",
        "  return model"
      ],
      "metadata": {
        "id": "eHJHIVtQJfPB"
      },
      "execution_count": null,
      "outputs": []
    },
    {
      "cell_type": "code",
      "source": [
        "model1=train_resource_monitor(X_train, y_train)"
      ],
      "metadata": {
        "colab": {
          "base_uri": "https://localhost:8080/"
        },
        "id": "em4yBAulJfSa",
        "outputId": "eae9b200-eb2d-490e-9a2b-93489e2ffb3b"
      },
      "execution_count": null,
      "outputs": [
        {
          "output_type": "stream",
          "name": "stdout",
          "text": [
            "Input size: 614, Execution time: 0.100020 seconds\n",
            "Initial CPU Usage: 49.9%\n",
            "Final CPU Usage: 84.2%\n",
            "Initial Memory Usage: 10.4%\n",
            "Final Memory Usage: 10.4%\n"
          ]
        }
      ]
    },
    {
      "cell_type": "code",
      "source": [
        "from sklearn.model_selection import KFold\n",
        "# Define the number of folds for cross-validation\n",
        "def k_fold_validation(X_train,y_train,model):\n",
        "  X_train = X_train.to_numpy()\n",
        "  y_train = y_train.to_numpy()\n",
        "  k=5\n",
        "  kf=KFold(n_splits=k,shuffle=True,random_state=42)\n",
        "  cv_scores=[]\n",
        "  cv_rocs=[]\n",
        "  for train_index,val_index in kf.split(X_train):\n",
        "    X_train_fold, X_val_fold = X_train[train_index], X_train[val_index]\n",
        "    y_train_fold, y_val_fold = y_train[train_index], y_train[val_index]\n",
        "    model.fit(X_train_fold, y_train_fold)\n",
        "    y_pred_val = model.predict(X_val_fold)\n",
        "    y_prob_roc=model.predict_proba(X_val_fold)[:, 1]\n",
        "    accuracy = accuracy_score(y_val_fold, y_pred_val)\n",
        "    roc_auc=roc_auc_score(y_val_fold, y_prob_roc)\n",
        "    cv_scores.append(accuracy)\n",
        "    cv_rocs.append(roc_auc)\n",
        "    print(\"Cross-validation scores:\", cv_scores)\n",
        "    print(\"Average cross-validation score:\", np.mean(cv_scores))\n",
        "    print(\"Cross-validation roc-auc:\", cv_rocs)\n",
        "    print(\"Average cross-validation roc-auc:\", np.mean(cv_rocs))\n",
        "    print('-----------------------------------------------------------------')"
      ],
      "metadata": {
        "id": "yFXKfSKkJff4"
      },
      "execution_count": null,
      "outputs": []
    },
    {
      "cell_type": "code",
      "source": [
        "k_fold_validation(X_train, y_train,model1)"
      ],
      "metadata": {
        "colab": {
          "base_uri": "https://localhost:8080/"
        },
        "id": "yZnqGdrmJfna",
        "outputId": "e3b6c2e7-bb9d-4730-a7bb-a51f9feb4efa"
      },
      "execution_count": null,
      "outputs": [
        {
          "output_type": "stream",
          "name": "stdout",
          "text": [
            "Cross-validation scores: [0.7642276422764228]\n",
            "Average cross-validation score: 0.7642276422764228\n",
            "Cross-validation roc-auc: [0.8099397590361446]\n",
            "Average cross-validation roc-auc: 0.8099397590361446\n",
            "-----------------------------------------------------------------\n",
            "Cross-validation scores: [0.7642276422764228, 0.7723577235772358]\n",
            "Average cross-validation score: 0.7682926829268293\n",
            "Cross-validation roc-auc: [0.8099397590361446, 0.7988505747126436]\n",
            "Average cross-validation roc-auc: 0.804395166874394\n",
            "-----------------------------------------------------------------\n",
            "Cross-validation scores: [0.7642276422764228, 0.7723577235772358, 0.7804878048780488]\n",
            "Average cross-validation score: 0.7723577235772359\n",
            "Cross-validation roc-auc: [0.8099397590361446, 0.7988505747126436, 0.8531902879728966]\n",
            "Average cross-validation roc-auc: 0.8206602072405617\n",
            "-----------------------------------------------------------------\n",
            "Cross-validation scores: [0.7642276422764228, 0.7723577235772358, 0.7804878048780488, 0.8130081300813008]\n",
            "Average cross-validation score: 0.7825203252032521\n",
            "Cross-validation roc-auc: [0.8099397590361446, 0.7988505747126436, 0.8531902879728966, 0.8594444444444446]\n",
            "Average cross-validation roc-auc: 0.8303562665415324\n",
            "-----------------------------------------------------------------\n",
            "Cross-validation scores: [0.7642276422764228, 0.7723577235772358, 0.7804878048780488, 0.8130081300813008, 0.7540983606557377]\n",
            "Average cross-validation score: 0.7768359322937493\n",
            "Cross-validation roc-auc: [0.8099397590361446, 0.7988505747126436, 0.8531902879728966, 0.8594444444444446, 0.8330419580419581]\n",
            "Average cross-validation roc-auc: 0.8308934048416174\n",
            "-----------------------------------------------------------------\n"
          ]
        }
      ]
    },
    {
      "cell_type": "code",
      "source": [
        "# Making predictions\n",
        "y_pred = model1.predict(X_test)\n",
        "\n",
        "# Evaluating the model\n",
        "accuracy = accuracy_score(y_test, y_pred)\n",
        "print(\"Accuracy:\", accuracy)"
      ],
      "metadata": {
        "colab": {
          "base_uri": "https://localhost:8080/"
        },
        "id": "SEG73kkwJt40",
        "outputId": "7ba9f1c6-14d6-4d87-a0fb-a1efbfc72128"
      },
      "execution_count": null,
      "outputs": [
        {
          "output_type": "stream",
          "name": "stdout",
          "text": [
            "Accuracy: 0.7467532467532467\n"
          ]
        }
      ]
    },
    {
      "cell_type": "code",
      "source": [
        "y_prob = model1.predict_proba(X_test)[:, 1]\n",
        "roc_auc = roc_auc_score(y_test, y_prob)\n",
        "print(\"ROC AUC Score:\", roc_auc)"
      ],
      "metadata": {
        "colab": {
          "base_uri": "https://localhost:8080/"
        },
        "id": "UEn_O3x1Uw0-",
        "outputId": "6705ed54-e726-497a-8f5e-f78c76308038"
      },
      "execution_count": null,
      "outputs": [
        {
          "output_type": "stream",
          "name": "stdout",
          "text": [
            "ROC AUC Score: 0.8068518518518518\n"
          ]
        }
      ]
    },
    {
      "cell_type": "code",
      "source": [
        "# Generate ROC curve\n",
        "fpr, tpr, _ = roc_curve(y_test, y_prob)\n",
        "\n",
        "# Plot ROC curve\n",
        "plt.figure()\n",
        "plt.plot(fpr, tpr, color='darkorange', lw=2, label='ROC curve (area = %0.2f)' % roc_auc)\n",
        "plt.plot([0, 1], [0, 1], color='navy', lw=2, linestyle='--')\n",
        "plt.xlim([0.0, 1.0])\n",
        "plt.ylim([0.0, 1.05])\n",
        "plt.xlabel('False Positive Rate')\n",
        "plt.ylabel('True Positive Rate')\n",
        "plt.title('Receiver Operating Characteristic (ROC) Curve')\n",
        "plt.legend(loc=\"lower right\")\n",
        "plt.show()"
      ],
      "metadata": {
        "colab": {
          "base_uri": "https://localhost:8080/",
          "height": 472
        },
        "id": "C3uvlgWWVDsE",
        "outputId": "e66ce0d0-d78c-46f2-ebf9-a63a1276e8d2"
      },
      "execution_count": null,
      "outputs": [
        {
          "output_type": "display_data",
          "data": {
            "text/plain": [
              "<Figure size 640x480 with 1 Axes>"
            ],
            "image/png": "[encoded data removed]"
          },
          "metadata": {}
        }
      ]
    },
    {
      "cell_type": "code",
      "source": [
        "# Print classification report\n",
        "print(\"Classification Report:\")\n",
        "print(classification_report(y_test, y_pred))"
      ],
      "metadata": {
        "colab": {
          "base_uri": "https://localhost:8080/"
        },
        "id": "0pW0jKLqVHYA",
        "outputId": "48b3fca3-da16-49f8-ffa1-1dba897b38e1"
      },
      "execution_count": null,
      "outputs": [
        {
          "output_type": "stream",
          "name": "stdout",
          "text": [
            "Classification Report:\n",
            "              precision    recall  f1-score   support\n",
            "\n",
            "           0       0.77      0.88      0.82       100\n",
            "           1       0.69      0.50      0.58        54\n",
            "\n",
            "    accuracy                           0.75       154\n",
            "   macro avg       0.73      0.69      0.70       154\n",
            "weighted avg       0.74      0.75      0.74       154\n",
            "\n"
          ]
        }
      ]
    },
    {
      "cell_type": "markdown",
      "source": [
        "applying sampling"
      ],
      "metadata": {
        "id": "E8Om1yPUTe6J"
      }
    },
    {
      "cell_type": "code",
      "source": [
        "X2 = df.drop('Outcome',axis='columns')\n",
        "y2 = df['Outcome']"
      ],
      "metadata": {
        "id": "5TMf8tv0yAPz"
      },
      "execution_count": null,
      "outputs": []
    },
    {
      "cell_type": "code",
      "source": [
        "print(X2.dtypes)"
      ],
      "metadata": {
        "colab": {
          "base_uri": "https://localhost:8080/"
        },
        "id": "THrQqjFGVhgV",
        "outputId": "85209daf-3010-45e3-f803-723abc3df49c"
      },
      "execution_count": null,
      "outputs": [
        {
          "output_type": "stream",
          "name": "stdout",
          "text": [
            "Pregnancies                   int64\n",
            "Glucose                       int64\n",
            "BloodPressure                 int64\n",
            "SkinThickness                 int64\n",
            "Insulin                       int64\n",
            "BMI                         float64\n",
            "DiabetesPedigreeFunction    float64\n",
            "Age                           int64\n",
            "dtype: object\n"
          ]
        }
      ]
    },
    {
      "cell_type": "code",
      "source": [
        "X2.shape, y2.shape"
      ],
      "metadata": {
        "colab": {
          "base_uri": "https://localhost:8080/"
        },
        "id": "IsDsF-sYZnHK",
        "outputId": "b0ee2f5d-77c8-4515-d572-f8276a02d126"
      },
      "execution_count": null,
      "outputs": [
        {
          "output_type": "execute_result",
          "data": {
            "text/plain": [
              "((768, 8), (768,))"
            ]
          },
          "metadata": {},
          "execution_count": 23
        }
      ]
    },
    {
      "cell_type": "code",
      "source": [
        "y2.value_counts()"
      ],
      "metadata": {
        "colab": {
          "base_uri": "https://localhost:8080/"
        },
        "id": "amfegDMFZuKq",
        "outputId": "b035cd7a-b695-4431-e094-ee9e61a43aa8"
      },
      "execution_count": null,
      "outputs": [
        {
          "output_type": "execute_result",
          "data": {
            "text/plain": [
              "Outcome\n",
              "0    500\n",
              "1    268\n",
              "Name: count, dtype: int64"
            ]
          },
          "metadata": {},
          "execution_count": 24
        }
      ]
    },
    {
      "cell_type": "code",
      "source": [
        "df.columns.tolist()"
      ],
      "metadata": {
        "colab": {
          "base_uri": "https://localhost:8080/"
        },
        "id": "GDVKWWGYi-9_",
        "outputId": "dace9427-eb73-42a8-dc31-3582aa38b1cc"
      },
      "execution_count": null,
      "outputs": [
        {
          "output_type": "execute_result",
          "data": {
            "text/plain": [
              "['Pregnancies',\n",
              " 'Glucose',\n",
              " 'BloodPressure',\n",
              " 'SkinThickness',\n",
              " 'Insulin',\n",
              " 'BMI',\n",
              " 'DiabetesPedigreeFunction',\n",
              " 'Age',\n",
              " 'Outcome']"
            ]
          },
          "metadata": {},
          "execution_count": 28
        }
      ]
    },
    {
      "cell_type": "code",
      "source": [
        "import pandas as pd\n",
        "from imblearn.over_sampling import KMeansSMOTE\n",
        "from imblearn.under_sampling import ClusterCentroids\n",
        "\n",
        "def adjust_sampling_parameters(X,y):\n",
        "  # Apply KMeansSMOTE to the minority class\n",
        "  kmeans_smote = KMeansSMOTE(sampling_strategy='auto', k_neighbors=8, cluster_balance_threshold=0.0)\n",
        "  X_kmeans_smote, y_kmeans_smote = kmeans_smote.fit_resample(X, y)\n",
        "\n",
        "  # Apply Cluster Centroids undersampling to the majority class\n",
        "  cluster_centroids = ClusterCentroids(sampling_strategy='auto')\n",
        "  X_cluster_centroids, y_cluster_centroids = cluster_centroids.fit_resample(X, y)\n",
        "\n",
        "  # Concatenate the resampled data\n",
        "  X_combined_resampled = np.concatenate((X_kmeans_smote, X_cluster_centroids), axis=0)\n",
        "  y_combined_resampled = np.concatenate((y_kmeans_smote, y_cluster_centroids), axis=0)\n",
        "\n",
        "  # Convert combined resampled data to DataFrame\n",
        "  combined_df = pd.DataFrame(data=X_combined_resampled, columns=X.columns.tolist())\n",
        "  combined_df['Class'] = y_combined_resampled\n",
        "  return combined_df\n",
        "\n"
      ],
      "metadata": {
        "id": "-SEzrIyWjNgI"
      },
      "execution_count": null,
      "outputs": []
    },
    {
      "cell_type": "code",
      "source": [
        "tolerance=0.2\n",
        "def class_distribution_check(combined_df):\n",
        "  X_combined = combined_df.drop('Class',axis='columns')\n",
        "  y_combined = combined_df['Class']\n",
        "  class_distribution=monitor_class_distribution(y_combined)\n",
        "  while abs(class_distribution-1)>tolerance:\n",
        "    #print(abs(class_distribution-1))\n",
        "    combine_data=adjust_sampling_parameters(X_combined, y_combined)\n",
        "    X_combined=combine_data.drop('Class',axis='columns')\n",
        "    y_combined=combine_data['Class']\n",
        "    class_distribution=monitor_class_distribution(y_combined)\n",
        "  return X_combined, y_combined"
      ],
      "metadata": {
        "id": "f-bR83lQjNjh"
      },
      "execution_count": null,
      "outputs": []
    },
    {
      "cell_type": "code",
      "source": [
        "combined_df=adjust_sampling_parameters(X2,y2)\n",
        "X_combined,y_combined=class_distribution_check(combined_df)\n",
        "X_train, X_test, y_train, y_test = train_test_split(X_combined, y_combined, test_size=0.2, random_state=42)"
      ],
      "metadata": {
        "id": "NfBhOYZqjvor"
      },
      "execution_count": null,
      "outputs": []
    },
    {
      "cell_type": "code",
      "source": [
        "print((X_combined.shape))"
      ],
      "metadata": {
        "colab": {
          "base_uri": "https://localhost:8080/"
        },
        "id": "sKMIbxLcjyCc",
        "outputId": "17d6a2aa-60e7-42c2-ee08-f3c0732d7f98"
      },
      "execution_count": null,
      "outputs": [
        {
          "output_type": "stream",
          "name": "stdout",
          "text": [
            "(1543, 8)\n"
          ]
        }
      ]
    },
    {
      "cell_type": "code",
      "source": [
        "# Training the model\n",
        "model2=train_resource_monitor(X_train, y_train)"
      ],
      "metadata": {
        "colab": {
          "base_uri": "https://localhost:8080/"
        },
        "id": "5MVDzL3TJ6MY",
        "outputId": "052f53db-b1b1-438c-8e9c-b4d668147ccc"
      },
      "execution_count": null,
      "outputs": [
        {
          "output_type": "stream",
          "name": "stdout",
          "text": [
            "Input size: 1234, Execution time: 0.359251 seconds\n",
            "Initial CPU Usage: 41.0%\n",
            "Final CPU Usage: 100.0%\n",
            "Initial Memory Usage: 13.3%\n",
            "Final Memory Usage: 13.3%\n"
          ]
        }
      ]
    },
    {
      "cell_type": "code",
      "source": [
        "k_fold_validation(X_train, y_train,model2)"
      ],
      "metadata": {
        "colab": {
          "base_uri": "https://localhost:8080/"
        },
        "id": "SvC5kXWIJ82-",
        "outputId": "4a4cd449-85a0-4914-e819-835a3eaf8cfb"
      },
      "execution_count": null,
      "outputs": [
        {
          "output_type": "stream",
          "name": "stdout",
          "text": [
            "Cross-validation scores: [0.8380566801619433]\n",
            "Average cross-validation score: 0.8380566801619433\n",
            "Cross-validation roc-auc: [0.9125984251968504]\n",
            "Average cross-validation roc-auc: 0.9125984251968504\n",
            "-----------------------------------------------------------------\n",
            "Cross-validation scores: [0.8380566801619433, 0.8097165991902834]\n",
            "Average cross-validation score: 0.8238866396761133\n",
            "Cross-validation roc-auc: [0.9125984251968504, 0.9132177112074629]\n",
            "Average cross-validation roc-auc: 0.9129080682021566\n",
            "-----------------------------------------------------------------\n",
            "Cross-validation scores: [0.8380566801619433, 0.8097165991902834, 0.8380566801619433]\n",
            "Average cross-validation score: 0.8286099865047234\n",
            "Cross-validation roc-auc: [0.9125984251968504, 0.9132177112074629, 0.9006039915966386]\n",
            "Average cross-validation roc-auc: 0.9088067093336507\n",
            "-----------------------------------------------------------------\n",
            "Cross-validation scores: [0.8380566801619433, 0.8097165991902834, 0.8380566801619433, 0.8178137651821862]\n",
            "Average cross-validation score: 0.8259109311740891\n",
            "Cross-validation roc-auc: [0.9125984251968504, 0.9132177112074629, 0.9006039915966386, 0.9096156368883641]\n",
            "Average cross-validation roc-auc: 0.909008941222329\n",
            "-----------------------------------------------------------------\n",
            "Cross-validation scores: [0.8380566801619433, 0.8097165991902834, 0.8380566801619433, 0.8178137651821862, 0.8130081300813008]\n",
            "Average cross-validation score: 0.8233303709555315\n",
            "Cross-validation roc-auc: [0.9125984251968504, 0.9132177112074629, 0.9006039915966386, 0.9096156368883641, 0.9041666666666668]\n",
            "Average cross-validation roc-auc: 0.9080404863111966\n",
            "-----------------------------------------------------------------\n"
          ]
        }
      ]
    },
    {
      "cell_type": "code",
      "source": [
        "# Making predictions\n",
        "y_pred = model2.predict(X_test)\n",
        "\n",
        "# Evaluating the model\n",
        "accuracy = accuracy_score(y_test, y_pred)\n",
        "print(\"Accuracy:\", accuracy)"
      ],
      "metadata": {
        "colab": {
          "base_uri": "https://localhost:8080/"
        },
        "id": "d8Q3571XdSYU",
        "outputId": "d961514e-cfc9-4237-f2eb-5ed03b828de3"
      },
      "execution_count": null,
      "outputs": [
        {
          "output_type": "stream",
          "name": "stdout",
          "text": [
            "Accuracy: 0.8122977346278317\n"
          ]
        }
      ]
    },
    {
      "cell_type": "code",
      "source": [
        "y_prob = model2.predict_proba(X_test)[:, 1]\n",
        "roc_auc = roc_auc_score(y_test, y_prob)\n",
        "print(\"ROC AUC Score:\", roc_auc)"
      ],
      "metadata": {
        "colab": {
          "base_uri": "https://localhost:8080/"
        },
        "id": "4pYjF42odp_u",
        "outputId": "4d709076-82fb-4a40-9415-ad56fb4a2e15"
      },
      "execution_count": null,
      "outputs": [
        {
          "output_type": "stream",
          "name": "stdout",
          "text": [
            "ROC AUC Score: 0.9034903280067283\n"
          ]
        }
      ]
    },
    {
      "cell_type": "code",
      "source": [
        "# Generate ROC curve\n",
        "fpr, tpr, _ = roc_curve(y_test, y_prob)\n",
        "\n",
        "# Plot ROC curve\n",
        "plt.figure()\n",
        "plt.plot(fpr, tpr, color='darkorange', lw=2, label='ROC curve (area = %0.2f)' % roc_auc)\n",
        "plt.plot([0, 1], [0, 1], color='navy', lw=2, linestyle='--')\n",
        "plt.xlim([0.0, 1.0])\n",
        "plt.ylim([0.0, 1.05])\n",
        "plt.xlabel('False Positive Rate')\n",
        "plt.ylabel('True Positive Rate')\n",
        "plt.title('Receiver Operating Characteristic (ROC) Curve')\n",
        "plt.legend(loc=\"lower right\")\n",
        "plt.show()"
      ],
      "metadata": {
        "colab": {
          "base_uri": "https://localhost:8080/",
          "height": 472
        },
        "id": "66bn12_Zep2s",
        "outputId": "b75f1f86-76f1-46f8-bc02-0022c7e99fa5"
      },
      "execution_count": null,
      "outputs": [
        {
          "output_type": "display_data",
          "data": {
            "text/plain": [
              "<Figure size 640x480 with 1 Axes>"
            ],
            "image/png": "[encoded data removed]"
          },
          "metadata": {}
        }
      ]
    },
    {
      "cell_type": "code",
      "source": [
        "# Print classification report\n",
        "print(\"Classification Report:\")\n",
        "print(classification_report(y_test, y_pred))"
      ],
      "metadata": {
        "colab": {
          "base_uri": "https://localhost:8080/"
        },
        "id": "CTXSaElEeqMF",
        "outputId": "7206b43d-940c-4a6e-f609-19a09d275749"
      },
      "execution_count": null,
      "outputs": [
        {
          "output_type": "stream",
          "name": "stdout",
          "text": [
            "Classification Report:\n",
            "              precision    recall  f1-score   support\n",
            "\n",
            "           0       0.83      0.81      0.82       164\n",
            "           1       0.79      0.81      0.80       145\n",
            "\n",
            "    accuracy                           0.81       309\n",
            "   macro avg       0.81      0.81      0.81       309\n",
            "weighted avg       0.81      0.81      0.81       309\n",
            "\n"
          ]
        }
      ]
    },
    {
      "cell_type": "code",
      "source": [
        "import pickle\n",
        "\n",
        "# Assuming you have trained an XGBoost model named 'model'\n",
        "\n",
        "# Save the model to a file\n",
        "with open('xgboost_model_pima.pkl', 'wb') as f:\n",
        "    pickle.dump(model2, f)"
      ],
      "metadata": {
        "id": "sdNGMjnTwUx6"
      },
      "execution_count": null,
      "outputs": []
    },
    {
      "cell_type": "code",
      "source": [
        "import pickle\n",
        "\n",
        "# Load the model from the file\n",
        "with open('xgboost_model_pima.pkl', 'rb') as f:\n",
        "    loaded_model = pickle.load(f)"
      ],
      "metadata": {
        "id": "e56vbtPMw2-q"
      },
      "execution_count": null,
      "outputs": []
    },
    {
      "cell_type": "code",
      "source": [
        "predictions = loaded_model.predict(X_test)"
      ],
      "metadata": {
        "id": "Y8T5PQHFw5Sy"
      },
      "execution_count": null,
      "outputs": []
    },
    {
      "cell_type": "code",
      "source": [
        "# Print classification report\n",
        "print(\"Classification Report:\")\n",
        "print(classification_report(y_test, predictions))"
      ],
      "metadata": {
        "colab": {
          "base_uri": "https://localhost:8080/"
        },
        "id": "O2GYyIjMw9xH",
        "outputId": "c4dc95dd-58df-415c-d378-b77c0367c92a"
      },
      "execution_count": null,
      "outputs": [
        {
          "output_type": "stream",
          "name": "stdout",
          "text": [
            "Classification Report:\n",
            "              precision    recall  f1-score   support\n",
            "\n",
            "           0       0.83      0.81      0.82       164\n",
            "           1       0.79      0.81      0.80       145\n",
            "\n",
            "    accuracy                           0.81       309\n",
            "   macro avg       0.81      0.81      0.81       309\n",
            "weighted avg       0.81      0.81      0.81       309\n",
            "\n"
          ]
        }
      ]
    },
    {
      "cell_type": "code",
      "source": [],
      "metadata": {
        "id": "bnhgAzwsxB_t"
      },
      "execution_count": null,
      "outputs": []
    }
  ],
  "metadata": {
    "kernelspec": {
      "display_name": "Python 3",
      "name": "python3"
    },
    "language_info": {
      "codemirror_mode": {
        "name": "ipython",
        "version": 3
      },
      "file_extension": ".py",
      "mimetype": "text/x-python",
      "name": "python",
      "nbconvert_exporter": "python",
      "pygments_lexer": "ipython3",
      "version": "3.8.5"
    },
    "colab": {
      "provenance": [],
      "gpuType": "T4"
    },
    "accelerator": "GPU"
  },
  "nbformat": 4,
  "nbformat_minor": 0
}