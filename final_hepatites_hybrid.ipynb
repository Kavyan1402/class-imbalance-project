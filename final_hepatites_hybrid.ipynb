{
  "cells": [
    {
      "cell_type": "code",
      "execution_count": 64,
      "metadata": {
        "id": "GvC3RAjvYiLm"
      },
      "outputs": [],
      "source": [
        "import pandas as pd\n",
        "from matplotlib import pyplot as plt\n",
        "import numpy as np"
      ]
    },
    {
      "cell_type": "code",
      "source": [
        "import warnings\n",
        "warnings.filterwarnings('ignore')"
      ],
      "metadata": {
        "id": "J2w4l1jJE2tM"
      },
      "execution_count": 65,
      "outputs": []
    },
    {
      "cell_type": "code",
      "source": [
        "!pip install ucimlrepo"
      ],
      "metadata": {
        "colab": {
          "base_uri": "https://localhost:8080/"
        },
        "id": "fwVRMfXBmPTQ",
        "outputId": "2ef05eec-9acb-4b1c-ab5c-4c193ebd4509"
      },
      "execution_count": 66,
      "outputs": [
        {
          "output_type": "stream",
          "name": "stdout",
          "text": [
            "Requirement already satisfied: ucimlrepo in /usr/local/lib/python3.10/dist-packages (0.0.6)\n"
          ]
        }
      ]
    },
    {
      "cell_type": "code",
      "source": [
        "from ucimlrepo import fetch_ucirepo\n",
        "\n",
        "# fetch dataset\n",
        "hepatitis = fetch_ucirepo(id=46)\n",
        "\n",
        "# data (as pandas dataframes)\n",
        "X = hepatitis.data.features\n",
        "y = hepatitis.data.targets\n",
        "\n",
        "# metadata\n",
        "print(hepatitis.metadata)\n",
        "\n",
        "# variable information\n",
        "print(hepatitis.variables)\n"
      ],
      "metadata": {
        "colab": {
          "base_uri": "https://localhost:8080/"
        },
        "id": "r4FJAvkGmPWt",
        "outputId": "2dce3f0f-d0a2-42c4-dff3-68b5dd5ba916"
      },
      "execution_count": 67,
      "outputs": [
        {
          "output_type": "stream",
          "name": "stdout",
          "text": [
            "{'uci_id': 46, 'name': 'Hepatitis', 'repository_url': 'https://archive.ics.uci.edu/dataset/46/hepatitis', 'data_url': 'https://archive.ics.uci.edu/static/public/46/data.csv', 'abstract': 'From G.Gong: CMU; Mostly Boolean or numeric-valued attribute types; Includes cost data (donated by Peter Turney)', 'area': 'Health and Medicine', 'tasks': ['Classification'], 'characteristics': ['Multivariate'], 'num_instances': 155, 'num_features': 19, 'feature_types': ['Categorical', 'Integer', 'Real'], 'demographics': [], 'target_col': ['Class'], 'index_col': None, 'has_missing_values': 'yes', 'missing_values_symbol': 'NaN', 'year_of_dataset_creation': 1983, 'last_updated': 'Fri Nov 03 2023', 'dataset_doi': '10.24432/C5Q59J', 'creators': [], 'intro_paper': None, 'additional_info': {'summary': 'Please ask Gail Gong for further information on this database.', 'purpose': None, 'funded_by': None, 'instances_represent': None, 'recommended_data_splits': None, 'sensitive_data': None, 'preprocessing_description': None, 'variable_info': '     1. Class: DIE, LIVE\\r\\n     2. AGE: 10, 20, 30, 40, 50, 60, 70, 80\\r\\n     3. SEX: male, female\\r\\n     4. STEROID: no, yes\\r\\n     5. ANTIVIRALS: no, yes\\r\\n     6. FATIGUE: no, yes\\r\\n     7. MALAISE: no, yes\\r\\n     8. ANOREXIA: no, yes\\r\\n     9. LIVER BIG: no, yes\\r\\n    10. LIVER FIRM: no, yes\\r\\n    11. SPLEEN PALPABLE: no, yes\\r\\n    12. SPIDERS: no, yes\\r\\n    13. ASCITES: no, yes\\r\\n    14. VARICES: no, yes\\r\\n    15. BILIRUBIN: 0.39, 0.80, 1.20, 2.00, 3.00, 4.00\\r\\n        -- see the note below\\r\\n    16. ALK PHOSPHATE: 33, 80, 120, 160, 200, 250\\r\\n    17. SGOT: 13, 100, 200, 300, 400, 500, \\r\\n    18. ALBUMIN: 2.1, 3.0, 3.8, 4.5, 5.0, 6.0\\r\\n    19. PROTIME: 10, 20, 30, 40, 50, 60, 70, 80, 90\\r\\n    20. HISTOLOGY: no, yes\\r\\n\\r\\nThe BILIRUBIN attribute appears to be continuously-valued.  I checked this with the donater, Bojan Cestnik, who replied:\\r\\n\\r\\n About the hepatitis database and BILIRUBIN problem I would like to say the following: BILIRUBIN is continuous attribute (= the number of it\\'s \"values\" in the ASDOHEPA.DAT file is negative!!!); \"values\" are quoted because when speaking about the continuous attribute there is no such thing as all possible values. However, they represent so called \"boundary\" values; according to these \"boundary\" values the attribute can be discretized. At the same time, because of the continious attribute, one can perform some other test since the continuous information is preserved. I hope that these lines have at least roughly answered your question. ', 'citation': None}}\n",
            "               name     role         type demographic description units  \\\n",
            "0             Class   Target  Categorical        None        None  None   \n",
            "1               Age  Feature      Integer        None        None  None   \n",
            "2               Sex  Feature  Categorical        None        None  None   \n",
            "3           Steroid  Feature  Categorical        None        None  None   \n",
            "4        Antivirals  Feature  Categorical        None        None  None   \n",
            "5           Fatigue  Feature  Categorical        None        None  None   \n",
            "6           Malaise  Feature  Categorical        None        None  None   \n",
            "7          Anorexia  Feature  Categorical        None        None  None   \n",
            "8         Liver Big  Feature  Categorical        None        None  None   \n",
            "9        Liver Firm  Feature  Categorical        None        None  None   \n",
            "10  Spleen Palpable  Feature  Categorical        None        None  None   \n",
            "11          Spiders  Feature  Categorical        None        None  None   \n",
            "12          Ascites  Feature  Categorical        None        None  None   \n",
            "13          Varices  Feature  Categorical        None        None  None   \n",
            "14        Bilirubin  Feature   Continuous        None        None  None   \n",
            "15    Alk Phosphate  Feature      Integer        None        None  None   \n",
            "16             Sgot  Feature      Integer        None        None  None   \n",
            "17          Albumin  Feature      Integer        None        None  None   \n",
            "18          Protime  Feature      Integer        None        None  None   \n",
            "19        Histology  Feature      Integer        None        None  None   \n",
            "\n",
            "   missing_values  \n",
            "0              no  \n",
            "1              no  \n",
            "2              no  \n",
            "3             yes  \n",
            "4              no  \n",
            "5             yes  \n",
            "6             yes  \n",
            "7             yes  \n",
            "8             yes  \n",
            "9             yes  \n",
            "10            yes  \n",
            "11            yes  \n",
            "12            yes  \n",
            "13            yes  \n",
            "14            yes  \n",
            "15            yes  \n",
            "16            yes  \n",
            "17            yes  \n",
            "18            yes  \n",
            "19             no  \n"
          ]
        }
      ]
    },
    {
      "cell_type": "code",
      "execution_count": 68,
      "metadata": {
        "scrolled": true,
        "colab": {
          "base_uri": "https://localhost:8080/"
        },
        "id": "IcMDv-q-YiLo",
        "outputId": "03569ef7-947b-4ef5-bb93-a222f80922d1"
      },
      "outputs": [
        {
          "output_type": "execute_result",
          "data": {
            "text/plain": [
              "Class\n",
              "2        123\n",
              "1         32\n",
              "Name: count, dtype: int64"
            ]
          },
          "metadata": {},
          "execution_count": 68
        }
      ],
      "source": [
        "hepatitis.data.targets.value_counts()"
      ]
    },
    {
      "cell_type": "code",
      "execution_count": 69,
      "metadata": {
        "colab": {
          "base_uri": "https://localhost:8080/"
        },
        "id": "6scfT7mXYiLp",
        "outputId": "8f36f647-5a71-493a-9181-75519c596202"
      },
      "outputs": [
        {
          "output_type": "execute_result",
          "data": {
            "text/plain": [
              "Index(['Age', 'Sex', 'Steroid', 'Antivirals', 'Fatigue', 'Malaise', 'Anorexia',\n",
              "       'Liver Big', 'Liver Firm', 'Spleen Palpable', 'Spiders', 'Ascites',\n",
              "       'Varices', 'Bilirubin', 'Alk Phosphate', 'Sgot', 'Albumin', 'Protime',\n",
              "       'Histology'],\n",
              "      dtype='object')"
            ]
          },
          "metadata": {},
          "execution_count": 69
        }
      ],
      "source": [
        "X.columns"
      ]
    },
    {
      "cell_type": "code",
      "execution_count": 70,
      "metadata": {
        "colab": {
          "base_uri": "https://localhost:8080/",
          "height": 243
        },
        "id": "6WP1XiA0YiLp",
        "outputId": "4ba0f3b3-7057-448e-ec2a-d40d97c5d061"
      },
      "outputs": [
        {
          "output_type": "execute_result",
          "data": {
            "text/plain": [
              "   Age  Sex  Steroid  Antivirals  Fatigue  Malaise  Anorexia  Liver Big  \\\n",
              "0   30    2      1.0           2      2.0      2.0       2.0        1.0   \n",
              "1   50    1      1.0           2      1.0      2.0       2.0        1.0   \n",
              "2   78    1      2.0           2      1.0      2.0       2.0        2.0   \n",
              "3   31    1      NaN           1      2.0      2.0       2.0        2.0   \n",
              "4   34    1      2.0           2      2.0      2.0       2.0        2.0   \n",
              "\n",
              "   Liver Firm  Spleen Palpable  Spiders  Ascites  Varices  Bilirubin  \\\n",
              "0         2.0              2.0      2.0      2.0      2.0        1.0   \n",
              "1         2.0              2.0      2.0      2.0      2.0        0.9   \n",
              "2         2.0              2.0      2.0      2.0      2.0        0.7   \n",
              "3         2.0              2.0      2.0      2.0      2.0        0.7   \n",
              "4         2.0              2.0      2.0      2.0      2.0        1.0   \n",
              "\n",
              "   Alk Phosphate   Sgot  Albumin  Protime  Histology  Class  \n",
              "0           85.0   18.0      4.0      NaN          1      2  \n",
              "1          135.0   42.0      3.5      NaN          1      2  \n",
              "2           96.0   32.0      4.0      NaN          1      2  \n",
              "3           46.0   52.0      4.0     80.0          1      2  \n",
              "4            NaN  200.0      4.0      NaN          1      2  "
            ],
            "text/html": [
              "\n",
              "  <div id=\"df-73b0981d-b992-488d-94c8-a42d4581e730\" class=\"colab-df-container\">\n",
              "    <div>\n",
              "<style scoped>\n",
              "    .dataframe tbody tr th:only-of-type {\n",
              "        vertical-align: middle;\n",
              "    }\n",
              "\n",
              "    .dataframe tbody tr th {\n",
              "        vertical-align: top;\n",
              "    }\n",
              "\n",
              "    .dataframe thead th {\n",
              "        text-align: right;\n",
              "    }\n",
              "</style>\n",
              "<table border=\"1\" class=\"dataframe\">\n",
              "  <thead>\n",
              "    <tr style=\"text-align: right;\">\n",
              "      <th></th>\n",
              "      <th>Age</th>\n",
              "      <th>Sex</th>\n",
              "      <th>Steroid</th>\n",
              "      <th>Antivirals</th>\n",
              "      <th>Fatigue</th>\n",
              "      <th>Malaise</th>\n",
              "      <th>Anorexia</th>\n",
              "      <th>Liver Big</th>\n",
              "      <th>Liver Firm</th>\n",
              "      <th>Spleen Palpable</th>\n",
              "      <th>Spiders</th>\n",
              "      <th>Ascites</th>\n",
              "      <th>Varices</th>\n",
              "      <th>Bilirubin</th>\n",
              "      <th>Alk Phosphate</th>\n",
              "      <th>Sgot</th>\n",
              "      <th>Albumin</th>\n",
              "      <th>Protime</th>\n",
              "      <th>Histology</th>\n",
              "      <th>Class</th>\n",
              "    </tr>\n",
              "  </thead>\n",
              "  <tbody>\n",
              "    <tr>\n",
              "      <th>0</th>\n",
              "      <td>30</td>\n",
              "      <td>2</td>\n",
              "      <td>1.0</td>\n",
              "      <td>2</td>\n",
              "      <td>2.0</td>\n",
              "      <td>2.0</td>\n",
              "      <td>2.0</td>\n",
              "      <td>1.0</td>\n",
              "      <td>2.0</td>\n",
              "      <td>2.0</td>\n",
              "      <td>2.0</td>\n",
              "      <td>2.0</td>\n",
              "      <td>2.0</td>\n",
              "      <td>1.0</td>\n",
              "      <td>85.0</td>\n",
              "      <td>18.0</td>\n",
              "      <td>4.0</td>\n",
              "      <td>NaN</td>\n",
              "      <td>1</td>\n",
              "      <td>2</td>\n",
              "    </tr>\n",
              "    <tr>\n",
              "      <th>1</th>\n",
              "      <td>50</td>\n",
              "      <td>1</td>\n",
              "      <td>1.0</td>\n",
              "      <td>2</td>\n",
              "      <td>1.0</td>\n",
              "      <td>2.0</td>\n",
              "      <td>2.0</td>\n",
              "      <td>1.0</td>\n",
              "      <td>2.0</td>\n",
              "      <td>2.0</td>\n",
              "      <td>2.0</td>\n",
              "      <td>2.0</td>\n",
              "      <td>2.0</td>\n",
              "      <td>0.9</td>\n",
              "      <td>135.0</td>\n",
              "      <td>42.0</td>\n",
              "      <td>3.5</td>\n",
              "      <td>NaN</td>\n",
              "      <td>1</td>\n",
              "      <td>2</td>\n",
              "    </tr>\n",
              "    <tr>\n",
              "      <th>2</th>\n",
              "      <td>78</td>\n",
              "      <td>1</td>\n",
              "      <td>2.0</td>\n",
              "      <td>2</td>\n",
              "      <td>1.0</td>\n",
              "      <td>2.0</td>\n",
              "      <td>2.0</td>\n",
              "      <td>2.0</td>\n",
              "      <td>2.0</td>\n",
              "      <td>2.0</td>\n",
              "      <td>2.0</td>\n",
              "      <td>2.0</td>\n",
              "      <td>2.0</td>\n",
              "      <td>0.7</td>\n",
              "      <td>96.0</td>\n",
              "      <td>32.0</td>\n",
              "      <td>4.0</td>\n",
              "      <td>NaN</td>\n",
              "      <td>1</td>\n",
              "      <td>2</td>\n",
              "    </tr>\n",
              "    <tr>\n",
              "      <th>3</th>\n",
              "      <td>31</td>\n",
              "      <td>1</td>\n",
              "      <td>NaN</td>\n",
              "      <td>1</td>\n",
              "      <td>2.0</td>\n",
              "      <td>2.0</td>\n",
              "      <td>2.0</td>\n",
              "      <td>2.0</td>\n",
              "      <td>2.0</td>\n",
              "      <td>2.0</td>\n",
              "      <td>2.0</td>\n",
              "      <td>2.0</td>\n",
              "      <td>2.0</td>\n",
              "      <td>0.7</td>\n",
              "      <td>46.0</td>\n",
              "      <td>52.0</td>\n",
              "      <td>4.0</td>\n",
              "      <td>80.0</td>\n",
              "      <td>1</td>\n",
              "      <td>2</td>\n",
              "    </tr>\n",
              "    <tr>\n",
              "      <th>4</th>\n",
              "      <td>34</td>\n",
              "      <td>1</td>\n",
              "      <td>2.0</td>\n",
              "      <td>2</td>\n",
              "      <td>2.0</td>\n",
              "      <td>2.0</td>\n",
              "      <td>2.0</td>\n",
              "      <td>2.0</td>\n",
              "      <td>2.0</td>\n",
              "      <td>2.0</td>\n",
              "      <td>2.0</td>\n",
              "      <td>2.0</td>\n",
              "      <td>2.0</td>\n",
              "      <td>1.0</td>\n",
              "      <td>NaN</td>\n",
              "      <td>200.0</td>\n",
              "      <td>4.0</td>\n",
              "      <td>NaN</td>\n",
              "      <td>1</td>\n",
              "      <td>2</td>\n",
              "    </tr>\n",
              "  </tbody>\n",
              "</table>\n",
              "</div>\n",
              "    <div class=\"colab-df-buttons\">\n",
              "\n",
              "  <div class=\"colab-df-container\">\n",
              "    <button class=\"colab-df-convert\" onclick=\"convertToInteractive('df-73b0981d-b992-488d-94c8-a42d4581e730')\"\n",
              "            title=\"Convert this dataframe to an interactive table.\"\n",
              "            style=\"display:none;\">\n",
              "\n",
              "  <svg xmlns=\"http://www.w3.org/2000/svg\" height=\"24px\" viewBox=\"0 -960 960 960\">\n",
              "    <path d=\"M120-120v-720h720v720H120Zm60-500h600v-160H180v160Zm220 220h160v-160H400v160Zm0 220h160v-160H400v160ZM180-400h160v-160H180v160Zm440 0h160v-160H620v160ZM180-180h160v-160H180v160Zm440 0h160v-160H620v160Z\"/>\n",
              "  </svg>\n",
              "    </button>\n",
              "\n",
              "  <style>\n",
              "    .colab-df-container {\n",
              "      display:flex;\n",
              "      gap: 12px;\n",
              "    }\n",
              "\n",
              "    .colab-df-convert {\n",
              "      background-color: #E8F0FE;\n",
              "      border: none;\n",
              "      border-radius: 50%;\n",
              "      cursor: pointer;\n",
              "      display: none;\n",
              "      fill: #1967D2;\n",
              "      height: 32px;\n",
              "      padding: 0 0 0 0;\n",
              "      width: 32px;\n",
              "    }\n",
              "\n",
              "    .colab-df-convert:hover {\n",
              "      background-color: #E2EBFA;\n",
              "      box-shadow: 0px 1px 2px rgba(60, 64, 67, 0.3), 0px 1px 3px 1px rgba(60, 64, 67, 0.15);\n",
              "      fill: #174EA6;\n",
              "    }\n",
              "\n",
              "    .colab-df-buttons div {\n",
              "      margin-bottom: 4px;\n",
              "    }\n",
              "\n",
              "    [theme=dark] .colab-df-convert {\n",
              "      background-color: #3B4455;\n",
              "      fill: #D2E3FC;\n",
              "    }\n",
              "\n",
              "    [theme=dark] .colab-df-convert:hover {\n",
              "      background-color: #434B5C;\n",
              "      box-shadow: 0px 1px 3px 1px rgba(0, 0, 0, 0.15);\n",
              "      filter: drop-shadow(0px 1px 2px rgba(0, 0, 0, 0.3));\n",
              "      fill: #FFFFFF;\n",
              "    }\n",
              "  </style>\n",
              "\n",
              "    <script>\n",
              "      const buttonEl =\n",
              "        document.querySelector('#df-73b0981d-b992-488d-94c8-a42d4581e730 button.colab-df-convert');\n",
              "      buttonEl.style.display =\n",
              "        google.colab.kernel.accessAllowed ? 'block' : 'none';\n",
              "\n",
              "      async function convertToInteractive(key) {\n",
              "        const element = document.querySelector('#df-73b0981d-b992-488d-94c8-a42d4581e730');\n",
              "        const dataTable =\n",
              "          await google.colab.kernel.invokeFunction('convertToInteractive',\n",
              "                                                    [key], {});\n",
              "        if (!dataTable) return;\n",
              "\n",
              "        const docLinkHtml = 'Like what you see? Visit the ' +\n",
              "          '<a target=\"_blank\" href=https://colab.research.google.com/notebooks/data_table.ipynb>data table notebook</a>'\n",
              "          + ' to learn more about interactive tables.';\n",
              "        element.innerHTML = '';\n",
              "        dataTable['output_type'] = 'display_data';\n",
              "        await google.colab.output.renderOutput(dataTable, element);\n",
              "        const docLink = document.createElement('div');\n",
              "        docLink.innerHTML = docLinkHtml;\n",
              "        element.appendChild(docLink);\n",
              "      }\n",
              "    </script>\n",
              "  </div>\n",
              "\n",
              "\n",
              "<div id=\"df-e5e8c9db-814e-47ba-aa02-6c3c8d598cb1\">\n",
              "  <button class=\"colab-df-quickchart\" onclick=\"quickchart('df-e5e8c9db-814e-47ba-aa02-6c3c8d598cb1')\"\n",
              "            title=\"Suggest charts\"\n",
              "            style=\"display:none;\">\n",
              "\n",
              "<svg xmlns=\"http://www.w3.org/2000/svg\" height=\"24px\"viewBox=\"0 0 24 24\"\n",
              "     width=\"24px\">\n",
              "    <g>\n",
              "        <path d=\"M19 3H5c-1.1 0-2 .9-2 2v14c0 1.1.9 2 2 2h14c1.1 0 2-.9 2-2V5c0-1.1-.9-2-2-2zM9 17H7v-7h2v7zm4 0h-2V7h2v10zm4 0h-2v-4h2v4z\"/>\n",
              "    </g>\n",
              "</svg>\n",
              "  </button>\n",
              "\n",
              "<style>\n",
              "  .colab-df-quickchart {\n",
              "      --bg-color: #E8F0FE;\n",
              "      --fill-color: #1967D2;\n",
              "      --hover-bg-color: #E2EBFA;\n",
              "      --hover-fill-color: #174EA6;\n",
              "      --disabled-fill-color: #AAA;\n",
              "      --disabled-bg-color: #DDD;\n",
              "  }\n",
              "\n",
              "  [theme=dark] .colab-df-quickchart {\n",
              "      --bg-color: #3B4455;\n",
              "      --fill-color: #D2E3FC;\n",
              "      --hover-bg-color: #434B5C;\n",
              "      --hover-fill-color: #FFFFFF;\n",
              "      --disabled-bg-color: #3B4455;\n",
              "      --disabled-fill-color: #666;\n",
              "  }\n",
              "\n",
              "  .colab-df-quickchart {\n",
              "    background-color: var(--bg-color);\n",
              "    border: none;\n",
              "    border-radius: 50%;\n",
              "    cursor: pointer;\n",
              "    display: none;\n",
              "    fill: var(--fill-color);\n",
              "    height: 32px;\n",
              "    padding: 0;\n",
              "    width: 32px;\n",
              "  }\n",
              "\n",
              "  .colab-df-quickchart:hover {\n",
              "    background-color: var(--hover-bg-color);\n",
              "    box-shadow: 0 1px 2px rgba(60, 64, 67, 0.3), 0 1px 3px 1px rgba(60, 64, 67, 0.15);\n",
              "    fill: var(--button-hover-fill-color);\n",
              "  }\n",
              "\n",
              "  .colab-df-quickchart-complete:disabled,\n",
              "  .colab-df-quickchart-complete:disabled:hover {\n",
              "    background-color: var(--disabled-bg-color);\n",
              "    fill: var(--disabled-fill-color);\n",
              "    box-shadow: none;\n",
              "  }\n",
              "\n",
              "  .colab-df-spinner {\n",
              "    border: 2px solid var(--fill-color);\n",
              "    border-color: transparent;\n",
              "    border-bottom-color: var(--fill-color);\n",
              "    animation:\n",
              "      spin 1s steps(1) infinite;\n",
              "  }\n",
              "\n",
              "  @keyframes spin {\n",
              "    0% {\n",
              "      border-color: transparent;\n",
              "      border-bottom-color: var(--fill-color);\n",
              "      border-left-color: var(--fill-color);\n",
              "    }\n",
              "    20% {\n",
              "      border-color: transparent;\n",
              "      border-left-color: var(--fill-color);\n",
              "      border-top-color: var(--fill-color);\n",
              "    }\n",
              "    30% {\n",
              "      border-color: transparent;\n",
              "      border-left-color: var(--fill-color);\n",
              "      border-top-color: var(--fill-color);\n",
              "      border-right-color: var(--fill-color);\n",
              "    }\n",
              "    40% {\n",
              "      border-color: transparent;\n",
              "      border-right-color: var(--fill-color);\n",
              "      border-top-color: var(--fill-color);\n",
              "    }\n",
              "    60% {\n",
              "      border-color: transparent;\n",
              "      border-right-color: var(--fill-color);\n",
              "    }\n",
              "    80% {\n",
              "      border-color: transparent;\n",
              "      border-right-color: var(--fill-color);\n",
              "      border-bottom-color: var(--fill-color);\n",
              "    }\n",
              "    90% {\n",
              "      border-color: transparent;\n",
              "      border-bottom-color: var(--fill-color);\n",
              "    }\n",
              "  }\n",
              "</style>\n",
              "\n",
              "  <script>\n",
              "    async function quickchart(key) {\n",
              "      const quickchartButtonEl =\n",
              "        document.querySelector('#' + key + ' button');\n",
              "      quickchartButtonEl.disabled = true;  // To prevent multiple clicks.\n",
              "      quickchartButtonEl.classList.add('colab-df-spinner');\n",
              "      try {\n",
              "        const charts = await google.colab.kernel.invokeFunction(\n",
              "            'suggestCharts', [key], {});\n",
              "      } catch (error) {\n",
              "        console.error('Error during call to suggestCharts:', error);\n",
              "      }\n",
              "      quickchartButtonEl.classList.remove('colab-df-spinner');\n",
              "      quickchartButtonEl.classList.add('colab-df-quickchart-complete');\n",
              "    }\n",
              "    (() => {\n",
              "      let quickchartButtonEl =\n",
              "        document.querySelector('#df-e5e8c9db-814e-47ba-aa02-6c3c8d598cb1 button');\n",
              "      quickchartButtonEl.style.display =\n",
              "        google.colab.kernel.accessAllowed ? 'block' : 'none';\n",
              "    })();\n",
              "  </script>\n",
              "</div>\n",
              "\n",
              "    </div>\n",
              "  </div>\n"
            ],
            "application/vnd.google.colaboratory.intrinsic+json": {
              "type": "dataframe",
              "variable_name": "df",
              "summary": "{\n  \"name\": \"df\",\n  \"rows\": 155,\n  \"fields\": [\n    {\n      \"column\": \"Age\",\n      \"properties\": {\n        \"dtype\": \"number\",\n        \"std\": 12,\n        \"min\": 7,\n        \"max\": 78,\n        \"num_unique_values\": 49,\n        \"samples\": [\n          40,\n          70,\n          53\n        ],\n        \"semantic_type\": \"\",\n        \"description\": \"\"\n      }\n    },\n    {\n      \"column\": \"Sex\",\n      \"properties\": {\n        \"dtype\": \"number\",\n        \"std\": 0,\n        \"min\": 1,\n        \"max\": 2,\n        \"num_unique_values\": 2,\n        \"samples\": [\n          1,\n          2\n        ],\n        \"semantic_type\": \"\",\n        \"description\": \"\"\n      }\n    },\n    {\n      \"column\": \"Steroid\",\n      \"properties\": {\n        \"dtype\": \"number\",\n        \"std\": 0.5015890207223368,\n        \"min\": 1.0,\n        \"max\": 2.0,\n        \"num_unique_values\": 2,\n        \"samples\": [\n          2.0,\n          1.0\n        ],\n        \"semantic_type\": \"\",\n        \"description\": \"\"\n      }\n    },\n    {\n      \"column\": \"Antivirals\",\n      \"properties\": {\n        \"dtype\": \"number\",\n        \"std\": 0,\n        \"min\": 1,\n        \"max\": 2,\n        \"num_unique_values\": 2,\n        \"samples\": [\n          1,\n          2\n        ],\n        \"semantic_type\": \"\",\n        \"description\": \"\"\n      }\n    },\n    {\n      \"column\": \"Fatigue\",\n      \"properties\": {\n        \"dtype\": \"number\",\n        \"std\": 0.4787301767423468,\n        \"min\": 1.0,\n        \"max\": 2.0,\n        \"num_unique_values\": 2,\n        \"samples\": [\n          1.0,\n          2.0\n        ],\n        \"semantic_type\": \"\",\n        \"description\": \"\"\n      }\n    },\n    {\n      \"column\": \"Malaise\",\n      \"properties\": {\n        \"dtype\": \"number\",\n        \"std\": 0.49068221374600685,\n        \"min\": 1.0,\n        \"max\": 2.0,\n        \"num_unique_values\": 2,\n        \"samples\": [\n          1.0,\n          2.0\n        ],\n        \"semantic_type\": \"\",\n        \"description\": \"\"\n      }\n    },\n    {\n      \"column\": \"Anorexia\",\n      \"properties\": {\n        \"dtype\": \"number\",\n        \"std\": 0.40705100249439885,\n        \"min\": 1.0,\n        \"max\": 2.0,\n        \"num_unique_values\": 2,\n        \"samples\": [\n          1.0,\n          2.0\n        ],\n        \"semantic_type\": \"\",\n        \"description\": \"\"\n      }\n    },\n    {\n      \"column\": \"Liver Big\",\n      \"properties\": {\n        \"dtype\": \"number\",\n        \"std\": 0.3790490217894517,\n        \"min\": 1.0,\n        \"max\": 2.0,\n        \"num_unique_values\": 2,\n        \"samples\": [\n          2.0,\n          1.0\n        ],\n        \"semantic_type\": \"\",\n        \"description\": \"\"\n      }\n    },\n    {\n      \"column\": \"Liver Firm\",\n      \"properties\": {\n        \"dtype\": \"number\",\n        \"std\": 0.4947274449181537,\n        \"min\": 1.0,\n        \"max\": 2.0,\n        \"num_unique_values\": 2,\n        \"samples\": [\n          1.0,\n          2.0\n        ],\n        \"semantic_type\": \"\",\n        \"description\": \"\"\n      }\n    },\n    {\n      \"column\": \"Spleen Palpable\",\n      \"properties\": {\n        \"dtype\": \"number\",\n        \"std\": 0.4013400372543907,\n        \"min\": 1.0,\n        \"max\": 2.0,\n        \"num_unique_values\": 2,\n        \"samples\": [\n          1.0,\n          2.0\n        ],\n        \"semantic_type\": \"\",\n        \"description\": \"\"\n      }\n    },\n    {\n      \"column\": \"Spiders\",\n      \"properties\": {\n        \"dtype\": \"number\",\n        \"std\": 0.4752957397962414,\n        \"min\": 1.0,\n        \"max\": 2.0,\n        \"num_unique_values\": 2,\n        \"samples\": [\n          1.0,\n          2.0\n        ],\n        \"semantic_type\": \"\",\n        \"description\": \"\"\n      }\n    },\n    {\n      \"column\": \"Ascites\",\n      \"properties\": {\n        \"dtype\": \"number\",\n        \"std\": 0.34107344692436553,\n        \"min\": 1.0,\n        \"max\": 2.0,\n        \"num_unique_values\": 2,\n        \"samples\": [\n          1.0,\n          2.0\n        ],\n        \"semantic_type\": \"\",\n        \"description\": \"\"\n      }\n    },\n    {\n      \"column\": \"Varices\",\n      \"properties\": {\n        \"dtype\": \"number\",\n        \"std\": 0.3260501875972698,\n        \"min\": 1.0,\n        \"max\": 2.0,\n        \"num_unique_values\": 2,\n        \"samples\": [\n          1.0,\n          2.0\n        ],\n        \"semantic_type\": \"\",\n        \"description\": \"\"\n      }\n    },\n    {\n      \"column\": \"Bilirubin\",\n      \"properties\": {\n        \"dtype\": \"number\",\n        \"std\": 1.2121490330948563,\n        \"min\": 0.3,\n        \"max\": 8.0,\n        \"num_unique_values\": 34,\n        \"samples\": [\n          1.8,\n          2.8\n        ],\n        \"semantic_type\": \"\",\n        \"description\": \"\"\n      }\n    },\n    {\n      \"column\": \"Alk Phosphate\",\n      \"properties\": {\n        \"dtype\": \"number\",\n        \"std\": 51.50810877756307,\n        \"min\": 26.0,\n        \"max\": 295.0,\n        \"num_unique_values\": 83,\n        \"samples\": [\n          191.0,\n          85.0\n        ],\n        \"semantic_type\": \"\",\n        \"description\": \"\"\n      }\n    },\n    {\n      \"column\": \"Sgot\",\n      \"properties\": {\n        \"dtype\": \"number\",\n        \"std\": 89.65088973850219,\n        \"min\": 14.0,\n        \"max\": 648.0,\n        \"num_unique_values\": 84,\n        \"samples\": [\n          278.0,\n          18.0\n        ],\n        \"semantic_type\": \"\",\n        \"description\": \"\"\n      }\n    },\n    {\n      \"column\": \"Albumin\",\n      \"properties\": {\n        \"dtype\": \"number\",\n        \"std\": 0.6515230826162132,\n        \"min\": 2.1,\n        \"max\": 6.4,\n        \"num_unique_values\": 29,\n        \"samples\": [\n          2.4,\n          4.5\n        ],\n        \"semantic_type\": \"\",\n        \"description\": \"\"\n      }\n    },\n    {\n      \"column\": \"Protime\",\n      \"properties\": {\n        \"dtype\": \"number\",\n        \"std\": 22.875243744811442,\n        \"min\": 0.0,\n        \"max\": 100.0,\n        \"num_unique_values\": 44,\n        \"samples\": [\n          30.0,\n          66.0\n        ],\n        \"semantic_type\": \"\",\n        \"description\": \"\"\n      }\n    },\n    {\n      \"column\": \"Histology\",\n      \"properties\": {\n        \"dtype\": \"number\",\n        \"std\": 0,\n        \"min\": 1,\n        \"max\": 2,\n        \"num_unique_values\": 2,\n        \"samples\": [\n          2,\n          1\n        ],\n        \"semantic_type\": \"\",\n        \"description\": \"\"\n      }\n    },\n    {\n      \"column\": \"Class\",\n      \"properties\": {\n        \"dtype\": \"number\",\n        \"std\": 0,\n        \"min\": 1,\n        \"max\": 2,\n        \"num_unique_values\": 2,\n        \"samples\": [\n          1,\n          2\n        ],\n        \"semantic_type\": \"\",\n        \"description\": \"\"\n      }\n    }\n  ]\n}"
            }
          },
          "metadata": {},
          "execution_count": 70
        }
      ],
      "source": [
        "df=pd.concat([X, y], axis=1)\n",
        "df.head()"
      ]
    },
    {
      "cell_type": "code",
      "execution_count": 71,
      "metadata": {
        "scrolled": false,
        "colab": {
          "base_uri": "https://localhost:8080/"
        },
        "id": "TEN8ElbWYiLr",
        "outputId": "ddaf6ef4-6bea-4b40-889a-27e4470b0c41"
      },
      "outputs": [
        {
          "output_type": "execute_result",
          "data": {
            "text/plain": [
              "Age                  int64\n",
              "Sex                  int64\n",
              "Steroid            float64\n",
              "Antivirals           int64\n",
              "Fatigue            float64\n",
              "Malaise            float64\n",
              "Anorexia           float64\n",
              "Liver Big          float64\n",
              "Liver Firm         float64\n",
              "Spleen Palpable    float64\n",
              "Spiders            float64\n",
              "Ascites            float64\n",
              "Varices            float64\n",
              "Bilirubin          float64\n",
              "Alk Phosphate      float64\n",
              "Sgot               float64\n",
              "Albumin            float64\n",
              "Protime            float64\n",
              "Histology            int64\n",
              "Class                int64\n",
              "dtype: object"
            ]
          },
          "metadata": {},
          "execution_count": 71
        }
      ],
      "source": [
        "df.dtypes"
      ]
    },
    {
      "cell_type": "code",
      "execution_count": 72,
      "metadata": {
        "colab": {
          "base_uri": "https://localhost:8080/"
        },
        "id": "5UhAr26KYiLs",
        "outputId": "c03c945a-3742-4802-ce89-68e6ae7ffdb1"
      },
      "outputs": [
        {
          "output_type": "execute_result",
          "data": {
            "text/plain": [
              "Age                 0\n",
              "Sex                 0\n",
              "Steroid             1\n",
              "Antivirals          0\n",
              "Fatigue             1\n",
              "Malaise             1\n",
              "Anorexia            1\n",
              "Liver Big          10\n",
              "Liver Firm         11\n",
              "Spleen Palpable     5\n",
              "Spiders             5\n",
              "Ascites             5\n",
              "Varices             5\n",
              "Bilirubin           6\n",
              "Alk Phosphate      29\n",
              "Sgot                4\n",
              "Albumin            16\n",
              "Protime            67\n",
              "Histology           0\n",
              "Class               0\n",
              "dtype: int64"
            ]
          },
          "metadata": {},
          "execution_count": 72
        }
      ],
      "source": [
        "df.isnull().sum()"
      ]
    },
    {
      "cell_type": "code",
      "execution_count": 73,
      "metadata": {
        "colab": {
          "base_uri": "https://localhost:8080/"
        },
        "id": "mQNHykTjYiLt",
        "outputId": "1d62b8da-a91a-4415-f3c3-ebb24ba47c13"
      },
      "outputs": [
        {
          "output_type": "execute_result",
          "data": {
            "text/plain": [
              "Age                0\n",
              "Sex                0\n",
              "Steroid            0\n",
              "Antivirals         0\n",
              "Fatigue            0\n",
              "Malaise            0\n",
              "Anorexia           0\n",
              "Liver Big          0\n",
              "Liver Firm         0\n",
              "Spleen Palpable    0\n",
              "Spiders            0\n",
              "Ascites            0\n",
              "Varices            0\n",
              "Bilirubin          0\n",
              "Alk Phosphate      0\n",
              "Sgot               0\n",
              "Albumin            0\n",
              "Protime            0\n",
              "Histology          0\n",
              "Class              0\n",
              "dtype: int64"
            ]
          },
          "metadata": {},
          "execution_count": 73
        }
      ],
      "source": [
        "df=df.fillna(df.mean())\n",
        "df.isnull().sum()"
      ]
    },
    {
      "cell_type": "code",
      "source": [
        "df.isnull().sum()"
      ],
      "metadata": {
        "colab": {
          "base_uri": "https://localhost:8080/"
        },
        "id": "WfhgGaBg6QJh",
        "outputId": "9d16f08a-d1e8-4a32-e53c-c18da2b4b2cd"
      },
      "execution_count": 74,
      "outputs": [
        {
          "output_type": "execute_result",
          "data": {
            "text/plain": [
              "Age                0\n",
              "Sex                0\n",
              "Steroid            0\n",
              "Antivirals         0\n",
              "Fatigue            0\n",
              "Malaise            0\n",
              "Anorexia           0\n",
              "Liver Big          0\n",
              "Liver Firm         0\n",
              "Spleen Palpable    0\n",
              "Spiders            0\n",
              "Ascites            0\n",
              "Varices            0\n",
              "Bilirubin          0\n",
              "Alk Phosphate      0\n",
              "Sgot               0\n",
              "Albumin            0\n",
              "Protime            0\n",
              "Histology          0\n",
              "Class              0\n",
              "dtype: int64"
            ]
          },
          "metadata": {},
          "execution_count": 74
        }
      ]
    },
    {
      "cell_type": "code",
      "source": [
        "df['Class'].unique()"
      ],
      "metadata": {
        "colab": {
          "base_uri": "https://localhost:8080/"
        },
        "id": "mVInzAJ89Fdz",
        "outputId": "ebb7eac7-08c2-4395-a9b6-737ef7dacae2"
      },
      "execution_count": 75,
      "outputs": [
        {
          "output_type": "execute_result",
          "data": {
            "text/plain": [
              "array([2, 1])"
            ]
          },
          "metadata": {},
          "execution_count": 75
        }
      ]
    },
    {
      "cell_type": "code",
      "source": [
        "df['Class'] = df['Class'].replace({1: 0, 2: 1})\n",
        "df['Class'].unique()"
      ],
      "metadata": {
        "colab": {
          "base_uri": "https://localhost:8080/"
        },
        "id": "c2czhyLK9AKf",
        "outputId": "50ccdfa7-1383-482e-de9c-219acc27d528"
      },
      "execution_count": 76,
      "outputs": [
        {
          "output_type": "execute_result",
          "data": {
            "text/plain": [
              "array([1, 0])"
            ]
          },
          "metadata": {},
          "execution_count": 76
        }
      ]
    },
    {
      "cell_type": "code",
      "source": [
        "df['Class'].unique()"
      ],
      "metadata": {
        "colab": {
          "base_uri": "https://localhost:8080/"
        },
        "id": "RfHn34srAdDB",
        "outputId": "73ba65f2-8456-44f3-d7b7-628d1c337cd9"
      },
      "execution_count": 77,
      "outputs": [
        {
          "output_type": "execute_result",
          "data": {
            "text/plain": [
              "array([1, 0])"
            ]
          },
          "metadata": {},
          "execution_count": 77
        }
      ]
    },
    {
      "cell_type": "markdown",
      "metadata": {
        "id": "G2XbzMA-YiL6"
      },
      "source": [
        "**Train test split**"
      ]
    },
    {
      "cell_type": "code",
      "execution_count": 105,
      "metadata": {
        "id": "rWUwL0C3YiL6"
      },
      "outputs": [],
      "source": [
        "X = df.drop('Class',axis='columns')\n",
        "y = df['Class']\n",
        "\n",
        "from sklearn.model_selection import train_test_split\n",
        "X_train, X_test, y_train, y_test = train_test_split(X, y, test_size=0.2, random_state=15, stratify=y)"
      ]
    },
    {
      "cell_type": "code",
      "source": [
        "def monitor_class_distribution(y):\n",
        "  class_distribution = np.bincount(y)\n",
        "  if class_distribution[1]>class_distribution[0]:\n",
        "    imbalance_ratio = class_distribution[1] / class_distribution[0]\n",
        "  else:\n",
        "    imbalance_ratio = class_distribution[0] / class_distribution[1]\n",
        "  return imbalance_ratio"
      ],
      "metadata": {
        "id": "ZfZHkQ8HrNWc"
      },
      "execution_count": 106,
      "outputs": []
    },
    {
      "cell_type": "code",
      "source": [
        "imb_ratio=monitor_class_distribution(y)\n",
        "print(imb_ratio)"
      ],
      "metadata": {
        "colab": {
          "base_uri": "https://localhost:8080/"
        },
        "id": "qJj--X5z6NXM",
        "outputId": "b72c2c49-c6c5-4e9c-ed61-9bc89cf56887"
      },
      "execution_count": 107,
      "outputs": [
        {
          "output_type": "stream",
          "name": "stdout",
          "text": [
            "3.84375\n"
          ]
        }
      ]
    },
    {
      "cell_type": "markdown",
      "source": [
        "before applying sampling"
      ],
      "metadata": {
        "id": "po8zhwenTiNA"
      }
    },
    {
      "cell_type": "code",
      "source": [
        "import time\n",
        "import psutil\n",
        "import xgboost as xgb\n",
        "from sklearn.metrics import accuracy_score, classification_report, roc_auc_score, roc_curve\n",
        "\n",
        "\n",
        "def train_resource_monitor(X_train, y_train):\n",
        "  model= xgb.XGBClassifier(\n",
        "      objective='binary:logistic',\n",
        "      max_depth=3,\n",
        "      learning_rate=0.1,\n",
        "      n_estimators=100,\n",
        "      subsample=0.8,\n",
        "      colsample_bytree=0.8\n",
        "  )\n",
        "  cpu_usage = []\n",
        "  memory_usage = []\n",
        "  initial_cpu_percent = psutil.cpu_percent(interval=None)\n",
        "  initial_memory_percent = psutil.virtual_memory().percent\n",
        "  start_time = time.time()\n",
        "  model.fit(X_train, y_train)\n",
        "  end_time = time.time()\n",
        "  execution_time = end_time - start_time\n",
        "  final_cpu_percent = psutil.cpu_percent(interval=None)\n",
        "  final_memory_percent = psutil.virtual_memory().percent\n",
        "  size=len(y_train)\n",
        "  print(f\"Input size: {size}, Execution time: {execution_time:.6f} seconds\")\n",
        "  print(f\"Initial CPU Usage: {initial_cpu_percent}%\")\n",
        "  print(f\"Final CPU Usage: {final_cpu_percent}%\")\n",
        "  print(f\"Initial Memory Usage: {initial_memory_percent}%\")\n",
        "  print(f\"Final Memory Usage: {final_memory_percent}%\")\n",
        "  return model"
      ],
      "metadata": {
        "id": "OJvq4O9Vwd7n"
      },
      "execution_count": 80,
      "outputs": []
    },
    {
      "cell_type": "code",
      "source": [
        "model1=train_resource_monitor(X_train, y_train)"
      ],
      "metadata": {
        "colab": {
          "base_uri": "https://localhost:8080/"
        },
        "id": "ztbz_Z_6Qvw4",
        "outputId": "64c856b8-7591-4856-e347-fd5fe256add6"
      },
      "execution_count": 81,
      "outputs": [
        {
          "output_type": "stream",
          "name": "stdout",
          "text": [
            "Input size: 124, Execution time: 0.190454 seconds\n",
            "Initial CPU Usage: 33.8%\n",
            "Final CPU Usage: 100.0%\n",
            "Initial Memory Usage: 8.4%\n",
            "Final Memory Usage: 8.4%\n"
          ]
        }
      ]
    },
    {
      "cell_type": "code",
      "source": [
        "from sklearn.model_selection import KFold\n",
        "# Define the number of folds for cross-validation\n",
        "def k_fold_validation(X_train,y_train,model):\n",
        "  X_train = X_train.to_numpy()\n",
        "  y_train = y_train.to_numpy()\n",
        "  k=5\n",
        "  kf=KFold(n_splits=k,shuffle=True,random_state=42)\n",
        "  cv_scores=[]\n",
        "  cv_rocs=[]\n",
        "  for train_index,val_index in kf.split(X_train):\n",
        "    X_train_fold, X_val_fold = X_train[train_index], X_train[val_index]\n",
        "    y_train_fold, y_val_fold = y_train[train_index], y_train[val_index]\n",
        "    model.fit(X_train_fold, y_train_fold)\n",
        "    y_pred_val = model.predict(X_val_fold)\n",
        "    y_prob_roc=model.predict_proba(X_val_fold)[:, 1]\n",
        "    accuracy = accuracy_score(y_val_fold, y_pred_val)\n",
        "    roc_auc=roc_auc_score(y_val_fold, y_prob_roc)\n",
        "    cv_scores.append(accuracy)\n",
        "    cv_rocs.append(roc_auc)\n",
        "    print(\"Cross-validation scores:\", cv_scores)\n",
        "    print(\"Average cross-validation score:\", np.mean(cv_scores))\n",
        "    print(\"Cross-validation roc-auc:\", cv_rocs)\n",
        "    print(\"Average cross-validation roc-auc:\", np.mean(cv_rocs))\n",
        "    print('-----------------------------------------------------------------')\n"
      ],
      "metadata": {
        "id": "RdZJ-eEHWu4V"
      },
      "execution_count": 82,
      "outputs": []
    },
    {
      "cell_type": "code",
      "source": [
        "#print(type(y_train))\n",
        "k_fold_validation(X_train, y_train,model1)"
      ],
      "metadata": {
        "colab": {
          "base_uri": "https://localhost:8080/"
        },
        "id": "izjNsGZBXoLG",
        "outputId": "4988d18c-462d-41fe-d82e-e18127e8adc3"
      },
      "execution_count": 83,
      "outputs": [
        {
          "output_type": "stream",
          "name": "stdout",
          "text": [
            "Cross-validation scores: [0.84]\n",
            "Average cross-validation score: 0.84\n",
            "Cross-validation roc-auc: [0.7380952380952381]\n",
            "Average cross-validation roc-auc: 0.7380952380952381\n",
            "-----------------------------------------------------------------\n",
            "Cross-validation scores: [0.84, 0.88]\n",
            "Average cross-validation score: 0.86\n",
            "Cross-validation roc-auc: [0.7380952380952381, 0.9236111111111112]\n",
            "Average cross-validation roc-auc: 0.8308531746031746\n",
            "-----------------------------------------------------------------\n",
            "Cross-validation scores: [0.84, 0.88, 0.88]\n",
            "Average cross-validation score: 0.8666666666666667\n",
            "Cross-validation roc-auc: [0.7380952380952381, 0.9236111111111112, 0.9130434782608696]\n",
            "Average cross-validation roc-auc: 0.8582499424890729\n",
            "-----------------------------------------------------------------\n",
            "Cross-validation scores: [0.84, 0.88, 0.88, 0.88]\n",
            "Average cross-validation score: 0.87\n",
            "Cross-validation roc-auc: [0.7380952380952381, 0.9236111111111112, 0.9130434782608696, 1.0]\n",
            "Average cross-validation roc-auc: 0.8936874568668047\n",
            "-----------------------------------------------------------------\n",
            "Cross-validation scores: [0.84, 0.88, 0.88, 0.88, 0.75]\n",
            "Average cross-validation score: 0.8460000000000001\n",
            "Cross-validation roc-auc: [0.7380952380952381, 0.9236111111111112, 0.9130434782608696, 1.0, 0.7815126050420168]\n",
            "Average cross-validation roc-auc: 0.8712524865018472\n",
            "-----------------------------------------------------------------\n"
          ]
        }
      ]
    },
    {
      "cell_type": "code",
      "source": [
        "# Making predictions\n",
        "y_pred = model1.predict(X_test)\n",
        "\n",
        "# Evaluating the model\n",
        "accuracy = accuracy_score(y_test, y_pred)\n",
        "print(\"Accuracy:\", accuracy)"
      ],
      "metadata": {
        "colab": {
          "base_uri": "https://localhost:8080/"
        },
        "id": "eSClfJeLWs6p",
        "outputId": "037886cf-2cf5-405a-8136-d4f9c62d32e2"
      },
      "execution_count": 84,
      "outputs": [
        {
          "output_type": "stream",
          "name": "stdout",
          "text": [
            "Accuracy: 0.8387096774193549\n"
          ]
        }
      ]
    },
    {
      "cell_type": "code",
      "source": [
        "y_prob = model1.predict_proba(X_test)[:, 1]\n",
        "roc_auc = roc_auc_score(y_test, y_prob)\n",
        "print(\"ROC AUC Score:\", roc_auc)"
      ],
      "metadata": {
        "colab": {
          "base_uri": "https://localhost:8080/"
        },
        "id": "UEn_O3x1Uw0-",
        "outputId": "6728df7a-bde2-487b-eff1-680549a42746"
      },
      "execution_count": 85,
      "outputs": [
        {
          "output_type": "stream",
          "name": "stdout",
          "text": [
            "ROC AUC Score: 0.7666666666666666\n"
          ]
        }
      ]
    },
    {
      "cell_type": "code",
      "source": [
        "# Generate ROC curve\n",
        "fpr, tpr, _ = roc_curve(y_test, y_prob)\n",
        "\n",
        "# Plot ROC curve\n",
        "plt.figure()\n",
        "plt.plot(fpr, tpr, color='darkorange', lw=2, label='ROC curve (area = %0.2f)' % roc_auc)\n",
        "plt.plot([0, 1], [0, 1], color='navy', lw=2, linestyle='--')\n",
        "plt.xlim([0.0, 1.0])\n",
        "plt.ylim([0.0, 1.05])\n",
        "plt.xlabel('False Positive Rate')\n",
        "plt.ylabel('True Positive Rate')\n",
        "plt.title('Receiver Operating Characteristic (ROC) Curve')\n",
        "plt.legend(loc=\"lower right\")\n",
        "plt.show()"
      ],
      "metadata": {
        "colab": {
          "base_uri": "https://localhost:8080/",
          "height": 472
        },
        "id": "C3uvlgWWVDsE",
        "outputId": "55239581-0a07-4427-a239-d5b74ed203df"
      },
      "execution_count": 86,
      "outputs": [
        {
          "output_type": "display_data",
          "data": {
            "text/plain": [
              "<Figure size 640x480 with 1 Axes>"
            ],
            "image/png": "[encoded data removed]"
          },
          "metadata": {}
        }
      ]
    },
    {
      "cell_type": "code",
      "source": [
        "# Print classification report\n",
        "print(\"Classification Report:\")\n",
        "print(classification_report(y_test, y_pred))"
      ],
      "metadata": {
        "colab": {
          "base_uri": "https://localhost:8080/"
        },
        "id": "0pW0jKLqVHYA",
        "outputId": "bcd913c5-fc5d-4b01-b38c-c48805963796"
      },
      "execution_count": 87,
      "outputs": [
        {
          "output_type": "stream",
          "name": "stdout",
          "text": [
            "Classification Report:\n",
            "              precision    recall  f1-score   support\n",
            "\n",
            "           0       1.00      0.17      0.29         6\n",
            "           1       0.83      1.00      0.91        25\n",
            "\n",
            "    accuracy                           0.84        31\n",
            "   macro avg       0.92      0.58      0.60        31\n",
            "weighted avg       0.87      0.84      0.79        31\n",
            "\n"
          ]
        }
      ]
    },
    {
      "cell_type": "markdown",
      "source": [
        "applying sampling"
      ],
      "metadata": {
        "id": "E8Om1yPUTe6J"
      }
    },
    {
      "cell_type": "code",
      "source": [
        "X2 = df.drop('Class',axis='columns')\n",
        "y2 = df['Class']"
      ],
      "metadata": {
        "id": "5TMf8tv0yAPz"
      },
      "execution_count": 88,
      "outputs": []
    },
    {
      "cell_type": "code",
      "source": [
        "print(X2.dtypes)"
      ],
      "metadata": {
        "colab": {
          "base_uri": "https://localhost:8080/"
        },
        "id": "THrQqjFGVhgV",
        "outputId": "fd315b58-b464-4540-f295-66a93c4965f6"
      },
      "execution_count": 89,
      "outputs": [
        {
          "output_type": "stream",
          "name": "stdout",
          "text": [
            "Age                  int64\n",
            "Sex                  int64\n",
            "Steroid            float64\n",
            "Antivirals           int64\n",
            "Fatigue            float64\n",
            "Malaise            float64\n",
            "Anorexia           float64\n",
            "Liver Big          float64\n",
            "Liver Firm         float64\n",
            "Spleen Palpable    float64\n",
            "Spiders            float64\n",
            "Ascites            float64\n",
            "Varices            float64\n",
            "Bilirubin          float64\n",
            "Alk Phosphate      float64\n",
            "Sgot               float64\n",
            "Albumin            float64\n",
            "Protime            float64\n",
            "Histology            int64\n",
            "dtype: object\n"
          ]
        }
      ]
    },
    {
      "cell_type": "code",
      "source": [
        "X2.shape, y2.shape"
      ],
      "metadata": {
        "colab": {
          "base_uri": "https://localhost:8080/"
        },
        "id": "IsDsF-sYZnHK",
        "outputId": "04b59a77-b085-4851-aa49-11607cb2f943"
      },
      "execution_count": 90,
      "outputs": [
        {
          "output_type": "execute_result",
          "data": {
            "text/plain": [
              "((155, 19), (155,))"
            ]
          },
          "metadata": {},
          "execution_count": 90
        }
      ]
    },
    {
      "cell_type": "code",
      "source": [
        "y2.value_counts()"
      ],
      "metadata": {
        "colab": {
          "base_uri": "https://localhost:8080/"
        },
        "id": "amfegDMFZuKq",
        "outputId": "32328db0-b038-4d1c-f849-895f6d4f44de"
      },
      "execution_count": 91,
      "outputs": [
        {
          "output_type": "execute_result",
          "data": {
            "text/plain": [
              "Class\n",
              "1    123\n",
              "0     32\n",
              "Name: count, dtype: int64"
            ]
          },
          "metadata": {},
          "execution_count": 91
        }
      ]
    },
    {
      "cell_type": "code",
      "source": [
        "df.columns[:-1].tolist()"
      ],
      "metadata": {
        "colab": {
          "base_uri": "https://localhost:8080/"
        },
        "id": "KMjBOxzOQbWL",
        "outputId": "a694e9f9-45b6-4847-9c56-07b01560cf09"
      },
      "execution_count": 92,
      "outputs": [
        {
          "output_type": "execute_result",
          "data": {
            "text/plain": [
              "['Age',\n",
              " 'Sex',\n",
              " 'Steroid',\n",
              " 'Antivirals',\n",
              " 'Fatigue',\n",
              " 'Malaise',\n",
              " 'Anorexia',\n",
              " 'Liver Big',\n",
              " 'Liver Firm',\n",
              " 'Spleen Palpable',\n",
              " 'Spiders',\n",
              " 'Ascites',\n",
              " 'Varices',\n",
              " 'Bilirubin',\n",
              " 'Alk Phosphate',\n",
              " 'Sgot',\n",
              " 'Albumin',\n",
              " 'Protime',\n",
              " 'Histology']"
            ]
          },
          "metadata": {},
          "execution_count": 92
        }
      ]
    },
    {
      "cell_type": "code",
      "source": [
        "def monitor_class_distribution(y):\n",
        "  class_distribution = np.bincount(y)\n",
        "  if class_distribution[1]>class_distribution[0]:\n",
        "    imbalance_ratio = class_distribution[1] / class_distribution[0]\n",
        "  else:\n",
        "    imbalance_ratio = class_distribution[0] / class_distribution[1]\n",
        "  return imbalance_ratio"
      ],
      "metadata": {
        "id": "CLTqfAkeYseO"
      },
      "execution_count": 93,
      "outputs": []
    },
    {
      "cell_type": "code",
      "source": [
        "import pandas as pd\n",
        "from imblearn.over_sampling import KMeansSMOTE\n",
        "from imblearn.under_sampling import ClusterCentroids\n",
        "\n",
        "def adjust_sampling_parameters(X,y):\n",
        "  # Apply KMeansSMOTE to the minority class\n",
        "  kmeans_smote = KMeansSMOTE(sampling_strategy='auto', k_neighbors=5, cluster_balance_threshold=0.0)\n",
        "  X_kmeans_smote, y_kmeans_smote = kmeans_smote.fit_resample(X, y)\n",
        "\n",
        "  # Apply Cluster Centroids undersampling to the majority class\n",
        "  cluster_centroids = ClusterCentroids(sampling_strategy='auto')\n",
        "  X_cluster_centroids, y_cluster_centroids = cluster_centroids.fit_resample(X, y)\n",
        "\n",
        "  # Concatenate the resampled data\n",
        "  X_combined_resampled = np.concatenate((X_kmeans_smote, X_cluster_centroids), axis=0)\n",
        "  y_combined_resampled = np.concatenate((y_kmeans_smote, y_cluster_centroids), axis=0)\n",
        "\n",
        "  # Convert combined resampled data to DataFrame\n",
        "  combined_df = pd.DataFrame(data=X_combined_resampled, columns=X.columns.tolist())\n",
        "  combined_df['Class'] = y_combined_resampled\n",
        "\n",
        "  return combined_df\n",
        "\n"
      ],
      "metadata": {
        "id": "TLILq1rgU0v9"
      },
      "execution_count": 94,
      "outputs": []
    },
    {
      "cell_type": "code",
      "source": [
        "tolerance=0.2\n",
        "def class_distribution_check(combined_df):\n",
        "  X_combined = combined_df.drop('Class',axis='columns')\n",
        "  y_combined = combined_df['Class']\n",
        "  class_distribution=monitor_class_distribution(y_combined)\n",
        "  while abs(class_distribution-1)>tolerance:\n",
        "    #print(abs(class_distribution-1))\n",
        "    combine_data=adjust_sampling_parameters(X_combined, y_combined)\n",
        "    X_combined=combine_data.drop('Class',axis='columns')\n",
        "    y_combined=combine_data['Class']\n",
        "    class_distribution=monitor_class_distribution(y_combined)\n",
        "  return X_combined, y_combined"
      ],
      "metadata": {
        "id": "n37RKiZQZjL5"
      },
      "execution_count": 95,
      "outputs": []
    },
    {
      "cell_type": "code",
      "source": [
        "combined_df=adjust_sampling_parameters(X2,y2)\n",
        "X_combined,y_combined=class_distribution_check(combined_df)\n",
        "X_train, X_test, y_train, y_test = train_test_split(X_combined, y_combined, test_size=0.2, random_state=42)"
      ],
      "metadata": {
        "id": "RKSl75m_OcN1"
      },
      "execution_count": 96,
      "outputs": []
    },
    {
      "cell_type": "code",
      "source": [
        "print((X_combined.shape))"
      ],
      "metadata": {
        "colab": {
          "base_uri": "https://localhost:8080/"
        },
        "id": "Z8pegqz-kph4",
        "outputId": "8738724b-11b9-465d-8ee8-f34bf2eb390f"
      },
      "execution_count": 97,
      "outputs": [
        {
          "output_type": "stream",
          "name": "stdout",
          "text": [
            "(311, 19)\n"
          ]
        }
      ]
    },
    {
      "cell_type": "code",
      "source": [
        "# Training the model\n",
        "model2=train_resource_monitor(X_train, y_train)\n",
        "\n",
        "# Making predictions\n",
        "y_pred = model2.predict(X_test)\n",
        "\n",
        "# Evaluating the model\n",
        "accuracy = accuracy_score(y_test, y_pred)\n",
        "print(\"Accuracy:\", accuracy)"
      ],
      "metadata": {
        "colab": {
          "base_uri": "https://localhost:8080/"
        },
        "id": "d8Q3571XdSYU",
        "outputId": "6004a4c5-f3f7-4c44-80cf-a2c1b35c10b0"
      },
      "execution_count": 98,
      "outputs": [
        {
          "output_type": "stream",
          "name": "stdout",
          "text": [
            "Input size: 248, Execution time: 0.050780 seconds\n",
            "Initial CPU Usage: 59.2%\n",
            "Final CPU Usage: 100.0%\n",
            "Initial Memory Usage: 11.7%\n",
            "Final Memory Usage: 11.7%\n",
            "Accuracy: 0.9682539682539683\n"
          ]
        }
      ]
    },
    {
      "cell_type": "code",
      "source": [
        "k_fold_validation(X_combined, y_combined,model2)"
      ],
      "metadata": {
        "colab": {
          "base_uri": "https://localhost:8080/"
        },
        "id": "BqH1fAvEX0Zj",
        "outputId": "03e580aa-fdc0-4198-d1c3-cbbb7542c826"
      },
      "execution_count": 99,
      "outputs": [
        {
          "output_type": "stream",
          "name": "stdout",
          "text": [
            "Cross-validation scores: [0.9841269841269841]\n",
            "Average cross-validation score: 0.9841269841269841\n",
            "Cross-validation roc-auc: [1.0]\n",
            "Average cross-validation roc-auc: 1.0\n",
            "-----------------------------------------------------------------\n",
            "Cross-validation scores: [0.9841269841269841, 0.8870967741935484]\n",
            "Average cross-validation score: 0.9356118791602662\n",
            "Cross-validation roc-auc: [1.0, 0.9625390218522373]\n",
            "Average cross-validation roc-auc: 0.9812695109261187\n",
            "-----------------------------------------------------------------\n",
            "Cross-validation scores: [0.9841269841269841, 0.8870967741935484, 0.9032258064516129]\n",
            "Average cross-validation score: 0.924816521590715\n",
            "Cross-validation roc-auc: [1.0, 0.9625390218522373, 0.9947089947089947]\n",
            "Average cross-validation roc-auc: 0.985749338853744\n",
            "-----------------------------------------------------------------\n",
            "Cross-validation scores: [0.9841269841269841, 0.8870967741935484, 0.9032258064516129, 0.9354838709677419]\n",
            "Average cross-validation score: 0.9274833589349718\n",
            "Cross-validation roc-auc: [1.0, 0.9625390218522373, 0.9947089947089947, 0.9843912591050987]\n",
            "Average cross-validation roc-auc: 0.9854098189165827\n",
            "-----------------------------------------------------------------\n",
            "Cross-validation scores: [0.9841269841269841, 0.8870967741935484, 0.9032258064516129, 0.9354838709677419, 0.9032258064516129]\n",
            "Average cross-validation score: 0.9226318484383\n",
            "Cross-validation roc-auc: [1.0, 0.9625390218522373, 0.9947089947089947, 0.9843912591050987, 0.9411764705882353]\n",
            "Average cross-validation roc-auc: 0.9765631492509133\n",
            "-----------------------------------------------------------------\n"
          ]
        }
      ]
    },
    {
      "cell_type": "code",
      "source": [
        "y_prob = model2.predict_proba(X_test)[:, 1]\n",
        "roc_auc = roc_auc_score(y_test, y_prob)\n",
        "print(\"ROC AUC Score:\", roc_auc)"
      ],
      "metadata": {
        "colab": {
          "base_uri": "https://localhost:8080/"
        },
        "id": "4pYjF42odp_u",
        "outputId": "82967ae8-b4e2-42e2-b0c2-3d3e47db9910"
      },
      "execution_count": 100,
      "outputs": [
        {
          "output_type": "stream",
          "name": "stdout",
          "text": [
            "ROC AUC Score: 1.0\n"
          ]
        }
      ]
    },
    {
      "cell_type": "code",
      "source": [
        "# Generate ROC curve\n",
        "fpr, tpr, _ = roc_curve(y_test, y_prob)\n",
        "\n",
        "# Plot ROC curve\n",
        "plt.figure()\n",
        "plt.plot(fpr, tpr, color='darkorange', lw=2, label='ROC curve (area = %0.2f)' % roc_auc)\n",
        "plt.plot([0, 1], [0, 1], color='navy', lw=2, linestyle='--')\n",
        "plt.xlim([0.0, 1.0])\n",
        "plt.ylim([0.0, 1.05])\n",
        "plt.xlabel('False Positive Rate')\n",
        "plt.ylabel('True Positive Rate')\n",
        "plt.title('Receiver Operating Characteristic (ROC) Curve')\n",
        "plt.legend(loc=\"lower right\")\n",
        "plt.show()"
      ],
      "metadata": {
        "colab": {
          "base_uri": "https://localhost:8080/",
          "height": 472
        },
        "id": "66bn12_Zep2s",
        "outputId": "fa04ec6f-991c-456e-fdf1-9393b3d14b2d"
      },
      "execution_count": 101,
      "outputs": [
        {
          "output_type": "display_data",
          "data": {
            "text/plain": [
              "<Figure size 640x480 with 1 Axes>"
            ],
            "image/png": "[encoded data removed]"
          },
          "metadata": {}
        }
      ]
    },
    {
      "cell_type": "code",
      "source": [
        "# Print classification report\n",
        "print(\"Classification Report:\")\n",
        "print(classification_report(y_test, y_pred))"
      ],
      "metadata": {
        "colab": {
          "base_uri": "https://localhost:8080/"
        },
        "id": "CTXSaElEeqMF",
        "outputId": "c673a661-e10d-49ab-86ea-348078689e62"
      },
      "execution_count": 102,
      "outputs": [
        {
          "output_type": "stream",
          "name": "stdout",
          "text": [
            "Classification Report:\n",
            "              precision    recall  f1-score   support\n",
            "\n",
            "           0       0.93      1.00      0.96        25\n",
            "           1       1.00      0.95      0.97        38\n",
            "\n",
            "    accuracy                           0.97        63\n",
            "   macro avg       0.96      0.97      0.97        63\n",
            "weighted avg       0.97      0.97      0.97        63\n",
            "\n"
          ]
        }
      ]
    },
    {
      "cell_type": "code",
      "source": [
        "import pickle\n",
        "\n",
        "# Assuming you have trained an XGBoost model named 'model'\n",
        "\n",
        "# Save the model to a file\n",
        "with open('xgboost_model_hepatites.pkl', 'wb') as f:\n",
        "    pickle.dump(model2, f)"
      ],
      "metadata": {
        "id": "sdNGMjnTwUx6"
      },
      "execution_count": 115,
      "outputs": []
    },
    {
      "cell_type": "code",
      "source": [
        "import pickle\n",
        "\n",
        "# Load the model from the file\n",
        "with open('xgboost_model_hepatites.pkl', 'rb') as f:\n",
        "    loaded_model = pickle.load(f)"
      ],
      "metadata": {
        "id": "e56vbtPMw2-q"
      },
      "execution_count": 122,
      "outputs": []
    },
    {
      "cell_type": "code",
      "source": [
        "predictions = loaded_model.predict(X_test)"
      ],
      "metadata": {
        "id": "Y8T5PQHFw5Sy"
      },
      "execution_count": 123,
      "outputs": []
    },
    {
      "cell_type": "code",
      "source": [
        "# Print classification report\n",
        "print(\"Classification Report:\")\n",
        "print(classification_report(y_test, predictions))"
      ],
      "metadata": {
        "colab": {
          "base_uri": "https://localhost:8080/"
        },
        "id": "O2GYyIjMw9xH",
        "outputId": "0dd99581-7e10-40d5-adc2-aad77989976b"
      },
      "execution_count": 124,
      "outputs": [
        {
          "output_type": "stream",
          "name": "stdout",
          "text": [
            "Classification Report:\n",
            "              precision    recall  f1-score   support\n",
            "\n",
            "           0       0.00      0.00      0.00        17\n",
            "           1       0.45      1.00      0.62        14\n",
            "\n",
            "    accuracy                           0.45        31\n",
            "   macro avg       0.23      0.50      0.31        31\n",
            "weighted avg       0.20      0.45      0.28        31\n",
            "\n"
          ]
        }
      ]
    },
    {
      "cell_type": "code",
      "source": [],
      "metadata": {
        "id": "i_qE93NIwJ3r"
      },
      "execution_count": null,
      "outputs": []
    }
  ],
  "metadata": {
    "kernelspec": {
      "display_name": "Python 3",
      "name": "python3"
    },
    "language_info": {
      "codemirror_mode": {
        "name": "ipython",
        "version": 3
      },
      "file_extension": ".py",
      "mimetype": "text/x-python",
      "name": "python",
      "nbconvert_exporter": "python",
      "pygments_lexer": "ipython3",
      "version": "3.8.5"
    },
    "colab": {
      "provenance": []
    }
  },
  "nbformat": 4,
  "nbformat_minor": 0
}