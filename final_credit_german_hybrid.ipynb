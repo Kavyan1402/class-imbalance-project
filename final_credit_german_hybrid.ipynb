{
  "cells": [
    {
      "cell_type": "code",
      "execution_count": null,
      "metadata": {
        "id": "GvC3RAjvYiLm"
      },
      "outputs": [],
      "source": [
        "import pandas as pd\n",
        "from matplotlib import pyplot as plt\n",
        "import numpy as np"
      ]
    },
    {
      "cell_type": "code",
      "execution_count": null,
      "metadata": {
        "id": "KYel4oz2YiLo"
      },
      "outputs": [],
      "source": [
        "import warnings\n",
        "warnings.filterwarnings('ignore')"
      ]
    },
    {
      "cell_type": "code",
      "source": [
        "!pip install ucimlrepo"
      ],
      "metadata": {
        "colab": {
          "base_uri": "https://localhost:8080/"
        },
        "id": "fwVRMfXBmPTQ",
        "outputId": "9377245a-9837-4119-b453-a49c663b2158"
      },
      "execution_count": null,
      "outputs": [
        {
          "output_type": "stream",
          "name": "stdout",
          "text": [
            "Collecting ucimlrepo\n",
            "  Downloading ucimlrepo-0.0.6-py3-none-any.whl (8.0 kB)\n",
            "Installing collected packages: ucimlrepo\n",
            "Successfully installed ucimlrepo-0.0.6\n"
          ]
        }
      ]
    },
    {
      "cell_type": "code",
      "source": [
        "from ucimlrepo import fetch_ucirepo\n",
        "\n",
        "# fetch dataset\n",
        "statlog_german_credit_data = fetch_ucirepo(id=144)\n",
        "\n",
        "# data (as pandas dataframes)\n",
        "X = statlog_german_credit_data.data.features\n",
        "y = statlog_german_credit_data.data.targets\n",
        "\n",
        "# metadata\n",
        "print(statlog_german_credit_data.metadata)\n",
        "\n",
        "# variable information\n",
        "print(statlog_german_credit_data.variables)\n"
      ],
      "metadata": {
        "colab": {
          "base_uri": "https://localhost:8080/"
        },
        "id": "r4FJAvkGmPWt",
        "outputId": "eca0610b-0ce0-43f8-e6f4-2d3f466fc39b"
      },
      "execution_count": null,
      "outputs": [
        {
          "output_type": "stream",
          "name": "stdout",
          "text": [
            "{'uci_id': 144, 'name': 'Statlog (German Credit Data)', 'repository_url': 'https://archive.ics.uci.edu/dataset/144/statlog+german+credit+data', 'data_url': 'https://archive.ics.uci.edu/static/public/144/data.csv', 'abstract': 'This dataset classifies people described by a set of attributes as good or bad credit risks. Comes in two formats (one all numeric). Also comes with a cost matrix', 'area': 'Social Science', 'tasks': ['Classification'], 'characteristics': ['Multivariate'], 'num_instances': 1000, 'num_features': 20, 'feature_types': ['Categorical', 'Integer'], 'demographics': ['Other', 'Marital Status', 'Age', 'Occupation'], 'target_col': ['class'], 'index_col': None, 'has_missing_values': 'no', 'missing_values_symbol': None, 'year_of_dataset_creation': 1994, 'last_updated': 'Thu Aug 10 2023', 'dataset_doi': '10.24432/C5NC77', 'creators': ['Hans Hofmann'], 'intro_paper': None, 'additional_info': {'summary': 'Two datasets are provided.  the original dataset, in the form provided by Prof. Hofmann, contains categorical/symbolic attributes and is in the file \"german.data\".   \\r\\n \\r\\nFor algorithms that need numerical attributes, Strathclyde University produced the file \"german.data-numeric\".  This file has been edited and several indicator variables added to make it suitable for algorithms which cannot cope with categorical variables.   Several attributes that are ordered categorical (such as attribute 17) have been coded as integer.    This was the form used by StatLog.\\r\\n\\r\\nThis dataset requires use of a cost matrix (see below)\\r\\n\\r\\n ..... 1        2\\r\\n----------------------------\\r\\n  1   0        1\\r\\n-----------------------\\r\\n  2   5        0\\r\\n\\r\\n(1 = Good,  2 = Bad)\\r\\n\\r\\nThe rows represent the actual classification and the columns the predicted classification.\\r\\n\\r\\nIt is worse to class a customer as good when they are bad (5), than it is to class a customer as bad when they are good (1).\\r\\n', 'purpose': None, 'funded_by': None, 'instances_represent': None, 'recommended_data_splits': None, 'sensitive_data': None, 'preprocessing_description': None, 'variable_info': 'Attribute 1:  (qualitative)      \\r\\n Status of existing checking account\\r\\n             A11 :      ... <    0 DM\\r\\n\\t       A12 : 0 <= ... <  200 DM\\r\\n\\t       A13 :      ... >= 200 DM / salary assignments for at least 1 year\\r\\n               A14 : no checking account\\r\\n\\r\\nAttribute 2:  (numerical)\\r\\n\\t      Duration in month\\r\\n\\r\\nAttribute 3:  (qualitative)\\r\\n\\t      Credit history\\r\\n\\t      A30 : no credits taken/ all credits paid back duly\\r\\n              A31 : all credits at this bank paid back duly\\r\\n\\t      A32 : existing credits paid back duly till now\\r\\n              A33 : delay in paying off in the past\\r\\n\\t      A34 : critical account/  other credits existing (not at this bank)\\r\\n\\r\\nAttribute 4:  (qualitative)\\r\\n\\t      Purpose\\r\\n\\t      A40 : car (new)\\r\\n\\t      A41 : car (used)\\r\\n\\t      A42 : furniture/equipment\\r\\n\\t      A43 : radio/television\\r\\n\\t      A44 : domestic appliances\\r\\n\\t      A45 : repairs\\r\\n\\t      A46 : education\\r\\n\\t      A47 : (vacation - does not exist?)\\r\\n\\t      A48 : retraining\\r\\n\\t      A49 : business\\r\\n\\t      A410 : others\\r\\n\\r\\nAttribute 5:  (numerical)\\r\\n\\t      Credit amount\\r\\n\\r\\nAttibute 6:  (qualitative)\\r\\n\\t      Savings account/bonds\\r\\n\\t      A61 :          ... <  100 DM\\r\\n\\t      A62 :   100 <= ... <  500 DM\\r\\n\\t      A63 :   500 <= ... < 1000 DM\\r\\n\\t      A64 :          .. >= 1000 DM\\r\\n              A65 :   unknown/ no savings account\\r\\n\\r\\nAttribute 7:  (qualitative)\\r\\n\\t      Present employment since\\r\\n\\t      A71 : unemployed\\r\\n\\t      A72 :       ... < 1 year\\r\\n\\t      A73 : 1  <= ... < 4 years  \\r\\n\\t      A74 : 4  <= ... < 7 years\\r\\n\\t      A75 :       .. >= 7 years\\r\\n\\r\\nAttribute 8:  (numerical)\\r\\n\\t      Installment rate in percentage of disposable income\\r\\n\\r\\nAttribute 9:  (qualitative)\\r\\n\\t      Personal status and sex\\r\\n\\t      A91 : male   : divorced/separated\\r\\n\\t      A92 : female : divorced/separated/married\\r\\n              A93 : male   : single\\r\\n\\t      A94 : male   : married/widowed\\r\\n\\t      A95 : female : single\\r\\n\\r\\nAttribute 10: (qualitative)\\r\\n\\t      Other debtors / guarantors\\r\\n\\t      A101 : none\\r\\n\\t      A102 : co-applicant\\r\\n\\t      A103 : guarantor\\r\\n\\r\\nAttribute 11: (numerical)\\r\\n\\t      Present residence since\\r\\n\\r\\nAttribute 12: (qualitative)\\r\\n\\t      Property\\r\\n\\t      A121 : real estate\\r\\n\\t      A122 : if not A121 : building society savings agreement/ life insurance\\r\\n              A123 : if not A121/A122 : car or other, not in attribute 6\\r\\n\\t      A124 : unknown / no property\\r\\n\\r\\nAttribute 13: (numerical)\\r\\n\\t      Age in years\\r\\n\\r\\nAttribute 14: (qualitative)\\r\\n\\t      Other installment plans \\r\\n\\t      A141 : bank\\r\\n\\t      A142 : stores\\r\\n\\t      A143 : none\\r\\n\\r\\nAttribute 15: (qualitative)\\r\\n\\t      Housing\\r\\n\\t      A151 : rent\\r\\n\\t      A152 : own\\r\\n\\t      A153 : for free\\r\\n\\r\\nAttribute 16: (numerical)\\r\\n              Number of existing credits at this bank\\r\\n\\r\\nAttribute 17: (qualitative)\\r\\n\\t      Job\\r\\n\\t      A171 : unemployed/ unskilled  - non-resident\\r\\n\\t      A172 : unskilled - resident\\r\\n\\t      A173 : skilled employee / official\\r\\n\\t      A174 : management/ self-employed/\\r\\n\\t\\t     highly qualified employee/ officer\\r\\n\\r\\nAttribute 18: (numerical)\\r\\n\\t      Number of people being liable to provide maintenance for\\r\\n\\r\\nAttribute 19: (qualitative)\\r\\n\\t      Telephone\\r\\n\\t      A191 : none\\r\\n\\t      A192 : yes, registered under the customers name\\r\\n\\r\\nAttribute 20: (qualitative)\\r\\n\\t      foreign worker\\r\\n\\t      A201 : yes\\r\\n\\t      A202 : no\\r\\n', 'citation': None}}\n",
            "           name     role         type     demographic  \\\n",
            "0    Attribute1  Feature  Categorical            None   \n",
            "1    Attribute2  Feature      Integer            None   \n",
            "2    Attribute3  Feature  Categorical            None   \n",
            "3    Attribute4  Feature  Categorical            None   \n",
            "4    Attribute5  Feature      Integer            None   \n",
            "5    Attribute6  Feature  Categorical            None   \n",
            "6    Attribute7  Feature  Categorical           Other   \n",
            "7    Attribute8  Feature      Integer            None   \n",
            "8    Attribute9  Feature  Categorical  Marital Status   \n",
            "9   Attribute10  Feature  Categorical            None   \n",
            "10  Attribute11  Feature      Integer            None   \n",
            "11  Attribute12  Feature  Categorical            None   \n",
            "12  Attribute13  Feature      Integer             Age   \n",
            "13  Attribute14  Feature  Categorical            None   \n",
            "14  Attribute15  Feature  Categorical           Other   \n",
            "15  Attribute16  Feature      Integer            None   \n",
            "16  Attribute17  Feature  Categorical      Occupation   \n",
            "17  Attribute18  Feature      Integer            None   \n",
            "18  Attribute19  Feature       Binary            None   \n",
            "19  Attribute20  Feature       Binary           Other   \n",
            "20        class   Target       Binary            None   \n",
            "\n",
            "                                          description   units missing_values  \n",
            "0                 Status of existing checking account    None             no  \n",
            "1                                            Duration  months             no  \n",
            "2                                      Credit history    None             no  \n",
            "3                                             Purpose    None             no  \n",
            "4                                       Credit amount    None             no  \n",
            "5                               Savings account/bonds    None             no  \n",
            "6                            Present employment since    None             no  \n",
            "7   Installment rate in percentage of disposable i...    None             no  \n",
            "8                             Personal status and sex    None             no  \n",
            "9                          Other debtors / guarantors    None             no  \n",
            "10                            Present residence since    None             no  \n",
            "11                                           Property    None             no  \n",
            "12                                                Age   years             no  \n",
            "13                            Other installment plans    None             no  \n",
            "14                                            Housing    None             no  \n",
            "15            Number of existing credits at this bank    None             no  \n",
            "16                                                Job    None             no  \n",
            "17  Number of people being liable to provide maint...    None             no  \n",
            "18                                          Telephone    None             no  \n",
            "19                                     foreign worker    None             no  \n",
            "20                                  1 = Good, 2 = Bad    None             no  \n"
          ]
        }
      ]
    },
    {
      "cell_type": "code",
      "execution_count": null,
      "metadata": {
        "scrolled": true,
        "colab": {
          "base_uri": "https://localhost:8080/"
        },
        "id": "IcMDv-q-YiLo",
        "outputId": "35d821ff-e759-4281-df3b-3fa13eecc8e6"
      },
      "outputs": [
        {
          "output_type": "execute_result",
          "data": {
            "text/plain": [
              "class\n",
              "1        700\n",
              "2        300\n",
              "Name: count, dtype: int64"
            ]
          },
          "metadata": {},
          "execution_count": 5
        }
      ],
      "source": [
        "statlog_german_credit_data.data.targets.value_counts()"
      ]
    },
    {
      "cell_type": "code",
      "execution_count": null,
      "metadata": {
        "colab": {
          "base_uri": "https://localhost:8080/"
        },
        "id": "6scfT7mXYiLp",
        "outputId": "77020de1-466d-4ca0-84a2-6ccf56ebc72d"
      },
      "outputs": [
        {
          "output_type": "execute_result",
          "data": {
            "text/plain": [
              "Index(['Attribute1', 'Attribute2', 'Attribute3', 'Attribute4', 'Attribute5',\n",
              "       'Attribute6', 'Attribute7', 'Attribute8', 'Attribute9', 'Attribute10',\n",
              "       'Attribute11', 'Attribute12', 'Attribute13', 'Attribute14',\n",
              "       'Attribute15', 'Attribute16', 'Attribute17', 'Attribute18',\n",
              "       'Attribute19', 'Attribute20'],\n",
              "      dtype='object')"
            ]
          },
          "metadata": {},
          "execution_count": 6
        }
      ],
      "source": [
        "X.columns"
      ]
    },
    {
      "cell_type": "code",
      "execution_count": null,
      "metadata": {
        "colab": {
          "base_uri": "https://localhost:8080/",
          "height": 255
        },
        "id": "6WP1XiA0YiLp",
        "outputId": "087e6881-dfd6-4aa3-fd41-3480722ae26f"
      },
      "outputs": [
        {
          "output_type": "execute_result",
          "data": {
            "text/plain": [
              "  Attribute1  Attribute2 Attribute3 Attribute4  Attribute5 Attribute6  \\\n",
              "0        A11           6        A34        A43        1169        A65   \n",
              "1        A12          48        A32        A43        5951        A61   \n",
              "2        A14          12        A34        A46        2096        A61   \n",
              "3        A11          42        A32        A42        7882        A61   \n",
              "4        A11          24        A33        A40        4870        A61   \n",
              "\n",
              "  Attribute7  Attribute8 Attribute9 Attribute10  ...  Attribute12 Attribute13  \\\n",
              "0        A75           4        A93        A101  ...         A121          67   \n",
              "1        A73           2        A92        A101  ...         A121          22   \n",
              "2        A74           2        A93        A101  ...         A121          49   \n",
              "3        A74           2        A93        A103  ...         A122          45   \n",
              "4        A73           3        A93        A101  ...         A124          53   \n",
              "\n",
              "   Attribute14 Attribute15 Attribute16  Attribute17 Attribute18  Attribute19  \\\n",
              "0         A143        A152           2         A173           1         A192   \n",
              "1         A143        A152           1         A173           1         A191   \n",
              "2         A143        A152           1         A172           2         A191   \n",
              "3         A143        A153           1         A173           2         A191   \n",
              "4         A143        A153           2         A173           2         A191   \n",
              "\n",
              "  Attribute20 class  \n",
              "0        A201     1  \n",
              "1        A201     2  \n",
              "2        A201     1  \n",
              "3        A201     1  \n",
              "4        A201     2  \n",
              "\n",
              "[5 rows x 21 columns]"
            ],
            "text/html": [
              "\n",
              "  <div id=\"df-838df509-b8ad-4061-8ff0-01133f9ede16\" class=\"colab-df-container\">\n",
              "    <div>\n",
              "<style scoped>\n",
              "    .dataframe tbody tr th:only-of-type {\n",
              "        vertical-align: middle;\n",
              "    }\n",
              "\n",
              "    .dataframe tbody tr th {\n",
              "        vertical-align: top;\n",
              "    }\n",
              "\n",
              "    .dataframe thead th {\n",
              "        text-align: right;\n",
              "    }\n",
              "</style>\n",
              "<table border=\"1\" class=\"dataframe\">\n",
              "  <thead>\n",
              "    <tr style=\"text-align: right;\">\n",
              "      <th></th>\n",
              "      <th>Attribute1</th>\n",
              "      <th>Attribute2</th>\n",
              "      <th>Attribute3</th>\n",
              "      <th>Attribute4</th>\n",
              "      <th>Attribute5</th>\n",
              "      <th>Attribute6</th>\n",
              "      <th>Attribute7</th>\n",
              "      <th>Attribute8</th>\n",
              "      <th>Attribute9</th>\n",
              "      <th>Attribute10</th>\n",
              "      <th>...</th>\n",
              "      <th>Attribute12</th>\n",
              "      <th>Attribute13</th>\n",
              "      <th>Attribute14</th>\n",
              "      <th>Attribute15</th>\n",
              "      <th>Attribute16</th>\n",
              "      <th>Attribute17</th>\n",
              "      <th>Attribute18</th>\n",
              "      <th>Attribute19</th>\n",
              "      <th>Attribute20</th>\n",
              "      <th>class</th>\n",
              "    </tr>\n",
              "  </thead>\n",
              "  <tbody>\n",
              "    <tr>\n",
              "      <th>0</th>\n",
              "      <td>A11</td>\n",
              "      <td>6</td>\n",
              "      <td>A34</td>\n",
              "      <td>A43</td>\n",
              "      <td>1169</td>\n",
              "      <td>A65</td>\n",
              "      <td>A75</td>\n",
              "      <td>4</td>\n",
              "      <td>A93</td>\n",
              "      <td>A101</td>\n",
              "      <td>...</td>\n",
              "      <td>A121</td>\n",
              "      <td>67</td>\n",
              "      <td>A143</td>\n",
              "      <td>A152</td>\n",
              "      <td>2</td>\n",
              "      <td>A173</td>\n",
              "      <td>1</td>\n",
              "      <td>A192</td>\n",
              "      <td>A201</td>\n",
              "      <td>1</td>\n",
              "    </tr>\n",
              "    <tr>\n",
              "      <th>1</th>\n",
              "      <td>A12</td>\n",
              "      <td>48</td>\n",
              "      <td>A32</td>\n",
              "      <td>A43</td>\n",
              "      <td>5951</td>\n",
              "      <td>A61</td>\n",
              "      <td>A73</td>\n",
              "      <td>2</td>\n",
              "      <td>A92</td>\n",
              "      <td>A101</td>\n",
              "      <td>...</td>\n",
              "      <td>A121</td>\n",
              "      <td>22</td>\n",
              "      <td>A143</td>\n",
              "      <td>A152</td>\n",
              "      <td>1</td>\n",
              "      <td>A173</td>\n",
              "      <td>1</td>\n",
              "      <td>A191</td>\n",
              "      <td>A201</td>\n",
              "      <td>2</td>\n",
              "    </tr>\n",
              "    <tr>\n",
              "      <th>2</th>\n",
              "      <td>A14</td>\n",
              "      <td>12</td>\n",
              "      <td>A34</td>\n",
              "      <td>A46</td>\n",
              "      <td>2096</td>\n",
              "      <td>A61</td>\n",
              "      <td>A74</td>\n",
              "      <td>2</td>\n",
              "      <td>A93</td>\n",
              "      <td>A101</td>\n",
              "      <td>...</td>\n",
              "      <td>A121</td>\n",
              "      <td>49</td>\n",
              "      <td>A143</td>\n",
              "      <td>A152</td>\n",
              "      <td>1</td>\n",
              "      <td>A172</td>\n",
              "      <td>2</td>\n",
              "      <td>A191</td>\n",
              "      <td>A201</td>\n",
              "      <td>1</td>\n",
              "    </tr>\n",
              "    <tr>\n",
              "      <th>3</th>\n",
              "      <td>A11</td>\n",
              "      <td>42</td>\n",
              "      <td>A32</td>\n",
              "      <td>A42</td>\n",
              "      <td>7882</td>\n",
              "      <td>A61</td>\n",
              "      <td>A74</td>\n",
              "      <td>2</td>\n",
              "      <td>A93</td>\n",
              "      <td>A103</td>\n",
              "      <td>...</td>\n",
              "      <td>A122</td>\n",
              "      <td>45</td>\n",
              "      <td>A143</td>\n",
              "      <td>A153</td>\n",
              "      <td>1</td>\n",
              "      <td>A173</td>\n",
              "      <td>2</td>\n",
              "      <td>A191</td>\n",
              "      <td>A201</td>\n",
              "      <td>1</td>\n",
              "    </tr>\n",
              "    <tr>\n",
              "      <th>4</th>\n",
              "      <td>A11</td>\n",
              "      <td>24</td>\n",
              "      <td>A33</td>\n",
              "      <td>A40</td>\n",
              "      <td>4870</td>\n",
              "      <td>A61</td>\n",
              "      <td>A73</td>\n",
              "      <td>3</td>\n",
              "      <td>A93</td>\n",
              "      <td>A101</td>\n",
              "      <td>...</td>\n",
              "      <td>A124</td>\n",
              "      <td>53</td>\n",
              "      <td>A143</td>\n",
              "      <td>A153</td>\n",
              "      <td>2</td>\n",
              "      <td>A173</td>\n",
              "      <td>2</td>\n",
              "      <td>A191</td>\n",
              "      <td>A201</td>\n",
              "      <td>2</td>\n",
              "    </tr>\n",
              "  </tbody>\n",
              "</table>\n",
              "<p>5 rows × 21 columns</p>\n",
              "</div>\n",
              "    <div class=\"colab-df-buttons\">\n",
              "\n",
              "  <div class=\"colab-df-container\">\n",
              "    <button class=\"colab-df-convert\" onclick=\"convertToInteractive('df-838df509-b8ad-4061-8ff0-01133f9ede16')\"\n",
              "            title=\"Convert this dataframe to an interactive table.\"\n",
              "            style=\"display:none;\">\n",
              "\n",
              "  <svg xmlns=\"http://www.w3.org/2000/svg\" height=\"24px\" viewBox=\"0 -960 960 960\">\n",
              "    <path d=\"M120-120v-720h720v720H120Zm60-500h600v-160H180v160Zm220 220h160v-160H400v160Zm0 220h160v-160H400v160ZM180-400h160v-160H180v160Zm440 0h160v-160H620v160ZM180-180h160v-160H180v160Zm440 0h160v-160H620v160Z\"/>\n",
              "  </svg>\n",
              "    </button>\n",
              "\n",
              "  <style>\n",
              "    .colab-df-container {\n",
              "      display:flex;\n",
              "      gap: 12px;\n",
              "    }\n",
              "\n",
              "    .colab-df-convert {\n",
              "      background-color: #E8F0FE;\n",
              "      border: none;\n",
              "      border-radius: 50%;\n",
              "      cursor: pointer;\n",
              "      display: none;\n",
              "      fill: #1967D2;\n",
              "      height: 32px;\n",
              "      padding: 0 0 0 0;\n",
              "      width: 32px;\n",
              "    }\n",
              "\n",
              "    .colab-df-convert:hover {\n",
              "      background-color: #E2EBFA;\n",
              "      box-shadow: 0px 1px 2px rgba(60, 64, 67, 0.3), 0px 1px 3px 1px rgba(60, 64, 67, 0.15);\n",
              "      fill: #174EA6;\n",
              "    }\n",
              "\n",
              "    .colab-df-buttons div {\n",
              "      margin-bottom: 4px;\n",
              "    }\n",
              "\n",
              "    [theme=dark] .colab-df-convert {\n",
              "      background-color: #3B4455;\n",
              "      fill: #D2E3FC;\n",
              "    }\n",
              "\n",
              "    [theme=dark] .colab-df-convert:hover {\n",
              "      background-color: #434B5C;\n",
              "      box-shadow: 0px 1px 3px 1px rgba(0, 0, 0, 0.15);\n",
              "      filter: drop-shadow(0px 1px 2px rgba(0, 0, 0, 0.3));\n",
              "      fill: #FFFFFF;\n",
              "    }\n",
              "  </style>\n",
              "\n",
              "    <script>\n",
              "      const buttonEl =\n",
              "        document.querySelector('#df-838df509-b8ad-4061-8ff0-01133f9ede16 button.colab-df-convert');\n",
              "      buttonEl.style.display =\n",
              "        google.colab.kernel.accessAllowed ? 'block' : 'none';\n",
              "\n",
              "      async function convertToInteractive(key) {\n",
              "        const element = document.querySelector('#df-838df509-b8ad-4061-8ff0-01133f9ede16');\n",
              "        const dataTable =\n",
              "          await google.colab.kernel.invokeFunction('convertToInteractive',\n",
              "                                                    [key], {});\n",
              "        if (!dataTable) return;\n",
              "\n",
              "        const docLinkHtml = 'Like what you see? Visit the ' +\n",
              "          '<a target=\"_blank\" href=https://colab.research.google.com/notebooks/data_table.ipynb>data table notebook</a>'\n",
              "          + ' to learn more about interactive tables.';\n",
              "        element.innerHTML = '';\n",
              "        dataTable['output_type'] = 'display_data';\n",
              "        await google.colab.output.renderOutput(dataTable, element);\n",
              "        const docLink = document.createElement('div');\n",
              "        docLink.innerHTML = docLinkHtml;\n",
              "        element.appendChild(docLink);\n",
              "      }\n",
              "    </script>\n",
              "  </div>\n",
              "\n",
              "\n",
              "<div id=\"df-29a75e0c-1135-42d8-a2bf-24a666760f61\">\n",
              "  <button class=\"colab-df-quickchart\" onclick=\"quickchart('df-29a75e0c-1135-42d8-a2bf-24a666760f61')\"\n",
              "            title=\"Suggest charts\"\n",
              "            style=\"display:none;\">\n",
              "\n",
              "<svg xmlns=\"http://www.w3.org/2000/svg\" height=\"24px\"viewBox=\"0 0 24 24\"\n",
              "     width=\"24px\">\n",
              "    <g>\n",
              "        <path d=\"M19 3H5c-1.1 0-2 .9-2 2v14c0 1.1.9 2 2 2h14c1.1 0 2-.9 2-2V5c0-1.1-.9-2-2-2zM9 17H7v-7h2v7zm4 0h-2V7h2v10zm4 0h-2v-4h2v4z\"/>\n",
              "    </g>\n",
              "</svg>\n",
              "  </button>\n",
              "\n",
              "<style>\n",
              "  .colab-df-quickchart {\n",
              "      --bg-color: #E8F0FE;\n",
              "      --fill-color: #1967D2;\n",
              "      --hover-bg-color: #E2EBFA;\n",
              "      --hover-fill-color: #174EA6;\n",
              "      --disabled-fill-color: #AAA;\n",
              "      --disabled-bg-color: #DDD;\n",
              "  }\n",
              "\n",
              "  [theme=dark] .colab-df-quickchart {\n",
              "      --bg-color: #3B4455;\n",
              "      --fill-color: #D2E3FC;\n",
              "      --hover-bg-color: #434B5C;\n",
              "      --hover-fill-color: #FFFFFF;\n",
              "      --disabled-bg-color: #3B4455;\n",
              "      --disabled-fill-color: #666;\n",
              "  }\n",
              "\n",
              "  .colab-df-quickchart {\n",
              "    background-color: var(--bg-color);\n",
              "    border: none;\n",
              "    border-radius: 50%;\n",
              "    cursor: pointer;\n",
              "    display: none;\n",
              "    fill: var(--fill-color);\n",
              "    height: 32px;\n",
              "    padding: 0;\n",
              "    width: 32px;\n",
              "  }\n",
              "\n",
              "  .colab-df-quickchart:hover {\n",
              "    background-color: var(--hover-bg-color);\n",
              "    box-shadow: 0 1px 2px rgba(60, 64, 67, 0.3), 0 1px 3px 1px rgba(60, 64, 67, 0.15);\n",
              "    fill: var(--button-hover-fill-color);\n",
              "  }\n",
              "\n",
              "  .colab-df-quickchart-complete:disabled,\n",
              "  .colab-df-quickchart-complete:disabled:hover {\n",
              "    background-color: var(--disabled-bg-color);\n",
              "    fill: var(--disabled-fill-color);\n",
              "    box-shadow: none;\n",
              "  }\n",
              "\n",
              "  .colab-df-spinner {\n",
              "    border: 2px solid var(--fill-color);\n",
              "    border-color: transparent;\n",
              "    border-bottom-color: var(--fill-color);\n",
              "    animation:\n",
              "      spin 1s steps(1) infinite;\n",
              "  }\n",
              "\n",
              "  @keyframes spin {\n",
              "    0% {\n",
              "      border-color: transparent;\n",
              "      border-bottom-color: var(--fill-color);\n",
              "      border-left-color: var(--fill-color);\n",
              "    }\n",
              "    20% {\n",
              "      border-color: transparent;\n",
              "      border-left-color: var(--fill-color);\n",
              "      border-top-color: var(--fill-color);\n",
              "    }\n",
              "    30% {\n",
              "      border-color: transparent;\n",
              "      border-left-color: var(--fill-color);\n",
              "      border-top-color: var(--fill-color);\n",
              "      border-right-color: var(--fill-color);\n",
              "    }\n",
              "    40% {\n",
              "      border-color: transparent;\n",
              "      border-right-color: var(--fill-color);\n",
              "      border-top-color: var(--fill-color);\n",
              "    }\n",
              "    60% {\n",
              "      border-color: transparent;\n",
              "      border-right-color: var(--fill-color);\n",
              "    }\n",
              "    80% {\n",
              "      border-color: transparent;\n",
              "      border-right-color: var(--fill-color);\n",
              "      border-bottom-color: var(--fill-color);\n",
              "    }\n",
              "    90% {\n",
              "      border-color: transparent;\n",
              "      border-bottom-color: var(--fill-color);\n",
              "    }\n",
              "  }\n",
              "</style>\n",
              "\n",
              "  <script>\n",
              "    async function quickchart(key) {\n",
              "      const quickchartButtonEl =\n",
              "        document.querySelector('#' + key + ' button');\n",
              "      quickchartButtonEl.disabled = true;  // To prevent multiple clicks.\n",
              "      quickchartButtonEl.classList.add('colab-df-spinner');\n",
              "      try {\n",
              "        const charts = await google.colab.kernel.invokeFunction(\n",
              "            'suggestCharts', [key], {});\n",
              "      } catch (error) {\n",
              "        console.error('Error during call to suggestCharts:', error);\n",
              "      }\n",
              "      quickchartButtonEl.classList.remove('colab-df-spinner');\n",
              "      quickchartButtonEl.classList.add('colab-df-quickchart-complete');\n",
              "    }\n",
              "    (() => {\n",
              "      let quickchartButtonEl =\n",
              "        document.querySelector('#df-29a75e0c-1135-42d8-a2bf-24a666760f61 button');\n",
              "      quickchartButtonEl.style.display =\n",
              "        google.colab.kernel.accessAllowed ? 'block' : 'none';\n",
              "    })();\n",
              "  </script>\n",
              "</div>\n",
              "\n",
              "    </div>\n",
              "  </div>\n"
            ],
            "application/vnd.google.colaboratory.intrinsic+json": {
              "type": "dataframe",
              "variable_name": "df"
            }
          },
          "metadata": {},
          "execution_count": 7
        }
      ],
      "source": [
        "df=pd.concat([X, y], axis=1)\n",
        "df.head()"
      ]
    },
    {
      "cell_type": "code",
      "execution_count": null,
      "metadata": {
        "scrolled": false,
        "colab": {
          "base_uri": "https://localhost:8080/"
        },
        "id": "TEN8ElbWYiLr",
        "outputId": "e0a49638-188c-4978-a522-581844ae90a8"
      },
      "outputs": [
        {
          "output_type": "execute_result",
          "data": {
            "text/plain": [
              "Attribute1     object\n",
              "Attribute2      int64\n",
              "Attribute3     object\n",
              "Attribute4     object\n",
              "Attribute5      int64\n",
              "Attribute6     object\n",
              "Attribute7     object\n",
              "Attribute8      int64\n",
              "Attribute9     object\n",
              "Attribute10    object\n",
              "Attribute11     int64\n",
              "Attribute12    object\n",
              "Attribute13     int64\n",
              "Attribute14    object\n",
              "Attribute15    object\n",
              "Attribute16     int64\n",
              "Attribute17    object\n",
              "Attribute18     int64\n",
              "Attribute19    object\n",
              "Attribute20    object\n",
              "class           int64\n",
              "dtype: object"
            ]
          },
          "metadata": {},
          "execution_count": 8
        }
      ],
      "source": [
        "df.dtypes"
      ]
    },
    {
      "cell_type": "code",
      "execution_count": null,
      "metadata": {
        "colab": {
          "base_uri": "https://localhost:8080/"
        },
        "id": "5UhAr26KYiLs",
        "outputId": "b64fdda2-dd6d-416d-86c7-91cb5bbc8dd7"
      },
      "outputs": [
        {
          "output_type": "execute_result",
          "data": {
            "text/plain": [
              "Attribute1     0\n",
              "Attribute2     0\n",
              "Attribute3     0\n",
              "Attribute4     0\n",
              "Attribute5     0\n",
              "Attribute6     0\n",
              "Attribute7     0\n",
              "Attribute8     0\n",
              "Attribute9     0\n",
              "Attribute10    0\n",
              "Attribute11    0\n",
              "Attribute12    0\n",
              "Attribute13    0\n",
              "Attribute14    0\n",
              "Attribute15    0\n",
              "Attribute16    0\n",
              "Attribute17    0\n",
              "Attribute18    0\n",
              "Attribute19    0\n",
              "Attribute20    0\n",
              "class          0\n",
              "dtype: int64"
            ]
          },
          "metadata": {},
          "execution_count": 9
        }
      ],
      "source": [
        "df.isnull().sum()"
      ]
    },
    {
      "cell_type": "code",
      "execution_count": null,
      "metadata": {
        "colab": {
          "base_uri": "https://localhost:8080/"
        },
        "id": "mQNHykTjYiLt",
        "outputId": "3d80bafd-a4e1-4c60-d915-a3e196210355"
      },
      "outputs": [
        {
          "output_type": "execute_result",
          "data": {
            "text/plain": [
              "(1000, 21)"
            ]
          },
          "metadata": {},
          "execution_count": 10
        }
      ],
      "source": [
        "df.shape"
      ]
    },
    {
      "cell_type": "code",
      "source": [
        "df.Attribute9.unique()"
      ],
      "metadata": {
        "colab": {
          "base_uri": "https://localhost:8080/"
        },
        "id": "WfhgGaBg6QJh",
        "outputId": "0893bc71-aec8-4cbb-acfb-58d3ac7aab8c"
      },
      "execution_count": null,
      "outputs": [
        {
          "output_type": "execute_result",
          "data": {
            "text/plain": [
              "array(['A93', 'A92', 'A91', 'A94'], dtype=object)"
            ]
          },
          "metadata": {},
          "execution_count": 11
        }
      ]
    },
    {
      "cell_type": "code",
      "source": [
        "columns_object=df.select_dtypes(include=['object']).columns\n",
        "print(columns_object)"
      ],
      "metadata": {
        "colab": {
          "base_uri": "https://localhost:8080/"
        },
        "id": "OhNey7Rv7V9q",
        "outputId": "7bd43e26-4229-484a-c5ad-e5406143954e"
      },
      "execution_count": null,
      "outputs": [
        {
          "output_type": "stream",
          "name": "stdout",
          "text": [
            "Index(['Attribute1', 'Attribute3', 'Attribute4', 'Attribute6', 'Attribute7',\n",
            "       'Attribute9', 'Attribute10', 'Attribute12', 'Attribute14',\n",
            "       'Attribute15', 'Attribute17', 'Attribute19', 'Attribute20'],\n",
            "      dtype='object')\n"
          ]
        }
      ]
    },
    {
      "cell_type": "code",
      "source": [
        "def encode_columns(df, columns):\n",
        "    from sklearn.preprocessing import LabelEncoder\n",
        "    label_encoders = {}\n",
        "    for column in columns:\n",
        "        label_encoders[column] = LabelEncoder()\n",
        "        df[column] = label_encoders[column].fit_transform(df[column])\n",
        "    return df, label_encoders\n",
        "df_encoded, label_encoders = encode_columns(df.copy(), columns_object)\n",
        "print(df_encoded.dtypes)"
      ],
      "metadata": {
        "colab": {
          "base_uri": "https://localhost:8080/"
        },
        "id": "6qhcv9_b7kxC",
        "outputId": "1befadf8-dc57-46e3-ef5b-16a95f09986c"
      },
      "execution_count": null,
      "outputs": [
        {
          "output_type": "stream",
          "name": "stdout",
          "text": [
            "Attribute1     int64\n",
            "Attribute2     int64\n",
            "Attribute3     int64\n",
            "Attribute4     int64\n",
            "Attribute5     int64\n",
            "Attribute6     int64\n",
            "Attribute7     int64\n",
            "Attribute8     int64\n",
            "Attribute9     int64\n",
            "Attribute10    int64\n",
            "Attribute11    int64\n",
            "Attribute12    int64\n",
            "Attribute13    int64\n",
            "Attribute14    int64\n",
            "Attribute15    int64\n",
            "Attribute16    int64\n",
            "Attribute17    int64\n",
            "Attribute18    int64\n",
            "Attribute19    int64\n",
            "Attribute20    int64\n",
            "class          int64\n",
            "dtype: object\n"
          ]
        }
      ]
    },
    {
      "cell_type": "code",
      "source": [
        "df_encoded.Attribute9.unique()"
      ],
      "metadata": {
        "colab": {
          "base_uri": "https://localhost:8080/"
        },
        "id": "X61zF9gw8jqt",
        "outputId": "b7aacc17-4dfa-472d-de91-bd9ebc66931e"
      },
      "execution_count": null,
      "outputs": [
        {
          "output_type": "execute_result",
          "data": {
            "text/plain": [
              "array([2, 1, 0, 3])"
            ]
          },
          "metadata": {},
          "execution_count": 14
        }
      ]
    },
    {
      "cell_type": "code",
      "source": [
        "df_encoded['class'].unique()"
      ],
      "metadata": {
        "colab": {
          "base_uri": "https://localhost:8080/"
        },
        "id": "mVInzAJ89Fdz",
        "outputId": "3cdbc424-c241-47cc-a2ba-0aaca1c05cf1"
      },
      "execution_count": null,
      "outputs": [
        {
          "output_type": "execute_result",
          "data": {
            "text/plain": [
              "array([1, 2])"
            ]
          },
          "metadata": {},
          "execution_count": 15
        }
      ]
    },
    {
      "cell_type": "code",
      "source": [
        "df_encoded['class'] = df_encoded['class'].replace({1: 0, 2: 1})\n",
        "df_encoded['class'].unique()"
      ],
      "metadata": {
        "colab": {
          "base_uri": "https://localhost:8080/"
        },
        "id": "c2czhyLK9AKf",
        "outputId": "428b7e95-43a2-4f45-ec60-01578bff107b"
      },
      "execution_count": null,
      "outputs": [
        {
          "output_type": "execute_result",
          "data": {
            "text/plain": [
              "array([0, 1])"
            ]
          },
          "metadata": {},
          "execution_count": 16
        }
      ]
    },
    {
      "cell_type": "markdown",
      "metadata": {
        "id": "G2XbzMA-YiL6"
      },
      "source": [
        "**Train test split**"
      ]
    },
    {
      "cell_type": "code",
      "execution_count": null,
      "metadata": {
        "id": "rWUwL0C3YiL6"
      },
      "outputs": [],
      "source": [
        "X = df_encoded.drop('class',axis='columns')\n",
        "y = df_encoded['class']\n",
        "\n",
        "from sklearn.model_selection import train_test_split\n",
        "X_train, X_test, y_train, y_test = train_test_split(X, y, test_size=0.2, random_state=15, stratify=y)"
      ]
    },
    {
      "cell_type": "code",
      "source": [
        "def monitor_class_distribution(y):\n",
        "  class_distribution = np.bincount(y)\n",
        "  if class_distribution[1]>class_distribution[0]:\n",
        "    imbalance_ratio = class_distribution[1] / class_distribution[0]\n",
        "  else:\n",
        "    imbalance_ratio = class_distribution[0] / class_distribution[1]\n",
        "  return imbalance_ratio"
      ],
      "metadata": {
        "id": "4HN4Y4Z-eIKz"
      },
      "execution_count": null,
      "outputs": []
    },
    {
      "cell_type": "code",
      "source": [
        "imb_ratio=monitor_class_distribution(y)\n",
        "print(imb_ratio)"
      ],
      "metadata": {
        "colab": {
          "base_uri": "https://localhost:8080/"
        },
        "id": "ld0ZjQZReIOQ",
        "outputId": "568ed433-c8f0-43c6-928c-85fef40d4c10"
      },
      "execution_count": null,
      "outputs": [
        {
          "output_type": "stream",
          "name": "stdout",
          "text": [
            "2.3333333333333335\n"
          ]
        }
      ]
    },
    {
      "cell_type": "markdown",
      "source": [
        "before applying sampling"
      ],
      "metadata": {
        "id": "po8zhwenTiNA"
      }
    },
    {
      "cell_type": "code",
      "source": [
        "import time\n",
        "import psutil\n",
        "import xgboost as xgb\n",
        "from sklearn.metrics import accuracy_score, classification_report, roc_auc_score, roc_curve\n",
        "\n",
        "def train_resource_monitor(X_train, y_train):\n",
        "  model= xgb.XGBClassifier(\n",
        "      objective='binary:logistic',\n",
        "      max_depth=3,\n",
        "      learning_rate=0.1,\n",
        "      n_estimators=100,\n",
        "      subsample=0.8,\n",
        "      colsample_bytree=0.8\n",
        "  )\n",
        "  cpu_usage = []\n",
        "  memory_usage = []\n",
        "  initial_cpu_percent = psutil.cpu_percent(interval=None)\n",
        "  initial_memory_percent = psutil.virtual_memory().percent\n",
        "  start_time = time.time()\n",
        "  model.fit(X_train, y_train)\n",
        "  end_time = time.time()\n",
        "  execution_time = end_time - start_time\n",
        "  final_cpu_percent = psutil.cpu_percent(interval=None)\n",
        "  final_memory_percent = psutil.virtual_memory().percent\n",
        "  size=len(y_train)\n",
        "  print(f\"Input size: {size}, Execution time: {execution_time:.6f} seconds\")\n",
        "  print(f\"Initial CPU Usage: {initial_cpu_percent}%\")\n",
        "  print(f\"Final CPU Usage: {final_cpu_percent}%\")\n",
        "  print(f\"Initial Memory Usage: {initial_memory_percent}%\")\n",
        "  print(f\"Final Memory Usage: {final_memory_percent}%\")\n",
        "  return model"
      ],
      "metadata": {
        "id": "OJvq4O9Vwd7n"
      },
      "execution_count": null,
      "outputs": []
    },
    {
      "cell_type": "code",
      "source": [
        "model1=train_resource_monitor(X_train, y_train)"
      ],
      "metadata": {
        "colab": {
          "base_uri": "https://localhost:8080/"
        },
        "id": "z0j8bKXiIdWg",
        "outputId": "6cb36007-bcdd-45a7-96c1-3f5baeb9a9f6"
      },
      "execution_count": null,
      "outputs": [
        {
          "output_type": "stream",
          "name": "stdout",
          "text": [
            "Input size: 800, Execution time: 0.077674 seconds\n",
            "Initial CPU Usage: 33.0%\n",
            "Final CPU Usage: 80.0%\n",
            "Initial Memory Usage: 9.3%\n",
            "Final Memory Usage: 9.3%\n"
          ]
        }
      ]
    },
    {
      "cell_type": "code",
      "source": [
        "from sklearn.model_selection import KFold\n",
        "# Define the number of folds for cross-validation\n",
        "def k_fold_validation(X_train,y_train,model):\n",
        "  X_train = X_train.to_numpy()\n",
        "  y_train = y_train.to_numpy()\n",
        "  k=5\n",
        "  kf=KFold(n_splits=k,shuffle=True,random_state=42)\n",
        "  cv_scores=[]\n",
        "  cv_rocs=[]\n",
        "  for train_index,val_index in kf.split(X_train):\n",
        "    X_train_fold, X_val_fold = X_train[train_index], X_train[val_index]\n",
        "    y_train_fold, y_val_fold = y_train[train_index], y_train[val_index]\n",
        "    model.fit(X_train_fold, y_train_fold)\n",
        "    y_pred_val = model.predict(X_val_fold)\n",
        "    y_prob_roc=model.predict_proba(X_val_fold)[:, 1]\n",
        "    accuracy = accuracy_score(y_val_fold, y_pred_val)\n",
        "    roc_auc=roc_auc_score(y_val_fold, y_prob_roc)\n",
        "    cv_scores.append(accuracy)\n",
        "    cv_rocs.append(roc_auc)\n",
        "    print(\"Cross-validation scores:\", cv_scores)\n",
        "    print(\"Average cross-validation score:\", np.mean(cv_scores))\n",
        "    print(\"Cross-validation roc-auc:\", cv_rocs)\n",
        "    print(\"Average cross-validation roc-auc:\", np.mean(cv_rocs))\n",
        "    print('-----------------------------------------------------------------')"
      ],
      "metadata": {
        "id": "ekePD2WsIdbx"
      },
      "execution_count": null,
      "outputs": []
    },
    {
      "cell_type": "code",
      "source": [
        "k_fold_validation(X_train, y_train,model1)"
      ],
      "metadata": {
        "colab": {
          "base_uri": "https://localhost:8080/"
        },
        "id": "SO6zwiWTIdfK",
        "outputId": "b6aa4367-9c60-45a5-fc45-b37cdf09ed57"
      },
      "execution_count": null,
      "outputs": [
        {
          "output_type": "stream",
          "name": "stdout",
          "text": [
            "Cross-validation scores: [0.76875]\n",
            "Average cross-validation score: 0.76875\n",
            "Cross-validation roc-auc: [0.8177973892259606]\n",
            "Average cross-validation roc-auc: 0.8177973892259606\n",
            "-----------------------------------------------------------------\n",
            "Cross-validation scores: [0.76875, 0.74375]\n",
            "Average cross-validation score: 0.7562500000000001\n",
            "Cross-validation roc-auc: [0.8177973892259606, 0.7637648809523809]\n",
            "Average cross-validation roc-auc: 0.7907811350891707\n",
            "-----------------------------------------------------------------\n",
            "Cross-validation scores: [0.76875, 0.74375, 0.75]\n",
            "Average cross-validation score: 0.7541666666666668\n",
            "Cross-validation roc-auc: [0.8177973892259606, 0.7637648809523809, 0.7871853546910755]\n",
            "Average cross-validation roc-auc: 0.789582541623139\n",
            "-----------------------------------------------------------------\n",
            "Cross-validation scores: [0.76875, 0.74375, 0.75, 0.75]\n",
            "Average cross-validation score: 0.753125\n",
            "Cross-validation roc-auc: [0.8177973892259606, 0.7637648809523809, 0.7871853546910755, 0.802424965215663]\n",
            "Average cross-validation roc-auc: 0.79279314752127\n",
            "-----------------------------------------------------------------\n",
            "Cross-validation scores: [0.76875, 0.74375, 0.75, 0.75, 0.725]\n",
            "Average cross-validation score: 0.7475\n",
            "Cross-validation roc-auc: [0.8177973892259606, 0.7637648809523809, 0.7871853546910755, 0.802424965215663, 0.7858141160027953]\n",
            "Average cross-validation roc-auc: 0.791397341217575\n",
            "-----------------------------------------------------------------\n"
          ]
        }
      ]
    },
    {
      "cell_type": "code",
      "source": [
        "# Making predictions\n",
        "y_pred = model1.predict(X_test)\n",
        "\n",
        "# Evaluating the model\n",
        "accuracy = accuracy_score(y_test, y_pred)\n",
        "print(\"Accuracy:\", accuracy)"
      ],
      "metadata": {
        "colab": {
          "base_uri": "https://localhost:8080/"
        },
        "id": "m9dWV9OwInPN",
        "outputId": "49a4b2e6-b93e-485d-cf78-48e4b3c13aae"
      },
      "execution_count": null,
      "outputs": [
        {
          "output_type": "stream",
          "name": "stdout",
          "text": [
            "Accuracy: 0.725\n"
          ]
        }
      ]
    },
    {
      "cell_type": "code",
      "source": [
        "y_prob = model1.predict_proba(X_test)[:, 1]\n",
        "roc_auc = roc_auc_score(y_test, y_prob)\n",
        "print(\"ROC AUC Score:\", roc_auc)"
      ],
      "metadata": {
        "colab": {
          "base_uri": "https://localhost:8080/"
        },
        "id": "3TIMvetyInSp",
        "outputId": "67917b8e-c338-443f-827f-421eb11e0b82"
      },
      "execution_count": null,
      "outputs": [
        {
          "output_type": "stream",
          "name": "stdout",
          "text": [
            "ROC AUC Score: 0.7230952380952381\n"
          ]
        }
      ]
    },
    {
      "cell_type": "code",
      "source": [
        "# Generate ROC curve\n",
        "fpr, tpr, _ = roc_curve(y_test, y_prob)\n",
        "\n",
        "# Plot ROC curve\n",
        "plt.figure()\n",
        "plt.plot(fpr, tpr, color='darkorange', lw=2, label='ROC curve (area = %0.2f)' % roc_auc)\n",
        "plt.plot([0, 1], [0, 1], color='navy', lw=2, linestyle='--')\n",
        "plt.xlim([0.0, 1.0])\n",
        "plt.ylim([0.0, 1.05])\n",
        "plt.xlabel('False Positive Rate')\n",
        "plt.ylabel('True Positive Rate')\n",
        "plt.title('Receiver Operating Characteristic (ROC) Curve')\n",
        "plt.legend(loc=\"lower right\")\n",
        "plt.show()"
      ],
      "metadata": {
        "colab": {
          "base_uri": "https://localhost:8080/",
          "height": 472
        },
        "id": "C3uvlgWWVDsE",
        "outputId": "c415bc6f-3708-45ad-cbc5-93a08887d753"
      },
      "execution_count": null,
      "outputs": [
        {
          "output_type": "display_data",
          "data": {
            "text/plain": [
              "<Figure size 640x480 with 1 Axes>"
            ],
            "image/png": "[encoded data removed]"
          },
          "metadata": {}
        }
      ]
    },
    {
      "cell_type": "code",
      "source": [
        "# Print classification report\n",
        "print(\"Classification Report:\")\n",
        "print(classification_report(y_test, y_pred))"
      ],
      "metadata": {
        "colab": {
          "base_uri": "https://localhost:8080/"
        },
        "id": "0pW0jKLqVHYA",
        "outputId": "07e81348-e48d-4213-fb94-9470b854e83b"
      },
      "execution_count": null,
      "outputs": [
        {
          "output_type": "stream",
          "name": "stdout",
          "text": [
            "Classification Report:\n",
            "              precision    recall  f1-score   support\n",
            "\n",
            "           0       0.76      0.88      0.82       140\n",
            "           1       0.56      0.37      0.44        60\n",
            "\n",
            "    accuracy                           0.73       200\n",
            "   macro avg       0.66      0.62      0.63       200\n",
            "weighted avg       0.70      0.72      0.71       200\n",
            "\n"
          ]
        }
      ]
    },
    {
      "cell_type": "markdown",
      "source": [
        "applying sampling"
      ],
      "metadata": {
        "id": "E8Om1yPUTe6J"
      }
    },
    {
      "cell_type": "code",
      "source": [
        "X2 = df_encoded.drop('class',axis='columns')\n",
        "y2 = df_encoded['class']"
      ],
      "metadata": {
        "id": "5TMf8tv0yAPz"
      },
      "execution_count": null,
      "outputs": []
    },
    {
      "cell_type": "code",
      "source": [
        "print(X2.dtypes)"
      ],
      "metadata": {
        "colab": {
          "base_uri": "https://localhost:8080/"
        },
        "id": "THrQqjFGVhgV",
        "outputId": "5c98034f-80c2-4001-9b06-9f77c87b96a0"
      },
      "execution_count": null,
      "outputs": [
        {
          "output_type": "stream",
          "name": "stdout",
          "text": [
            "Attribute1     int64\n",
            "Attribute2     int64\n",
            "Attribute3     int64\n",
            "Attribute4     int64\n",
            "Attribute5     int64\n",
            "Attribute6     int64\n",
            "Attribute7     int64\n",
            "Attribute8     int64\n",
            "Attribute9     int64\n",
            "Attribute10    int64\n",
            "Attribute11    int64\n",
            "Attribute12    int64\n",
            "Attribute13    int64\n",
            "Attribute14    int64\n",
            "Attribute15    int64\n",
            "Attribute16    int64\n",
            "Attribute17    int64\n",
            "Attribute18    int64\n",
            "Attribute19    int64\n",
            "Attribute20    int64\n",
            "dtype: object\n"
          ]
        }
      ]
    },
    {
      "cell_type": "code",
      "source": [
        "X2.shape, y2.shape"
      ],
      "metadata": {
        "colab": {
          "base_uri": "https://localhost:8080/"
        },
        "id": "IsDsF-sYZnHK",
        "outputId": "b59e682c-ff08-4f12-8e9e-5c27e341217e"
      },
      "execution_count": null,
      "outputs": [
        {
          "output_type": "execute_result",
          "data": {
            "text/plain": [
              "((1000, 20), (1000,))"
            ]
          },
          "metadata": {},
          "execution_count": 30
        }
      ]
    },
    {
      "cell_type": "code",
      "source": [
        "y2.value_counts()"
      ],
      "metadata": {
        "colab": {
          "base_uri": "https://localhost:8080/"
        },
        "id": "amfegDMFZuKq",
        "outputId": "1bfef6b9-9e6e-47b7-f1cd-990eac7ed5d8"
      },
      "execution_count": null,
      "outputs": [
        {
          "output_type": "execute_result",
          "data": {
            "text/plain": [
              "class\n",
              "0    700\n",
              "1    300\n",
              "Name: count, dtype: int64"
            ]
          },
          "metadata": {},
          "execution_count": 31
        }
      ]
    },
    {
      "cell_type": "code",
      "source": [
        "df_encoded.columns[:-1].tolist()"
      ],
      "metadata": {
        "colab": {
          "base_uri": "https://localhost:8080/"
        },
        "id": "f2OVDfWZ9rJH",
        "outputId": "7e1535ff-30e5-4e94-b4df-113c7972ada0"
      },
      "execution_count": null,
      "outputs": [
        {
          "output_type": "execute_result",
          "data": {
            "text/plain": [
              "['Attribute1',\n",
              " 'Attribute2',\n",
              " 'Attribute3',\n",
              " 'Attribute4',\n",
              " 'Attribute5',\n",
              " 'Attribute6',\n",
              " 'Attribute7',\n",
              " 'Attribute8',\n",
              " 'Attribute9',\n",
              " 'Attribute10',\n",
              " 'Attribute11',\n",
              " 'Attribute12',\n",
              " 'Attribute13',\n",
              " 'Attribute14',\n",
              " 'Attribute15',\n",
              " 'Attribute16',\n",
              " 'Attribute17',\n",
              " 'Attribute18',\n",
              " 'Attribute19',\n",
              " 'Attribute20']"
            ]
          },
          "metadata": {},
          "execution_count": 32
        }
      ]
    },
    {
      "cell_type": "code",
      "source": [
        "import pandas as pd\n",
        "from imblearn.over_sampling import KMeansSMOTE\n",
        "from imblearn.under_sampling import ClusterCentroids\n",
        "\n",
        "def adjust_sampling_parameters(X,y):\n",
        "  # Apply KMeansSMOTE to the minority class\n",
        "  kmeans_smote = KMeansSMOTE(sampling_strategy='auto', k_neighbors=8, cluster_balance_threshold=0.0)\n",
        "  X_kmeans_smote, y_kmeans_smote = kmeans_smote.fit_resample(X, y)\n",
        "\n",
        "  # Apply Cluster Centroids undersampling to the majority class\n",
        "  cluster_centroids = ClusterCentroids(sampling_strategy='auto')\n",
        "  X_cluster_centroids, y_cluster_centroids = cluster_centroids.fit_resample(X, y)\n",
        "\n",
        "  # Concatenate the resampled data\n",
        "  X_combined_resampled = np.concatenate((X_kmeans_smote, X_cluster_centroids), axis=0)\n",
        "  y_combined_resampled = np.concatenate((y_kmeans_smote, y_cluster_centroids), axis=0)\n",
        "\n",
        "  # Convert combined resampled data to DataFrame\n",
        "  combined_df = pd.DataFrame(data=X_combined_resampled, columns=X.columns.tolist())\n",
        "  combined_df['Class'] = y_combined_resampled\n",
        "  return combined_df\n",
        "\n"
      ],
      "metadata": {
        "id": "uVn1hhA5fajZ"
      },
      "execution_count": null,
      "outputs": []
    },
    {
      "cell_type": "code",
      "source": [
        "tolerance=0.2\n",
        "def class_distribution_check(combined_df):\n",
        "  X_combined = combined_df.drop('Class',axis='columns')\n",
        "  y_combined = combined_df['Class']\n",
        "  class_distribution=monitor_class_distribution(y_combined)\n",
        "  while abs(class_distribution-1)>tolerance:\n",
        "    #print(abs(class_distribution-1))\n",
        "    combine_data=adjust_sampling_parameters(X_combined, y_combined)\n",
        "    X_combined=combine_data.drop('Class',axis='columns')\n",
        "    y_combined=combine_data['Class']\n",
        "    class_distribution=monitor_class_distribution(y_combined)\n",
        "  return X_combined, y_combined"
      ],
      "metadata": {
        "id": "KNVVbORCfal1"
      },
      "execution_count": null,
      "outputs": []
    },
    {
      "cell_type": "code",
      "source": [
        "combined_df=adjust_sampling_parameters(X2,y2)\n",
        "X_combined,y_combined=class_distribution_check(combined_df)\n",
        "X_train, X_test, y_train, y_test = train_test_split(X_combined, y_combined, test_size=0.2, random_state=42)"
      ],
      "metadata": {
        "id": "xNCAZhjMfapU"
      },
      "execution_count": null,
      "outputs": []
    },
    {
      "cell_type": "code",
      "source": [
        "print((X_combined.shape))"
      ],
      "metadata": {
        "colab": {
          "base_uri": "https://localhost:8080/"
        },
        "id": "hi3wHSijfjgF",
        "outputId": "5ef4da67-76b7-4595-d513-d806477ae11e"
      },
      "execution_count": null,
      "outputs": [
        {
          "output_type": "stream",
          "name": "stdout",
          "text": [
            "(2006, 20)\n"
          ]
        }
      ]
    },
    {
      "cell_type": "code",
      "source": [
        "'''import pandas as pd\n",
        "from imblearn.over_sampling import KMeansSMOTE\n",
        "from imblearn.under_sampling import ClusterCentroids\n",
        "\n",
        "# Assuming you have X and y defined\n",
        "# Apply KMeansSMOTE to the minority class\n",
        "kmeans_smote = KMeansSMOTE(sampling_strategy='auto', k_neighbors=8, cluster_balance_threshold=0.0)\n",
        "X_kmeans_smote, y_kmeans_smote = kmeans_smote.fit_resample(X, y)\n",
        "\n",
        "# Apply Cluster Centroids undersampling to the majority class\n",
        "cluster_centroids = ClusterCentroids(sampling_strategy='auto')\n",
        "X_cluster_centroids, y_cluster_centroids = cluster_centroids.fit_resample(X, y)\n",
        "\n",
        "# Concatenate the resampled data\n",
        "X_combined_resampled = np.concatenate((X_kmeans_smote, X_cluster_centroids), axis=0)\n",
        "y_combined_resampled = np.concatenate((y_kmeans_smote, y_cluster_centroids), axis=0)\n",
        "\n",
        "# Convert combined resampled data to DataFrame\n",
        "combined_df = pd.DataFrame(data=X_combined_resampled, columns=['Attribute1', 'Attribute2', 'Attribute3', 'Attribute4', 'Attribute5',\n",
        "       'Attribute6', 'Attribute7', 'Attribute8', 'Attribute9', 'Attribute10',\n",
        "       'Attribute11', 'Attribute12', 'Attribute13', 'Attribute14',\n",
        "       'Attribute15', 'Attribute16', 'Attribute17', 'Attribute18',\n",
        "       'Attribute19', 'Attribute20'])\n",
        "combined_df['class'] = y_combined_resampled'''\n",
        "\n"
      ],
      "metadata": {
        "id": "XYBQn8Zp92km"
      },
      "execution_count": null,
      "outputs": []
    },
    {
      "cell_type": "code",
      "source": [
        "model2=train_resource_monitor(X_combined, y_combined)"
      ],
      "metadata": {
        "colab": {
          "base_uri": "https://localhost:8080/"
        },
        "id": "vdQq55r9I4hN",
        "outputId": "252ccd7e-3035-4f06-8efe-8bf13062f2ac"
      },
      "execution_count": null,
      "outputs": [
        {
          "output_type": "stream",
          "name": "stdout",
          "text": [
            "Input size: 2006, Execution time: 0.058681 seconds\n",
            "Initial CPU Usage: 31.6%\n",
            "Final CPU Usage: 100.0%\n",
            "Initial Memory Usage: 11.7%\n",
            "Final Memory Usage: 11.7%\n"
          ]
        }
      ]
    },
    {
      "cell_type": "code",
      "source": [
        "k_fold_validation(X_train, y_train,model2)"
      ],
      "metadata": {
        "colab": {
          "base_uri": "https://localhost:8080/"
        },
        "id": "ewqnlB1bI7-S",
        "outputId": "1900db75-8be3-4cea-83f6-3b643b1de1a7"
      },
      "execution_count": null,
      "outputs": [
        {
          "output_type": "stream",
          "name": "stdout",
          "text": [
            "Cross-validation scores: [0.8442367601246106]\n",
            "Average cross-validation score: 0.8442367601246106\n",
            "Cross-validation roc-auc: [0.9056992002484666]\n",
            "Average cross-validation roc-auc: 0.9056992002484666\n",
            "-----------------------------------------------------------------\n",
            "Cross-validation scores: [0.8442367601246106, 0.8068535825545171]\n",
            "Average cross-validation score: 0.8255451713395638\n",
            "Cross-validation roc-auc: [0.9056992002484666, 0.8937888198757763]\n",
            "Average cross-validation roc-auc: 0.8997440100621215\n",
            "-----------------------------------------------------------------\n",
            "Cross-validation scores: [0.8442367601246106, 0.8068535825545171, 0.8255451713395638]\n",
            "Average cross-validation score: 0.8255451713395638\n",
            "Cross-validation roc-auc: [0.9056992002484666, 0.8937888198757763, 0.8948285420131463]\n",
            "Average cross-validation roc-auc: 0.8981055207124631\n",
            "-----------------------------------------------------------------\n",
            "Cross-validation scores: [0.8442367601246106, 0.8068535825545171, 0.8255451713395638, 0.8317757009345794]\n",
            "Average cross-validation score: 0.8271028037383177\n",
            "Cross-validation roc-auc: [0.9056992002484666, 0.8937888198757763, 0.8948285420131463, 0.9077944527382729]\n",
            "Average cross-validation roc-auc: 0.9005277537189156\n",
            "-----------------------------------------------------------------\n",
            "Cross-validation scores: [0.8442367601246106, 0.8068535825545171, 0.8255451713395638, 0.8317757009345794, 0.834375]\n",
            "Average cross-validation score: 0.828557242990654\n",
            "Cross-validation roc-auc: [0.9056992002484666, 0.8937888198757763, 0.8948285420131463, 0.9077944527382729, 0.9029258955427947]\n",
            "Average cross-validation roc-auc: 0.9010073820836914\n",
            "-----------------------------------------------------------------\n"
          ]
        }
      ]
    },
    {
      "cell_type": "code",
      "source": [
        "# Making predictions\n",
        "y_pred = model2.predict(X_test)\n",
        "\n",
        "# Evaluating the model\n",
        "accuracy = accuracy_score(y_test, y_pred)\n",
        "print(\"Accuracy:\", accuracy)"
      ],
      "metadata": {
        "colab": {
          "base_uri": "https://localhost:8080/"
        },
        "id": "G2mrYKrZI8Bl",
        "outputId": "5b4496db-07bd-497e-b07e-877cb8b98456"
      },
      "execution_count": null,
      "outputs": [
        {
          "output_type": "stream",
          "name": "stdout",
          "text": [
            "Accuracy: 0.835820895522388\n"
          ]
        }
      ]
    },
    {
      "cell_type": "code",
      "source": [
        "y_prob = model2.predict_proba(X_test)[:, 1]\n",
        "roc_auc = roc_auc_score(y_test, y_prob)\n",
        "print(\"ROC AUC Score:\", roc_auc)"
      ],
      "metadata": {
        "colab": {
          "base_uri": "https://localhost:8080/"
        },
        "id": "4pYjF42odp_u",
        "outputId": "aee7f9b5-adfb-4395-9ace-07d115d24d11"
      },
      "execution_count": null,
      "outputs": [
        {
          "output_type": "stream",
          "name": "stdout",
          "text": [
            "ROC AUC Score: 0.914770898829121\n"
          ]
        }
      ]
    },
    {
      "cell_type": "code",
      "source": [
        "# Generate ROC curve\n",
        "fpr, tpr, _ = roc_curve(y_test, y_prob)\n",
        "\n",
        "# Plot ROC curve\n",
        "plt.figure()\n",
        "plt.plot(fpr, tpr, color='darkorange', lw=2, label='ROC curve (area = %0.2f)' % roc_auc)\n",
        "plt.plot([0, 1], [0, 1], color='navy', lw=2, linestyle='--')\n",
        "plt.xlim([0.0, 1.0])\n",
        "plt.ylim([0.0, 1.05])\n",
        "plt.xlabel('False Positive Rate')\n",
        "plt.ylabel('True Positive Rate')\n",
        "plt.title('Receiver Operating Characteristic (ROC) Curve')\n",
        "plt.legend(loc=\"lower right\")\n",
        "plt.show()"
      ],
      "metadata": {
        "colab": {
          "base_uri": "https://localhost:8080/",
          "height": 472
        },
        "id": "66bn12_Zep2s",
        "outputId": "751337e6-bf96-47b2-8d5e-6b9a050096c6"
      },
      "execution_count": null,
      "outputs": [
        {
          "output_type": "display_data",
          "data": {
            "text/plain": [
              "<Figure size 640x480 with 1 Axes>"
            ],
            "image/png": "[encoded data removed]"
          },
          "metadata": {}
        }
      ]
    },
    {
      "cell_type": "code",
      "source": [
        "# Print classification report\n",
        "print(\"Classification Report:\")\n",
        "print(classification_report(y_test, y_pred))"
      ],
      "metadata": {
        "colab": {
          "base_uri": "https://localhost:8080/"
        },
        "id": "CTXSaElEeqMF",
        "outputId": "fdd85d51-e52f-4279-cdfe-9a75bc0b7751"
      },
      "execution_count": null,
      "outputs": [
        {
          "output_type": "stream",
          "name": "stdout",
          "text": [
            "Classification Report:\n",
            "              precision    recall  f1-score   support\n",
            "\n",
            "           0       0.82      0.86      0.84       203\n",
            "           1       0.85      0.81      0.83       199\n",
            "\n",
            "    accuracy                           0.84       402\n",
            "   macro avg       0.84      0.84      0.84       402\n",
            "weighted avg       0.84      0.84      0.84       402\n",
            "\n"
          ]
        }
      ]
    },
    {
      "cell_type": "code",
      "source": [
        "import pickle\n",
        "\n",
        "# Assuming you have trained an XGBoost model named 'model'\n",
        "\n",
        "# Save the model to a file\n",
        "with open('xgboost_model_credit.pkl', 'wb') as f:\n",
        "    pickle.dump(model2, f)"
      ],
      "metadata": {
        "id": "sdNGMjnTwUx6"
      },
      "execution_count": null,
      "outputs": []
    },
    {
      "cell_type": "code",
      "source": [
        "import pickle\n",
        "\n",
        "# Load the model from the file\n",
        "with open('xgboost_model_credit.pkl', 'rb') as f:\n",
        "    loaded_model = pickle.load(f)"
      ],
      "metadata": {
        "id": "e56vbtPMw2-q"
      },
      "execution_count": null,
      "outputs": []
    },
    {
      "cell_type": "code",
      "source": [
        "predictions = loaded_model.predict(X_test)"
      ],
      "metadata": {
        "id": "Y8T5PQHFw5Sy"
      },
      "execution_count": null,
      "outputs": []
    },
    {
      "cell_type": "code",
      "source": [
        "# Print classification report\n",
        "print(\"Classification Report:\")\n",
        "print(classification_report(y_test, predictions))"
      ],
      "metadata": {
        "colab": {
          "base_uri": "https://localhost:8080/"
        },
        "id": "O2GYyIjMw9xH",
        "outputId": "696d528c-6fd6-4960-d42a-95dd34143029"
      },
      "execution_count": null,
      "outputs": [
        {
          "output_type": "stream",
          "name": "stdout",
          "text": [
            "Classification Report:\n",
            "              precision    recall  f1-score   support\n",
            "\n",
            "           0       0.82      0.86      0.84       203\n",
            "           1       0.85      0.81      0.83       199\n",
            "\n",
            "    accuracy                           0.84       402\n",
            "   macro avg       0.84      0.84      0.84       402\n",
            "weighted avg       0.84      0.84      0.84       402\n",
            "\n"
          ]
        }
      ]
    },
    {
      "cell_type": "code",
      "source": [],
      "metadata": {
        "id": "bnhgAzwsxB_t"
      },
      "execution_count": null,
      "outputs": []
    }
  ],
  "metadata": {
    "kernelspec": {
      "display_name": "Python 3",
      "name": "python3"
    },
    "language_info": {
      "codemirror_mode": {
        "name": "ipython",
        "version": 3
      },
      "file_extension": ".py",
      "mimetype": "text/x-python",
      "name": "python",
      "nbconvert_exporter": "python",
      "pygments_lexer": "ipython3",
      "version": "3.8.5"
    },
    "colab": {
      "provenance": [],
      "gpuType": "T4"
    },
    "accelerator": "GPU"
  },
  "nbformat": 4,
  "nbformat_minor": 0
}