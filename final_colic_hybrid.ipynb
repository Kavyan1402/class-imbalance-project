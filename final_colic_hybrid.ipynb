{
  "cells": [
    {
      "cell_type": "code",
      "source": [
        "!pip install ucimlrepo"
      ],
      "metadata": {
        "colab": {
          "base_uri": "https://localhost:8080/"
        },
        "id": "uGi3haGlY106",
        "outputId": "87d6bd95-7672-4169-9f2e-0d416d577cfe"
      },
      "execution_count": null,
      "outputs": [
        {
          "output_type": "stream",
          "name": "stdout",
          "text": [
            "Requirement already satisfied: ucimlrepo in /usr/local/lib/python3.10/dist-packages (0.0.6)\n"
          ]
        }
      ]
    },
    {
      "cell_type": "code",
      "source": [
        "from ucimlrepo import fetch_ucirepo\n",
        "\n",
        "# fetch dataset\n",
        "horse_colic = fetch_ucirepo(id=47)\n",
        "\n",
        "# data (as pandas dataframes)\n",
        "X = horse_colic.data.features\n",
        "y = horse_colic.data.targets\n",
        "\n",
        "# metadata\n",
        "print(horse_colic.metadata)\n",
        "\n",
        "# variable information\n",
        "print(horse_colic.variables)\n"
      ],
      "metadata": {
        "colab": {
          "base_uri": "https://localhost:8080/"
        },
        "id": "DoMdfsbLf8i4",
        "outputId": "54eb4129-e3b7-4a95-f007-eb9ebb54d08e"
      },
      "execution_count": null,
      "outputs": [
        {
          "output_type": "stream",
          "name": "stdout",
          "text": [
            "{'uci_id': 47, 'name': 'Horse Colic', 'repository_url': 'https://archive.ics.uci.edu/dataset/47/horse+colic', 'data_url': 'https://archive.ics.uci.edu/static/public/47/data.csv', 'abstract': 'Well documented attributes; 368 instances with 28 attributes (continuous, discrete, and nominal); 30% missing values', 'area': 'Biology', 'tasks': ['Classification'], 'characteristics': ['Multivariate'], 'num_instances': 368, 'num_features': 27, 'feature_types': ['Categorical', 'Integer', 'Real'], 'demographics': ['Age'], 'target_col': ['surgical_lesion'], 'index_col': None, 'has_missing_values': 'yes', 'missing_values_symbol': 'NaN', 'year_of_dataset_creation': 1989, 'last_updated': 'Mon Feb 26 2024', 'dataset_doi': '10.24432/C58W23', 'creators': ['Mary McLeish', 'Matt Cecile'], 'intro_paper': None, 'additional_info': {'summary': '2 data files: \\r\\n      -- horse-colic.data: 300 training instances\\r\\n      -- horse-colic.test: 68 test instances\\r\\n\\r\\nPossible class attributes: 24 (whether lesion is surgical)\\r\\n     -- others include: 23, 25, 26, and 27\\r\\n\\r\\nMany Data types: (continuous, discrete, and nominal)', 'purpose': None, 'funded_by': None, 'instances_represent': None, 'recommended_data_splits': None, 'sensitive_data': None, 'preprocessing_description': None, 'variable_info': \"  1:  surgery?\\r\\n          1 = Yes, it had surgery\\r\\n          2 = It was treated without surgery\\r\\n\\r\\n  2:  Age \\r\\n          1 = Adult horse\\r\\n          2 = Young (< 6 months)\\r\\n\\r\\n  3:  Hospital Number \\r\\n          - numeric id\\r\\n          - the case number assigned to the horse (may not be unique if the horse is treated > 1 time)\\r\\n\\r\\n  4:  rectal temperature\\r\\n          - linear\\r\\n          - in degrees celsius.\\r\\n          - An elevated temp may occur due to infection.\\r\\n          - temperature may be reduced when the animal is in late shock\\r\\n          - normal temp is 37.8\\r\\n          - this parameter will usually change as the problem progresses, eg. may start out normal, then become elevated because of the lesion, passing back through the normal range as the horse goes into shock\\r\\n  5:  pulse \\r\\n          - linear\\r\\n          - the heart rate in beats per minute\\r\\n          - is a reflection of the heart condition: 30 -40 is normal for adults\\r\\n          - rare to have a lower than normal rate although athletic horses may have a rate of 20-25\\r\\n          - animals with painful lesions or suffering from circulatory shock may have an elevated heart rate\\r\\n\\r\\n  6:  respiratory rate\\r\\n          - linear\\r\\n          - normal rate is 8 to 10\\r\\n          - usefulness is doubtful due to the great fluctuations\\r\\n\\r\\n  7:  temperature of extremities\\r\\n          - a subjective indication of peripheral circulation\\r\\n          - possible values:\\r\\n               1 = Normal\\r\\n               2 = Warm\\r\\n               3 = Cool\\r\\n               4 = Cold\\r\\n          - cool to cold extremities indicate possible shock\\r\\n          - hot extremities should correlate with an elevated rectal temp.\\r\\n\\r\\n  8:  peripheral pulse\\r\\n          - subjective\\r\\n          - possible values are:\\r\\n               1 = normal\\r\\n               2 = increased\\r\\n               3 = reduced\\r\\n               4 = absent\\r\\n          - normal or increased p.p. are indicative of adequate circulation while reduced or absent indicate poor perfusion\\r\\n\\r\\n  9:  mucous membranes\\r\\n          - a subjective measurement of colour\\r\\n          - possible values are:\\r\\n               1 = normal pink\\r\\n               2 = bright pink\\r\\n               3 = pale pink\\r\\n               4 = pale cyanotic\\r\\n               5 = bright red / injected\\r\\n               6 = dark cyanotic\\r\\n          - 1 and 2 probably indicate a normal or slightly increased circulation\\r\\n          - 3 may occur in early shock\\r\\n          - 4 and 6 are indicative of serious circulatory compromise\\r\\n          - 5 is more indicative of a septicemia\\r\\n\\r\\n 10: capillary refill time\\r\\n          - a clinical judgement. The longer the refill, the poorer the circulation\\r\\n          - possible values\\r\\n               1 = < 3 seconds\\r\\n               2 = >= 3 seconds\\r\\n\\r\\n 11: pain - a subjective judgement of the horse's pain level\\r\\n          - possible values:\\r\\n               1 = alert, no pain\\r\\n               2 = depressed\\r\\n               3 = intermittent mild pain\\r\\n               4 = intermittent severe pain\\r\\n               5 = continuous severe pain\\r\\n          - should NOT be treated as a ordered or discrete variable!\\r\\n          - In general, the more painful, the more likely it is to require surgery\\r\\n          - prior treatment of pain may mask the pain level to some extent\\r\\n\\r\\n 12: peristalsis                              \\r\\n          - an indication of the activity in the horse's gut. As the gut becomes more distended or the horse becomes more toxic, the activity decreases\\r\\n          - possible values:\\r\\n               1 = hypermotile\\r\\n               2 = normal\\r\\n               3 = hypomotile\\r\\n               4 = absent\\r\\n\\r\\n 13: abdominal distension\\r\\n          - An IMPORTANT parameter.\\r\\n          - possible values\\r\\n               1 = none\\r\\n               2 = slight\\r\\n               3 = moderate\\r\\n               4 = severe\\r\\n          - an animal with abdominal distension is likely to be painful and have reduced gut motility.\\r\\n          - a horse with severe abdominal distension is likely to require surgery just tio relieve the pressure\\r\\n\\r\\n 14: nasogastric tube\\r\\n          - this refers to any gas coming out of the tube\\r\\n          - possible values:\\r\\n               1 = none\\r\\n               2 = slight\\r\\n               3 = significant\\r\\n          - a large gas cap in the stomach is likely to give the horse discomfort\\r\\n\\r\\n 15: nasogastric reflux\\r\\n          - possible values\\r\\n               1 = none\\r\\n               2 = > 1 liter\\r\\n               3 = < 1 liter\\r\\n          - the greater amount of reflux, the more likelihood that there is some serious obstruction to the fluid passage from the rest of the intestine\\r\\n\\r\\n 16: nasogastric reflux PH\\r\\n          - linear\\r\\n          - scale is from 0 to 14 with 7 being neutral\\r\\n          - normal values are in the 3 to 4 range\\r\\n\\r\\n 17: rectal examination - feces\\r\\n          - possible values\\r\\n               1 = normal\\r\\n               2 = increased\\r\\n               3 = decreased\\r\\n               4 = absent\\r\\n          - absent feces probably indicates an obstruction\\r\\n\\r\\n 18: abdomen\\r\\n          - possible values\\r\\n               1 = normal\\r\\n               2 = other\\r\\n               3 = firm feces in the large intestine\\r\\n               4 = distended small intestine\\r\\n               5 = distended large intestine\\r\\n          - 3 is probably an obstruction caused by a mechanical impaction and is normally treated medically\\r\\n          - 4 and 5 indicate a surgical lesion\\r\\n\\r\\n 19: packed cell volume\\r\\n          - linear\\r\\n          - the # of red cells by volume in the blood\\r\\n          - normal range is 30 to 50. The level rises as the circulation becomes compromised or as the animal becomes dehydrated.\\r\\n\\r\\n 20: total protein\\r\\n          - linear\\r\\n          - normal values lie in the 6-7.5 (gms/dL) range\\r\\n          - the higher the value the greater the dehydration\\r\\n\\r\\n 21: abdominocentesis appearance\\r\\n          - a needle is put in the horse's abdomen and fluid is obtained from\\r\\n            the abdominal cavity\\r\\n          - possible values:\\r\\n               1 = clear\\r\\n               2 = cloudy\\r\\n               3 = serosanguinous\\r\\n          - normal fluid is clear while cloudy or serosanguinous indicates a compromised gut\\r\\n\\r\\n 22: abdomcentesis total protein\\r\\n          - linear\\r\\n          - the higher the level of protein the more likely it is to have a compromised gut. Values are in gms/dL\\r\\n\\r\\n 23: outcome\\r\\n          - what eventually happened to the horse?\\r\\n          - possible values:\\r\\n               1 = lived\\r\\n               2 = died\\r\\n               3 = was euthanized\\r\\n\\r\\n 24: surgical lesion?\\r\\n          - retrospectively, was the problem (lesion) surgical?\\r\\n          - all cases are either operated upon or autopsied so that this value and the lesion type are always known\\r\\n          - possible values:\\r\\n               1 = Yes\\r\\n               2 = No\\r\\n\\r\\n 25, 26, 27: type of lesion\\r\\n          - first number is site of lesion\\r\\n               1 = gastric\\r\\n               2 = sm intestine\\r\\n               3 = lg colon\\r\\n               4 = lg colon and cecum\\r\\n               5 = cecum\\r\\n               6 = transverse colon\\r\\n               7 = retum/descending colon\\r\\n               8 = uterus\\r\\n               9 = bladder\\r\\n               11 = all intestinal sites\\r\\n               00 = none\\r\\n          - second number is type\\r\\n               1 = simple\\r\\n               2 = strangulation\\r\\n               3 = inflammation\\r\\n               4 = other\\r\\n          - third number is subtype\\r\\n               1 = mechanical\\r\\n               2 = paralytic\\r\\n               0 = n/a\\r\\n          - fourth number is specific code\\r\\n               1 = obturation\\r\\n               2 = intrinsic\\r\\n               3 = extrinsic\\r\\n               4 = adynamic\\r\\n               5 = volvulus/torsion\\r\\n               6 = intussuption\\r\\n               7 = thromboembolic\\r\\n               8 = hernia\\r\\n               9 = lipoma/slenic incarceration\\r\\n               10 = displacement\\r\\n               0 = n/a\\r\\n 28: cp_data\\r\\n          - is pathology data present for this case?\\r\\n               1 = Yes\\r\\n               2 = No\\r\\n          - this variable is of no significance since pathology data is not included or collected for these cases\", 'citation': None}}\n",
            "                              name     role        type demographic  \\\n",
            "0                          surgery  Feature     Integer        None   \n",
            "1                              age  Feature     Integer         Age   \n",
            "2                  hospital_number  Feature     Integer        None   \n",
            "3               rectal_temperature  Feature  Continuous        None   \n",
            "4                            pulse  Feature     Integer        None   \n",
            "5                 respiratory_rate  Feature     Integer        None   \n",
            "6       temperature_of_extremities  Feature     Integer        None   \n",
            "7                 peripheral_pulse  Feature     Integer        None   \n",
            "8                 mucous_membranes  Feature     Integer        None   \n",
            "9            capillary_refill_time  Feature     Integer        None   \n",
            "10                            pain  Feature     Integer        None   \n",
            "11                     peristalsis  Feature     Integer        None   \n",
            "12            abdominal_distension  Feature     Integer        None   \n",
            "13                nasogastric_tube  Feature     Integer        None   \n",
            "14              nasogastric_reflux  Feature     Integer        None   \n",
            "15           nasogastric_reflux_ph  Feature  Continuous        None   \n",
            "16        rectal_examination_feces  Feature     Integer        None   \n",
            "17                         abdomen  Feature     Integer        None   \n",
            "18              packed_cell_volume  Feature     Integer        None   \n",
            "19                   total_protein  Feature     Integer        None   \n",
            "20     abdominocentesis_appearance  Feature     Integer        None   \n",
            "21  abdominocentesis_total_protein  Feature     Integer        None   \n",
            "22                         outcome  Feature     Integer        None   \n",
            "23                 surgical_lesion   Target     Integer        None   \n",
            "24                     lesion_site  Feature     Integer        None   \n",
            "25                     lesion_type  Feature     Integer        None   \n",
            "26                  lesion_subtype  Feature     Integer        None   \n",
            "27                         cp_data  Feature     Integer        None   \n",
            "\n",
            "   description units missing_values  \n",
            "0         None  None            yes  \n",
            "1         None  None             no  \n",
            "2         None  None             no  \n",
            "3         None  None            yes  \n",
            "4         None  None            yes  \n",
            "5         None  None            yes  \n",
            "6         None  None            yes  \n",
            "7         None  None            yes  \n",
            "8         None  None            yes  \n",
            "9         None  None            yes  \n",
            "10        None  None            yes  \n",
            "11        None  None            yes  \n",
            "12        None  None            yes  \n",
            "13        None  None            yes  \n",
            "14        None  None            yes  \n",
            "15        None  None            yes  \n",
            "16        None  None            yes  \n",
            "17        None  None            yes  \n",
            "18        None  None            yes  \n",
            "19        None  None            yes  \n",
            "20        None  None            yes  \n",
            "21        None  None            yes  \n",
            "22        None  None            yes  \n",
            "23        None  None             no  \n",
            "24        None  None             no  \n",
            "25        None  None             no  \n",
            "26        None  None             no  \n",
            "27        None  None             no  \n"
          ]
        }
      ]
    },
    {
      "cell_type": "code",
      "source": [
        "horse_colic.data.targets.value_counts()"
      ],
      "metadata": {
        "colab": {
          "base_uri": "https://localhost:8080/"
        },
        "id": "obRiSKRogCqK",
        "outputId": "95478358-bfbd-42b0-d634-f853ca455837"
      },
      "execution_count": null,
      "outputs": [
        {
          "output_type": "execute_result",
          "data": {
            "text/plain": [
              "surgical_lesion\n",
              "1                  232\n",
              "2                  136\n",
              "Name: count, dtype: int64"
            ]
          },
          "metadata": {},
          "execution_count": 53
        }
      ]
    },
    {
      "cell_type": "code",
      "source": [
        "X.columns"
      ],
      "metadata": {
        "colab": {
          "base_uri": "https://localhost:8080/"
        },
        "id": "7mLqwivJggNJ",
        "outputId": "01adbeef-6188-4046-c613-74beb38b719d"
      },
      "execution_count": null,
      "outputs": [
        {
          "output_type": "execute_result",
          "data": {
            "text/plain": [
              "Index(['surgery', 'age', 'hospital_number', 'rectal_temperature', 'pulse',\n",
              "       'respiratory_rate', 'temperature_of_extremities', 'peripheral_pulse',\n",
              "       'mucous_membranes', 'capillary_refill_time', 'pain', 'peristalsis',\n",
              "       'abdominal_distension', 'nasogastric_tube', 'nasogastric_reflux',\n",
              "       'nasogastric_reflux_ph', 'rectal_examination_feces', 'abdomen',\n",
              "       'packed_cell_volume', 'total_protein', 'abdominocentesis_appearance',\n",
              "       'abdominocentesis_total_protein', 'outcome', 'lesion_site',\n",
              "       'lesion_type', 'lesion_subtype', 'cp_data'],\n",
              "      dtype='object')"
            ]
          },
          "metadata": {},
          "execution_count": 54
        }
      ]
    },
    {
      "cell_type": "code",
      "execution_count": null,
      "metadata": {
        "id": "GvC3RAjvYiLm"
      },
      "outputs": [],
      "source": [
        "import pandas as pd\n",
        "from matplotlib import pyplot as plt\n",
        "import numpy as np"
      ]
    },
    {
      "cell_type": "code",
      "execution_count": null,
      "metadata": {
        "id": "KYel4oz2YiLo"
      },
      "outputs": [],
      "source": [
        "import warnings\n",
        "warnings.filterwarnings('ignore')"
      ]
    },
    {
      "cell_type": "code",
      "execution_count": null,
      "metadata": {
        "scrolled": true,
        "colab": {
          "base_uri": "https://localhost:8080/",
          "height": 255
        },
        "id": "IcMDv-q-YiLo",
        "outputId": "e6dc8efe-b937-4225-d740-5823afa4c0a9"
      },
      "outputs": [
        {
          "output_type": "execute_result",
          "data": {
            "text/plain": [
              "   surgery  age  hospital_number  rectal_temperature  pulse  respiratory_rate  \\\n",
              "0      2.0    1           530101                38.5   66.0              28.0   \n",
              "1      1.0    1           534817                39.2   88.0              20.0   \n",
              "2      2.0    1           530334                38.3   40.0              24.0   \n",
              "3      1.0    9          5290409                39.1  164.0              84.0   \n",
              "4      2.0    1           530255                37.3  104.0              35.0   \n",
              "\n",
              "   temperature_of_extremities  peripheral_pulse  mucous_membranes  \\\n",
              "0                         3.0               3.0               NaN   \n",
              "1                         NaN               NaN               4.0   \n",
              "2                         1.0               1.0               3.0   \n",
              "3                         4.0               1.0               6.0   \n",
              "4                         NaN               NaN               6.0   \n",
              "\n",
              "   capillary_refill_time  ...  packed_cell_volume  total_protein  \\\n",
              "0                    2.0  ...                45.0            8.4   \n",
              "1                    1.0  ...                50.0           85.0   \n",
              "2                    1.0  ...                33.0            6.7   \n",
              "3                    2.0  ...                48.0            7.2   \n",
              "4                    2.0  ...                74.0            7.4   \n",
              "\n",
              "   abdominocentesis_appearance  abdominocentesis_total_protein  outcome  \\\n",
              "0                          NaN                             NaN      2.0   \n",
              "1                          2.0                             2.0      3.0   \n",
              "2                          NaN                             NaN      1.0   \n",
              "3                          3.0                             5.3      2.0   \n",
              "4                          NaN                             NaN      2.0   \n",
              "\n",
              "   lesion_site  lesion_type  lesion_subtype  cp_data  surgical_lesion  \n",
              "0        11300            0               0        2                2  \n",
              "1         2208            0               0        2                2  \n",
              "2            0            0               0        1                2  \n",
              "3         2208            0               0        1                1  \n",
              "4         4300            0               0        2                2  \n",
              "\n",
              "[5 rows x 28 columns]"
            ],
            "text/html": [
              "\n",
              "  <div id=\"df-77ea2e5e-8102-427e-9aa6-9783d25f5812\" class=\"colab-df-container\">\n",
              "    <div>\n",
              "<style scoped>\n",
              "    .dataframe tbody tr th:only-of-type {\n",
              "        vertical-align: middle;\n",
              "    }\n",
              "\n",
              "    .dataframe tbody tr th {\n",
              "        vertical-align: top;\n",
              "    }\n",
              "\n",
              "    .dataframe thead th {\n",
              "        text-align: right;\n",
              "    }\n",
              "</style>\n",
              "<table border=\"1\" class=\"dataframe\">\n",
              "  <thead>\n",
              "    <tr style=\"text-align: right;\">\n",
              "      <th></th>\n",
              "      <th>surgery</th>\n",
              "      <th>age</th>\n",
              "      <th>hospital_number</th>\n",
              "      <th>rectal_temperature</th>\n",
              "      <th>pulse</th>\n",
              "      <th>respiratory_rate</th>\n",
              "      <th>temperature_of_extremities</th>\n",
              "      <th>peripheral_pulse</th>\n",
              "      <th>mucous_membranes</th>\n",
              "      <th>capillary_refill_time</th>\n",
              "      <th>...</th>\n",
              "      <th>packed_cell_volume</th>\n",
              "      <th>total_protein</th>\n",
              "      <th>abdominocentesis_appearance</th>\n",
              "      <th>abdominocentesis_total_protein</th>\n",
              "      <th>outcome</th>\n",
              "      <th>lesion_site</th>\n",
              "      <th>lesion_type</th>\n",
              "      <th>lesion_subtype</th>\n",
              "      <th>cp_data</th>\n",
              "      <th>surgical_lesion</th>\n",
              "    </tr>\n",
              "  </thead>\n",
              "  <tbody>\n",
              "    <tr>\n",
              "      <th>0</th>\n",
              "      <td>2.0</td>\n",
              "      <td>1</td>\n",
              "      <td>530101</td>\n",
              "      <td>38.5</td>\n",
              "      <td>66.0</td>\n",
              "      <td>28.0</td>\n",
              "      <td>3.0</td>\n",
              "      <td>3.0</td>\n",
              "      <td>NaN</td>\n",
              "      <td>2.0</td>\n",
              "      <td>...</td>\n",
              "      <td>45.0</td>\n",
              "      <td>8.4</td>\n",
              "      <td>NaN</td>\n",
              "      <td>NaN</td>\n",
              "      <td>2.0</td>\n",
              "      <td>11300</td>\n",
              "      <td>0</td>\n",
              "      <td>0</td>\n",
              "      <td>2</td>\n",
              "      <td>2</td>\n",
              "    </tr>\n",
              "    <tr>\n",
              "      <th>1</th>\n",
              "      <td>1.0</td>\n",
              "      <td>1</td>\n",
              "      <td>534817</td>\n",
              "      <td>39.2</td>\n",
              "      <td>88.0</td>\n",
              "      <td>20.0</td>\n",
              "      <td>NaN</td>\n",
              "      <td>NaN</td>\n",
              "      <td>4.0</td>\n",
              "      <td>1.0</td>\n",
              "      <td>...</td>\n",
              "      <td>50.0</td>\n",
              "      <td>85.0</td>\n",
              "      <td>2.0</td>\n",
              "      <td>2.0</td>\n",
              "      <td>3.0</td>\n",
              "      <td>2208</td>\n",
              "      <td>0</td>\n",
              "      <td>0</td>\n",
              "      <td>2</td>\n",
              "      <td>2</td>\n",
              "    </tr>\n",
              "    <tr>\n",
              "      <th>2</th>\n",
              "      <td>2.0</td>\n",
              "      <td>1</td>\n",
              "      <td>530334</td>\n",
              "      <td>38.3</td>\n",
              "      <td>40.0</td>\n",
              "      <td>24.0</td>\n",
              "      <td>1.0</td>\n",
              "      <td>1.0</td>\n",
              "      <td>3.0</td>\n",
              "      <td>1.0</td>\n",
              "      <td>...</td>\n",
              "      <td>33.0</td>\n",
              "      <td>6.7</td>\n",
              "      <td>NaN</td>\n",
              "      <td>NaN</td>\n",
              "      <td>1.0</td>\n",
              "      <td>0</td>\n",
              "      <td>0</td>\n",
              "      <td>0</td>\n",
              "      <td>1</td>\n",
              "      <td>2</td>\n",
              "    </tr>\n",
              "    <tr>\n",
              "      <th>3</th>\n",
              "      <td>1.0</td>\n",
              "      <td>9</td>\n",
              "      <td>5290409</td>\n",
              "      <td>39.1</td>\n",
              "      <td>164.0</td>\n",
              "      <td>84.0</td>\n",
              "      <td>4.0</td>\n",
              "      <td>1.0</td>\n",
              "      <td>6.0</td>\n",
              "      <td>2.0</td>\n",
              "      <td>...</td>\n",
              "      <td>48.0</td>\n",
              "      <td>7.2</td>\n",
              "      <td>3.0</td>\n",
              "      <td>5.3</td>\n",
              "      <td>2.0</td>\n",
              "      <td>2208</td>\n",
              "      <td>0</td>\n",
              "      <td>0</td>\n",
              "      <td>1</td>\n",
              "      <td>1</td>\n",
              "    </tr>\n",
              "    <tr>\n",
              "      <th>4</th>\n",
              "      <td>2.0</td>\n",
              "      <td>1</td>\n",
              "      <td>530255</td>\n",
              "      <td>37.3</td>\n",
              "      <td>104.0</td>\n",
              "      <td>35.0</td>\n",
              "      <td>NaN</td>\n",
              "      <td>NaN</td>\n",
              "      <td>6.0</td>\n",
              "      <td>2.0</td>\n",
              "      <td>...</td>\n",
              "      <td>74.0</td>\n",
              "      <td>7.4</td>\n",
              "      <td>NaN</td>\n",
              "      <td>NaN</td>\n",
              "      <td>2.0</td>\n",
              "      <td>4300</td>\n",
              "      <td>0</td>\n",
              "      <td>0</td>\n",
              "      <td>2</td>\n",
              "      <td>2</td>\n",
              "    </tr>\n",
              "  </tbody>\n",
              "</table>\n",
              "<p>5 rows × 28 columns</p>\n",
              "</div>\n",
              "    <div class=\"colab-df-buttons\">\n",
              "\n",
              "  <div class=\"colab-df-container\">\n",
              "    <button class=\"colab-df-convert\" onclick=\"convertToInteractive('df-77ea2e5e-8102-427e-9aa6-9783d25f5812')\"\n",
              "            title=\"Convert this dataframe to an interactive table.\"\n",
              "            style=\"display:none;\">\n",
              "\n",
              "  <svg xmlns=\"http://www.w3.org/2000/svg\" height=\"24px\" viewBox=\"0 -960 960 960\">\n",
              "    <path d=\"M120-120v-720h720v720H120Zm60-500h600v-160H180v160Zm220 220h160v-160H400v160Zm0 220h160v-160H400v160ZM180-400h160v-160H180v160Zm440 0h160v-160H620v160ZM180-180h160v-160H180v160Zm440 0h160v-160H620v160Z\"/>\n",
              "  </svg>\n",
              "    </button>\n",
              "\n",
              "  <style>\n",
              "    .colab-df-container {\n",
              "      display:flex;\n",
              "      gap: 12px;\n",
              "    }\n",
              "\n",
              "    .colab-df-convert {\n",
              "      background-color: #E8F0FE;\n",
              "      border: none;\n",
              "      border-radius: 50%;\n",
              "      cursor: pointer;\n",
              "      display: none;\n",
              "      fill: #1967D2;\n",
              "      height: 32px;\n",
              "      padding: 0 0 0 0;\n",
              "      width: 32px;\n",
              "    }\n",
              "\n",
              "    .colab-df-convert:hover {\n",
              "      background-color: #E2EBFA;\n",
              "      box-shadow: 0px 1px 2px rgba(60, 64, 67, 0.3), 0px 1px 3px 1px rgba(60, 64, 67, 0.15);\n",
              "      fill: #174EA6;\n",
              "    }\n",
              "\n",
              "    .colab-df-buttons div {\n",
              "      margin-bottom: 4px;\n",
              "    }\n",
              "\n",
              "    [theme=dark] .colab-df-convert {\n",
              "      background-color: #3B4455;\n",
              "      fill: #D2E3FC;\n",
              "    }\n",
              "\n",
              "    [theme=dark] .colab-df-convert:hover {\n",
              "      background-color: #434B5C;\n",
              "      box-shadow: 0px 1px 3px 1px rgba(0, 0, 0, 0.15);\n",
              "      filter: drop-shadow(0px 1px 2px rgba(0, 0, 0, 0.3));\n",
              "      fill: #FFFFFF;\n",
              "    }\n",
              "  </style>\n",
              "\n",
              "    <script>\n",
              "      const buttonEl =\n",
              "        document.querySelector('#df-77ea2e5e-8102-427e-9aa6-9783d25f5812 button.colab-df-convert');\n",
              "      buttonEl.style.display =\n",
              "        google.colab.kernel.accessAllowed ? 'block' : 'none';\n",
              "\n",
              "      async function convertToInteractive(key) {\n",
              "        const element = document.querySelector('#df-77ea2e5e-8102-427e-9aa6-9783d25f5812');\n",
              "        const dataTable =\n",
              "          await google.colab.kernel.invokeFunction('convertToInteractive',\n",
              "                                                    [key], {});\n",
              "        if (!dataTable) return;\n",
              "\n",
              "        const docLinkHtml = 'Like what you see? Visit the ' +\n",
              "          '<a target=\"_blank\" href=https://colab.research.google.com/notebooks/data_table.ipynb>data table notebook</a>'\n",
              "          + ' to learn more about interactive tables.';\n",
              "        element.innerHTML = '';\n",
              "        dataTable['output_type'] = 'display_data';\n",
              "        await google.colab.output.renderOutput(dataTable, element);\n",
              "        const docLink = document.createElement('div');\n",
              "        docLink.innerHTML = docLinkHtml;\n",
              "        element.appendChild(docLink);\n",
              "      }\n",
              "    </script>\n",
              "  </div>\n",
              "\n",
              "\n",
              "<div id=\"df-f3a789d9-a7f3-44db-acdb-7c8f8187532a\">\n",
              "  <button class=\"colab-df-quickchart\" onclick=\"quickchart('df-f3a789d9-a7f3-44db-acdb-7c8f8187532a')\"\n",
              "            title=\"Suggest charts\"\n",
              "            style=\"display:none;\">\n",
              "\n",
              "<svg xmlns=\"http://www.w3.org/2000/svg\" height=\"24px\"viewBox=\"0 0 24 24\"\n",
              "     width=\"24px\">\n",
              "    <g>\n",
              "        <path d=\"M19 3H5c-1.1 0-2 .9-2 2v14c0 1.1.9 2 2 2h14c1.1 0 2-.9 2-2V5c0-1.1-.9-2-2-2zM9 17H7v-7h2v7zm4 0h-2V7h2v10zm4 0h-2v-4h2v4z\"/>\n",
              "    </g>\n",
              "</svg>\n",
              "  </button>\n",
              "\n",
              "<style>\n",
              "  .colab-df-quickchart {\n",
              "      --bg-color: #E8F0FE;\n",
              "      --fill-color: #1967D2;\n",
              "      --hover-bg-color: #E2EBFA;\n",
              "      --hover-fill-color: #174EA6;\n",
              "      --disabled-fill-color: #AAA;\n",
              "      --disabled-bg-color: #DDD;\n",
              "  }\n",
              "\n",
              "  [theme=dark] .colab-df-quickchart {\n",
              "      --bg-color: #3B4455;\n",
              "      --fill-color: #D2E3FC;\n",
              "      --hover-bg-color: #434B5C;\n",
              "      --hover-fill-color: #FFFFFF;\n",
              "      --disabled-bg-color: #3B4455;\n",
              "      --disabled-fill-color: #666;\n",
              "  }\n",
              "\n",
              "  .colab-df-quickchart {\n",
              "    background-color: var(--bg-color);\n",
              "    border: none;\n",
              "    border-radius: 50%;\n",
              "    cursor: pointer;\n",
              "    display: none;\n",
              "    fill: var(--fill-color);\n",
              "    height: 32px;\n",
              "    padding: 0;\n",
              "    width: 32px;\n",
              "  }\n",
              "\n",
              "  .colab-df-quickchart:hover {\n",
              "    background-color: var(--hover-bg-color);\n",
              "    box-shadow: 0 1px 2px rgba(60, 64, 67, 0.3), 0 1px 3px 1px rgba(60, 64, 67, 0.15);\n",
              "    fill: var(--button-hover-fill-color);\n",
              "  }\n",
              "\n",
              "  .colab-df-quickchart-complete:disabled,\n",
              "  .colab-df-quickchart-complete:disabled:hover {\n",
              "    background-color: var(--disabled-bg-color);\n",
              "    fill: var(--disabled-fill-color);\n",
              "    box-shadow: none;\n",
              "  }\n",
              "\n",
              "  .colab-df-spinner {\n",
              "    border: 2px solid var(--fill-color);\n",
              "    border-color: transparent;\n",
              "    border-bottom-color: var(--fill-color);\n",
              "    animation:\n",
              "      spin 1s steps(1) infinite;\n",
              "  }\n",
              "\n",
              "  @keyframes spin {\n",
              "    0% {\n",
              "      border-color: transparent;\n",
              "      border-bottom-color: var(--fill-color);\n",
              "      border-left-color: var(--fill-color);\n",
              "    }\n",
              "    20% {\n",
              "      border-color: transparent;\n",
              "      border-left-color: var(--fill-color);\n",
              "      border-top-color: var(--fill-color);\n",
              "    }\n",
              "    30% {\n",
              "      border-color: transparent;\n",
              "      border-left-color: var(--fill-color);\n",
              "      border-top-color: var(--fill-color);\n",
              "      border-right-color: var(--fill-color);\n",
              "    }\n",
              "    40% {\n",
              "      border-color: transparent;\n",
              "      border-right-color: var(--fill-color);\n",
              "      border-top-color: var(--fill-color);\n",
              "    }\n",
              "    60% {\n",
              "      border-color: transparent;\n",
              "      border-right-color: var(--fill-color);\n",
              "    }\n",
              "    80% {\n",
              "      border-color: transparent;\n",
              "      border-right-color: var(--fill-color);\n",
              "      border-bottom-color: var(--fill-color);\n",
              "    }\n",
              "    90% {\n",
              "      border-color: transparent;\n",
              "      border-bottom-color: var(--fill-color);\n",
              "    }\n",
              "  }\n",
              "</style>\n",
              "\n",
              "  <script>\n",
              "    async function quickchart(key) {\n",
              "      const quickchartButtonEl =\n",
              "        document.querySelector('#' + key + ' button');\n",
              "      quickchartButtonEl.disabled = true;  // To prevent multiple clicks.\n",
              "      quickchartButtonEl.classList.add('colab-df-spinner');\n",
              "      try {\n",
              "        const charts = await google.colab.kernel.invokeFunction(\n",
              "            'suggestCharts', [key], {});\n",
              "      } catch (error) {\n",
              "        console.error('Error during call to suggestCharts:', error);\n",
              "      }\n",
              "      quickchartButtonEl.classList.remove('colab-df-spinner');\n",
              "      quickchartButtonEl.classList.add('colab-df-quickchart-complete');\n",
              "    }\n",
              "    (() => {\n",
              "      let quickchartButtonEl =\n",
              "        document.querySelector('#df-f3a789d9-a7f3-44db-acdb-7c8f8187532a button');\n",
              "      quickchartButtonEl.style.display =\n",
              "        google.colab.kernel.accessAllowed ? 'block' : 'none';\n",
              "    })();\n",
              "  </script>\n",
              "</div>\n",
              "\n",
              "    </div>\n",
              "  </div>\n"
            ],
            "application/vnd.google.colaboratory.intrinsic+json": {
              "type": "dataframe",
              "variable_name": "df"
            }
          },
          "metadata": {},
          "execution_count": 57
        }
      ],
      "source": [
        "df=pd.concat([X, y], axis=1)\n",
        "df.head()"
      ]
    },
    {
      "cell_type": "code",
      "execution_count": null,
      "metadata": {
        "colab": {
          "base_uri": "https://localhost:8080/"
        },
        "id": "6WP1XiA0YiLp",
        "outputId": "e0f93364-4540-4338-c715-cb29b1ca7f71"
      },
      "outputs": [
        {
          "output_type": "execute_result",
          "data": {
            "text/plain": [
              "Index(['surgery', 'age', 'hospital_number', 'rectal_temperature', 'pulse',\n",
              "       'respiratory_rate', 'temperature_of_extremities', 'peripheral_pulse',\n",
              "       'mucous_membranes', 'capillary_refill_time', 'pain', 'peristalsis',\n",
              "       'abdominal_distension', 'nasogastric_tube', 'nasogastric_reflux',\n",
              "       'nasogastric_reflux_ph', 'rectal_examination_feces', 'abdomen',\n",
              "       'packed_cell_volume', 'total_protein', 'abdominocentesis_appearance',\n",
              "       'abdominocentesis_total_protein', 'outcome', 'lesion_site',\n",
              "       'lesion_type', 'lesion_subtype', 'cp_data', 'surgical_lesion'],\n",
              "      dtype='object')"
            ]
          },
          "metadata": {},
          "execution_count": 58
        }
      ],
      "source": [
        "df.columns"
      ]
    },
    {
      "cell_type": "code",
      "execution_count": null,
      "metadata": {
        "scrolled": false,
        "colab": {
          "base_uri": "https://localhost:8080/"
        },
        "id": "TEN8ElbWYiLr",
        "outputId": "cbe11dff-df8c-48aa-d5a6-1db5523e7da4"
      },
      "outputs": [
        {
          "output_type": "execute_result",
          "data": {
            "text/plain": [
              "surgery                           float64\n",
              "age                                 int64\n",
              "hospital_number                     int64\n",
              "rectal_temperature                float64\n",
              "pulse                             float64\n",
              "respiratory_rate                  float64\n",
              "temperature_of_extremities        float64\n",
              "peripheral_pulse                  float64\n",
              "mucous_membranes                  float64\n",
              "capillary_refill_time             float64\n",
              "pain                              float64\n",
              "peristalsis                       float64\n",
              "abdominal_distension              float64\n",
              "nasogastric_tube                  float64\n",
              "nasogastric_reflux                float64\n",
              "nasogastric_reflux_ph             float64\n",
              "rectal_examination_feces          float64\n",
              "abdomen                           float64\n",
              "packed_cell_volume                float64\n",
              "total_protein                     float64\n",
              "abdominocentesis_appearance       float64\n",
              "abdominocentesis_total_protein    float64\n",
              "outcome                           float64\n",
              "lesion_site                         int64\n",
              "lesion_type                         int64\n",
              "lesion_subtype                      int64\n",
              "cp_data                             int64\n",
              "surgical_lesion                     int64\n",
              "dtype: object"
            ]
          },
          "metadata": {},
          "execution_count": 59
        }
      ],
      "source": [
        "df.dtypes"
      ]
    },
    {
      "cell_type": "code",
      "source": [
        "df.shape"
      ],
      "metadata": {
        "colab": {
          "base_uri": "https://localhost:8080/"
        },
        "id": "mIyD_bCfhmJ8",
        "outputId": "c1f35a0a-75c3-4c97-a7e7-4e6af1b8e4e1"
      },
      "execution_count": null,
      "outputs": [
        {
          "output_type": "execute_result",
          "data": {
            "text/plain": [
              "(368, 28)"
            ]
          },
          "metadata": {},
          "execution_count": 60
        }
      ]
    },
    {
      "cell_type": "code",
      "execution_count": null,
      "metadata": {
        "colab": {
          "base_uri": "https://localhost:8080/"
        },
        "id": "5UhAr26KYiLs",
        "outputId": "d3140c42-25ea-42c2-df70-a4fe080d017d"
      },
      "outputs": [
        {
          "output_type": "execute_result",
          "data": {
            "text/plain": [
              "surgery                             2\n",
              "age                                 0\n",
              "hospital_number                     0\n",
              "rectal_temperature                 69\n",
              "pulse                              26\n",
              "respiratory_rate                   71\n",
              "temperature_of_extremities         65\n",
              "peripheral_pulse                   83\n",
              "mucous_membranes                   48\n",
              "capillary_refill_time              38\n",
              "pain                               63\n",
              "peristalsis                        52\n",
              "abdominal_distension               65\n",
              "nasogastric_tube                  131\n",
              "nasogastric_reflux                133\n",
              "nasogastric_reflux_ph             299\n",
              "rectal_examination_feces          128\n",
              "abdomen                           143\n",
              "packed_cell_volume                 37\n",
              "total_protein                      43\n",
              "abdominocentesis_appearance       194\n",
              "abdominocentesis_total_protein    235\n",
              "outcome                             2\n",
              "lesion_site                         0\n",
              "lesion_type                         0\n",
              "lesion_subtype                      0\n",
              "cp_data                             0\n",
              "surgical_lesion                     0\n",
              "dtype: int64"
            ]
          },
          "metadata": {},
          "execution_count": 61
        }
      ],
      "source": [
        "df.isnull().sum()"
      ]
    },
    {
      "cell_type": "code",
      "execution_count": null,
      "metadata": {
        "colab": {
          "base_uri": "https://localhost:8080/"
        },
        "id": "mQNHykTjYiLt",
        "outputId": "071977ab-a3aa-444b-8952-312ab98a5304"
      },
      "outputs": [
        {
          "output_type": "stream",
          "name": "stdout",
          "text": [
            "(368, 20)\n"
          ]
        }
      ],
      "source": [
        "columns_to_drop=['abdominocentesis_total_protein','abdominocentesis_appearance','nasogastric_tube','nasogastric_reflux','nasogastric_reflux_ph','rectal_examination_feces','abdomen','hospital_number']\n",
        "df2=df.drop(columns=columns_to_drop, axis=1)\n",
        "print(df2.shape)"
      ]
    },
    {
      "cell_type": "code",
      "source": [
        "df3=df2.fillna(df2.mean())\n",
        "df3.isnull().sum()"
      ],
      "metadata": {
        "colab": {
          "base_uri": "https://localhost:8080/"
        },
        "id": "D5vJliO_j_4j",
        "outputId": "b4bd40db-41c9-4274-e6b9-89cdba1aeadf"
      },
      "execution_count": null,
      "outputs": [
        {
          "output_type": "execute_result",
          "data": {
            "text/plain": [
              "surgery                       0\n",
              "age                           0\n",
              "rectal_temperature            0\n",
              "pulse                         0\n",
              "respiratory_rate              0\n",
              "temperature_of_extremities    0\n",
              "peripheral_pulse              0\n",
              "mucous_membranes              0\n",
              "capillary_refill_time         0\n",
              "pain                          0\n",
              "peristalsis                   0\n",
              "abdominal_distension          0\n",
              "packed_cell_volume            0\n",
              "total_protein                 0\n",
              "outcome                       0\n",
              "lesion_site                   0\n",
              "lesion_type                   0\n",
              "lesion_subtype                0\n",
              "cp_data                       0\n",
              "surgical_lesion               0\n",
              "dtype: int64"
            ]
          },
          "metadata": {},
          "execution_count": 63
        }
      ]
    },
    {
      "cell_type": "code",
      "source": [
        "df3['surgical_lesion'] = df3['surgical_lesion'].replace({1: 0, 2: 1})"
      ],
      "metadata": {
        "id": "Vxx3bXNIknXb"
      },
      "execution_count": null,
      "outputs": []
    },
    {
      "cell_type": "markdown",
      "metadata": {
        "id": "G2XbzMA-YiL6"
      },
      "source": [
        "**Train test split**"
      ]
    },
    {
      "cell_type": "code",
      "execution_count": null,
      "metadata": {
        "id": "rWUwL0C3YiL6"
      },
      "outputs": [],
      "source": [
        "X = df3.drop('surgical_lesion',axis='columns')\n",
        "y = df3['surgical_lesion']\n",
        "\n",
        "from sklearn.model_selection import train_test_split\n",
        "X_train, X_test, y_train, y_test = train_test_split(X, y, test_size=0.2, random_state=15, stratify=y)"
      ]
    },
    {
      "cell_type": "code",
      "source": [
        "def monitor_class_distribution(y):\n",
        "  class_distribution = np.bincount(y)\n",
        "  if class_distribution[1]>class_distribution[0]:\n",
        "    imbalance_ratio = class_distribution[1] / class_distribution[0]\n",
        "  else:\n",
        "    imbalance_ratio = class_distribution[0] / class_distribution[1]\n",
        "  return imbalance_ratio"
      ],
      "metadata": {
        "id": "5ymjA4X_ZoIh"
      },
      "execution_count": null,
      "outputs": []
    },
    {
      "cell_type": "code",
      "source": [
        "imb_ratio=monitor_class_distribution(y)\n",
        "print(imb_ratio)"
      ],
      "metadata": {
        "colab": {
          "base_uri": "https://localhost:8080/"
        },
        "id": "FND9c1LHZ8KE",
        "outputId": "201a4a85-cf86-450e-d67b-4e9fe03fbd86"
      },
      "execution_count": null,
      "outputs": [
        {
          "output_type": "stream",
          "name": "stdout",
          "text": [
            "1.7058823529411764\n"
          ]
        }
      ]
    },
    {
      "cell_type": "markdown",
      "source": [
        "before applying sampling"
      ],
      "metadata": {
        "id": "po8zhwenTiNA"
      }
    },
    {
      "cell_type": "code",
      "source": [
        "import time\n",
        "import psutil\n",
        "import xgboost as xgb\n",
        "from sklearn.metrics import accuracy_score, classification_report, roc_auc_score, roc_curve\n",
        "\n",
        "def train_resource_monitor(X_train, y_train):\n",
        "  model= xgb.XGBClassifier(\n",
        "      objective='binary:logistic',\n",
        "      max_depth=3,\n",
        "      learning_rate=0.1,\n",
        "      n_estimators=100,\n",
        "      subsample=0.8,\n",
        "      colsample_bytree=0.8\n",
        "  )\n",
        "  cpu_usage = []\n",
        "  memory_usage = []\n",
        "  initial_cpu_percent = psutil.cpu_percent(interval=None)\n",
        "  initial_memory_percent = psutil.virtual_memory().percent\n",
        "  start_time = time.time()\n",
        "  model.fit(X_train, y_train)\n",
        "  end_time = time.time()\n",
        "  execution_time = end_time - start_time\n",
        "  final_cpu_percent = psutil.cpu_percent(interval=None)\n",
        "  final_memory_percent = psutil.virtual_memory().percent\n",
        "  size=len(y_train)\n",
        "  print(f\"Input size: {size}, Execution time: {execution_time:.6f} seconds\")\n",
        "  print(f\"Initial CPU Usage: {initial_cpu_percent}%\")\n",
        "  print(f\"Final CPU Usage: {final_cpu_percent}%\")\n",
        "  print(f\"Initial Memory Usage: {initial_memory_percent}%\")\n",
        "  print(f\"Final Memory Usage: {final_memory_percent}%\")\n",
        "  return model"
      ],
      "metadata": {
        "id": "OJvq4O9Vwd7n"
      },
      "execution_count": null,
      "outputs": []
    },
    {
      "cell_type": "code",
      "source": [
        "model1=train_resource_monitor(X_train, y_train)"
      ],
      "metadata": {
        "colab": {
          "base_uri": "https://localhost:8080/"
        },
        "id": "WTr-YV7wCd4a",
        "outputId": "6ac74a75-0540-4231-dd96-b321f578a3a2"
      },
      "execution_count": null,
      "outputs": [
        {
          "output_type": "stream",
          "name": "stdout",
          "text": [
            "Input size: 294, Execution time: 0.819058 seconds\n",
            "Initial CPU Usage: 18.2%\n",
            "Final CPU Usage: 100.0%\n",
            "Initial Memory Usage: 9.6%\n",
            "Final Memory Usage: 9.6%\n"
          ]
        }
      ]
    },
    {
      "cell_type": "code",
      "source": [
        "from sklearn.model_selection import KFold\n",
        "# Define the number of folds for cross-validation\n",
        "def k_fold_validation(X_train,y_train,model):\n",
        "  X_train = X_train.to_numpy()\n",
        "  y_train = y_train.to_numpy()\n",
        "  k=5\n",
        "  kf=KFold(n_splits=k,shuffle=True,random_state=42)\n",
        "  cv_scores=[]\n",
        "  cv_rocs=[]\n",
        "  for train_index,val_index in kf.split(X_train):\n",
        "    X_train_fold, X_val_fold = X_train[train_index], X_train[val_index]\n",
        "    y_train_fold, y_val_fold = y_train[train_index], y_train[val_index]\n",
        "    model.fit(X_train_fold, y_train_fold)\n",
        "    y_pred_val = model.predict(X_val_fold)\n",
        "    y_prob_roc=model.predict_proba(X_val_fold)[:, 1]\n",
        "    accuracy = accuracy_score(y_val_fold, y_pred_val)\n",
        "    roc_auc=roc_auc_score(y_val_fold, y_prob_roc)\n",
        "    cv_scores.append(accuracy)\n",
        "    cv_rocs.append(roc_auc)\n",
        "    print(\"Cross-validation scores:\", cv_scores)\n",
        "    print(\"Average cross-validation score:\", np.mean(cv_scores))\n",
        "    print(\"Cross-validation roc-auc:\", cv_rocs)\n",
        "    print(\"Average cross-validation roc-auc:\", np.mean(cv_rocs))\n",
        "    print('-----------------------------------------------------------------')"
      ],
      "metadata": {
        "id": "Wj15k_9rCs_d"
      },
      "execution_count": null,
      "outputs": []
    },
    {
      "cell_type": "code",
      "source": [
        "k_fold_validation(X_train, y_train,model1)"
      ],
      "metadata": {
        "colab": {
          "base_uri": "https://localhost:8080/"
        },
        "id": "_I4cCpkhCd7w",
        "outputId": "22090beb-948d-4b5d-9424-e2daa3b1fdc9"
      },
      "execution_count": null,
      "outputs": [
        {
          "output_type": "stream",
          "name": "stdout",
          "text": [
            "Cross-validation scores: [0.864406779661017]\n",
            "Average cross-validation score: 0.864406779661017\n",
            "Cross-validation roc-auc: [0.8964705882352941]\n",
            "Average cross-validation roc-auc: 0.8964705882352941\n",
            "-----------------------------------------------------------------\n",
            "Cross-validation scores: [0.864406779661017, 0.8983050847457628]\n",
            "Average cross-validation score: 0.8813559322033899\n",
            "Cross-validation roc-auc: [0.8964705882352941, 0.9142441860465116]\n",
            "Average cross-validation roc-auc: 0.9053573871409029\n",
            "-----------------------------------------------------------------\n",
            "Cross-validation scores: [0.864406779661017, 0.8983050847457628, 0.8983050847457628]\n",
            "Average cross-validation score: 0.8870056497175142\n",
            "Cross-validation roc-auc: [0.8964705882352941, 0.9142441860465116, 0.9154589371980676]\n",
            "Average cross-validation roc-auc: 0.9087245704932911\n",
            "-----------------------------------------------------------------\n",
            "Cross-validation scores: [0.864406779661017, 0.8983050847457628, 0.8983050847457628, 0.8135593220338984]\n",
            "Average cross-validation score: 0.8686440677966102\n",
            "Cross-validation roc-auc: [0.8964705882352941, 0.9142441860465116, 0.9154589371980676, 0.880952380952381]\n",
            "Average cross-validation roc-auc: 0.9017815231080636\n",
            "-----------------------------------------------------------------\n",
            "Cross-validation scores: [0.864406779661017, 0.8983050847457628, 0.8983050847457628, 0.8135593220338984, 0.8620689655172413]\n",
            "Average cross-validation score: 0.8673290473407365\n",
            "Cross-validation roc-auc: [0.8964705882352941, 0.9142441860465116, 0.9154589371980676, 0.880952380952381, 0.9546568627450981]\n",
            "Average cross-validation roc-auc: 0.9123565910354705\n",
            "-----------------------------------------------------------------\n"
          ]
        }
      ]
    },
    {
      "cell_type": "code",
      "source": [
        "# Making predictions\n",
        "y_pred = model1.predict(X_test)\n",
        "\n",
        "# Evaluating the model\n",
        "accuracy = accuracy_score(y_test, y_pred)\n",
        "print(\"Accuracy:\", accuracy)"
      ],
      "metadata": {
        "colab": {
          "base_uri": "https://localhost:8080/"
        },
        "id": "uQjX438XCeBl",
        "outputId": "218bff45-478e-4f31-b683-3c6c51a20924"
      },
      "execution_count": null,
      "outputs": [
        {
          "output_type": "stream",
          "name": "stdout",
          "text": [
            "Accuracy: 0.8783783783783784\n"
          ]
        }
      ]
    },
    {
      "cell_type": "code",
      "source": [
        "y_prob = model1.predict_proba(X_test)[:, 1]\n",
        "roc_auc = roc_auc_score(y_test, y_prob)\n",
        "print(\"ROC AUC Score:\", roc_auc)"
      ],
      "metadata": {
        "colab": {
          "base_uri": "https://localhost:8080/"
        },
        "id": "UEn_O3x1Uw0-",
        "outputId": "3e1a7722-e2d2-4562-a333-5cc26e5268be"
      },
      "execution_count": null,
      "outputs": [
        {
          "output_type": "stream",
          "name": "stdout",
          "text": [
            "ROC AUC Score: 0.9101654846335698\n"
          ]
        }
      ]
    },
    {
      "cell_type": "code",
      "source": [
        "# Generate ROC curve\n",
        "fpr, tpr, _ = roc_curve(y_test, y_prob)\n",
        "\n",
        "# Plot ROC curve\n",
        "plt.figure()\n",
        "plt.plot(fpr, tpr, color='darkorange', lw=2, label='ROC curve (area = %0.2f)' % roc_auc)\n",
        "plt.plot([0, 1], [0, 1], color='navy', lw=2, linestyle='--')\n",
        "plt.xlim([0.0, 1.0])\n",
        "plt.ylim([0.0, 1.05])\n",
        "plt.xlabel('False Positive Rate')\n",
        "plt.ylabel('True Positive Rate')\n",
        "plt.title('Receiver Operating Characteristic (ROC) Curve')\n",
        "plt.legend(loc=\"lower right\")\n",
        "plt.show()"
      ],
      "metadata": {
        "colab": {
          "base_uri": "https://localhost:8080/",
          "height": 472
        },
        "id": "C3uvlgWWVDsE",
        "outputId": "f953f920-7bad-4df6-b2b2-15ea47b9606c"
      },
      "execution_count": null,
      "outputs": [
        {
          "output_type": "display_data",
          "data": {
            "text/plain": [
              "<Figure size 640x480 with 1 Axes>"
            ],
            "image/png": "[encoded data removed]"
          },
          "metadata": {}
        }
      ]
    },
    {
      "cell_type": "code",
      "source": [
        "# Print classification report\n",
        "print(\"Classification Report:\")\n",
        "print(classification_report(y_test, y_pred))"
      ],
      "metadata": {
        "colab": {
          "base_uri": "https://localhost:8080/"
        },
        "id": "0pW0jKLqVHYA",
        "outputId": "0a1324d1-d2f9-484a-9791-3f301d01014f"
      },
      "execution_count": null,
      "outputs": [
        {
          "output_type": "stream",
          "name": "stdout",
          "text": [
            "Classification Report:\n",
            "              precision    recall  f1-score   support\n",
            "\n",
            "           0       0.88      0.94      0.91        47\n",
            "           1       0.88      0.78      0.82        27\n",
            "\n",
            "    accuracy                           0.88        74\n",
            "   macro avg       0.88      0.86      0.87        74\n",
            "weighted avg       0.88      0.88      0.88        74\n",
            "\n"
          ]
        }
      ]
    },
    {
      "cell_type": "markdown",
      "source": [
        "applying sampling"
      ],
      "metadata": {
        "id": "E8Om1yPUTe6J"
      }
    },
    {
      "cell_type": "code",
      "source": [
        "X2 = df3.drop('surgical_lesion',axis='columns')\n",
        "y2 = df3['surgical_lesion']"
      ],
      "metadata": {
        "id": "5TMf8tv0yAPz"
      },
      "execution_count": null,
      "outputs": []
    },
    {
      "cell_type": "code",
      "source": [
        "print(X2.dtypes)"
      ],
      "metadata": {
        "colab": {
          "base_uri": "https://localhost:8080/"
        },
        "id": "THrQqjFGVhgV",
        "outputId": "60786ebb-38ae-4f6e-be98-191ff1691629"
      },
      "execution_count": null,
      "outputs": [
        {
          "output_type": "stream",
          "name": "stdout",
          "text": [
            "surgery                       float64\n",
            "age                             int64\n",
            "rectal_temperature            float64\n",
            "pulse                         float64\n",
            "respiratory_rate              float64\n",
            "temperature_of_extremities    float64\n",
            "peripheral_pulse              float64\n",
            "mucous_membranes              float64\n",
            "capillary_refill_time         float64\n",
            "pain                          float64\n",
            "peristalsis                   float64\n",
            "abdominal_distension          float64\n",
            "packed_cell_volume            float64\n",
            "total_protein                 float64\n",
            "outcome                       float64\n",
            "lesion_site                     int64\n",
            "lesion_type                     int64\n",
            "lesion_subtype                  int64\n",
            "cp_data                         int64\n",
            "dtype: object\n"
          ]
        }
      ]
    },
    {
      "cell_type": "code",
      "source": [
        "X2.shape, y2.shape"
      ],
      "metadata": {
        "colab": {
          "base_uri": "https://localhost:8080/"
        },
        "id": "IsDsF-sYZnHK",
        "outputId": "47648a8e-d4af-4190-99f6-9fdb0f29f1a7"
      },
      "execution_count": null,
      "outputs": [
        {
          "output_type": "execute_result",
          "data": {
            "text/plain": [
              "((368, 19), (368,))"
            ]
          },
          "metadata": {},
          "execution_count": 78
        }
      ]
    },
    {
      "cell_type": "code",
      "source": [
        "y2.value_counts()"
      ],
      "metadata": {
        "colab": {
          "base_uri": "https://localhost:8080/"
        },
        "id": "amfegDMFZuKq",
        "outputId": "a0d734c5-ea9e-466f-b6c1-74c6c1cda99d"
      },
      "execution_count": null,
      "outputs": [
        {
          "output_type": "execute_result",
          "data": {
            "text/plain": [
              "surgical_lesion\n",
              "0    232\n",
              "1    136\n",
              "Name: count, dtype: int64"
            ]
          },
          "metadata": {},
          "execution_count": 79
        }
      ]
    },
    {
      "cell_type": "code",
      "source": [
        "df3.columns[:-1].tolist()"
      ],
      "metadata": {
        "colab": {
          "base_uri": "https://localhost:8080/"
        },
        "id": "ogB7DM30lL8g",
        "outputId": "f03667d1-33cc-4109-eaf1-3ae6fba00591"
      },
      "execution_count": null,
      "outputs": [
        {
          "output_type": "execute_result",
          "data": {
            "text/plain": [
              "['surgery',\n",
              " 'age',\n",
              " 'rectal_temperature',\n",
              " 'pulse',\n",
              " 'respiratory_rate',\n",
              " 'temperature_of_extremities',\n",
              " 'peripheral_pulse',\n",
              " 'mucous_membranes',\n",
              " 'capillary_refill_time',\n",
              " 'pain',\n",
              " 'peristalsis',\n",
              " 'abdominal_distension',\n",
              " 'packed_cell_volume',\n",
              " 'total_protein',\n",
              " 'outcome',\n",
              " 'lesion_site',\n",
              " 'lesion_type',\n",
              " 'lesion_subtype',\n",
              " 'cp_data']"
            ]
          },
          "metadata": {},
          "execution_count": 80
        }
      ]
    },
    {
      "cell_type": "code",
      "source": [
        "def monitor_class_distribution(y):\n",
        "  class_distribution = np.bincount(y)\n",
        "  if class_distribution[1]>class_distribution[0]:\n",
        "    imbalance_ratio = class_distribution[1] / class_distribution[0]\n",
        "  else:\n",
        "    imbalance_ratio = class_distribution[0] / class_distribution[1]\n",
        "  return imbalance_ratio"
      ],
      "metadata": {
        "id": "ZYMSbsaBa3F1"
      },
      "execution_count": null,
      "outputs": []
    },
    {
      "cell_type": "code",
      "source": [
        "import pandas as pd\n",
        "from imblearn.over_sampling import KMeansSMOTE\n",
        "from imblearn.under_sampling import ClusterCentroids\n",
        "\n",
        "def adjust_sampling_parameters(X,y):\n",
        "  # Apply KMeansSMOTE to the minority class\n",
        "  kmeans_smote = KMeansSMOTE(sampling_strategy='auto', k_neighbors=8, cluster_balance_threshold=0.0)\n",
        "  X_kmeans_smote, y_kmeans_smote = kmeans_smote.fit_resample(X, y)\n",
        "\n",
        "  # Apply Cluster Centroids undersampling to the majority class\n",
        "  cluster_centroids = ClusterCentroids(sampling_strategy='auto')\n",
        "  X_cluster_centroids, y_cluster_centroids = cluster_centroids.fit_resample(X, y)\n",
        "\n",
        "  # Concatenate the resampled data\n",
        "  X_combined_resampled = np.concatenate((X_kmeans_smote, X_cluster_centroids), axis=0)\n",
        "  y_combined_resampled = np.concatenate((y_kmeans_smote, y_cluster_centroids), axis=0)\n",
        "\n",
        "  # Convert combined resampled data to DataFrame\n",
        "  combined_df = pd.DataFrame(data=X_combined_resampled, columns=X.columns.tolist())\n",
        "  combined_df['Class'] = y_combined_resampled\n",
        "  return combined_df"
      ],
      "metadata": {
        "id": "sdK0zR_ya3JG"
      },
      "execution_count": null,
      "outputs": []
    },
    {
      "cell_type": "code",
      "source": [
        "tolerance=0.2\n",
        "def class_distribution_check(combined_df):\n",
        "  X_combined = combined_df.drop('Class',axis='columns')\n",
        "  y_combined = combined_df['Class']\n",
        "  class_distribution=monitor_class_distribution(y_combined)\n",
        "  while abs(class_distribution-1)>tolerance:\n",
        "    #print(abs(class_distribution-1))\n",
        "    combine_data=adjust_sampling_parameters(X_combined, y_combined)\n",
        "    X_combined=combine_data.drop('Class',axis='columns')\n",
        "    y_combined=combine_data['Class']\n",
        "    class_distribution=monitor_class_distribution(y_combined)\n",
        "  return X_combined, y_combined"
      ],
      "metadata": {
        "id": "JjkspznBa7am"
      },
      "execution_count": null,
      "outputs": []
    },
    {
      "cell_type": "code",
      "source": [
        "combined_df=adjust_sampling_parameters(X2,y2)\n",
        "X_combined,y_combined=class_distribution_check(combined_df)\n",
        "X_train, X_test, y_train, y_test = train_test_split(X_combined, y_combined, test_size=0.2, random_state=42)"
      ],
      "metadata": {
        "id": "RI9s7O11bCNI"
      },
      "execution_count": null,
      "outputs": []
    },
    {
      "cell_type": "code",
      "source": [
        "print((X_combined.shape))"
      ],
      "metadata": {
        "colab": {
          "base_uri": "https://localhost:8080/"
        },
        "id": "_DV9fxGFbV5f",
        "outputId": "38de83a4-731f-44e3-f143-192425e53bb5"
      },
      "execution_count": null,
      "outputs": [
        {
          "output_type": "stream",
          "name": "stdout",
          "text": [
            "(739, 19)\n"
          ]
        }
      ]
    },
    {
      "cell_type": "code",
      "source": [
        "# Training the model\n",
        "model2=train_resource_monitor(X_train, y_train)"
      ],
      "metadata": {
        "colab": {
          "base_uri": "https://localhost:8080/"
        },
        "id": "XqweOj1rEYHu",
        "outputId": "df071e19-9b3b-4541-8868-e6baba5ea39b"
      },
      "execution_count": null,
      "outputs": [
        {
          "output_type": "stream",
          "name": "stdout",
          "text": [
            "Input size: 591, Execution time: 0.069238 seconds\n",
            "Initial CPU Usage: 12.1%\n",
            "Final CPU Usage: 100.0%\n",
            "Initial Memory Usage: 9.7%\n",
            "Final Memory Usage: 9.7%\n"
          ]
        }
      ]
    },
    {
      "cell_type": "code",
      "source": [
        "k_fold_validation(X_train, y_train,model2)"
      ],
      "metadata": {
        "colab": {
          "base_uri": "https://localhost:8080/"
        },
        "id": "s8DglKG7EYLQ",
        "outputId": "0c8683f1-fe62-46ad-b68b-6e4ca868654d"
      },
      "execution_count": null,
      "outputs": [
        {
          "output_type": "stream",
          "name": "stdout",
          "text": [
            "Cross-validation scores: [0.9243697478991597]\n",
            "Average cross-validation score: 0.9243697478991597\n",
            "Cross-validation roc-auc: [0.9824858757062147]\n",
            "Average cross-validation roc-auc: 0.9824858757062147\n",
            "-----------------------------------------------------------------\n",
            "Cross-validation scores: [0.9243697478991597, 0.8898305084745762]\n",
            "Average cross-validation score: 0.907100128186868\n",
            "Cross-validation roc-auc: [0.9824858757062147, 0.9399585921325052]\n",
            "Average cross-validation roc-auc: 0.9612222339193599\n",
            "-----------------------------------------------------------------\n",
            "Cross-validation scores: [0.9243697478991597, 0.8898305084745762, 0.9491525423728814]\n",
            "Average cross-validation score: 0.9211175995822058\n",
            "Cross-validation roc-auc: [0.9824858757062147, 0.9399585921325052, 0.9671658986175117]\n",
            "Average cross-validation roc-auc: 0.9632034554854104\n",
            "-----------------------------------------------------------------\n",
            "Cross-validation scores: [0.9243697478991597, 0.8898305084745762, 0.9491525423728814, 0.940677966101695]\n",
            "Average cross-validation score: 0.9260076912120782\n",
            "Cross-validation roc-auc: [0.9824858757062147, 0.9399585921325052, 0.9671658986175117, 0.9876436781609196]\n",
            "Average cross-validation roc-auc: 0.9693135111542878\n",
            "-----------------------------------------------------------------\n",
            "Cross-validation scores: [0.9243697478991597, 0.8898305084745762, 0.9491525423728814, 0.940677966101695, 0.940677966101695]\n",
            "Average cross-validation score: 0.9289417461900016\n",
            "Cross-validation roc-auc: [0.9824858757062147, 0.9399585921325052, 0.9671658986175117, 0.9876436781609196, 0.9820601851851851]\n",
            "Average cross-validation roc-auc: 0.9718628459604673\n",
            "-----------------------------------------------------------------\n"
          ]
        }
      ]
    },
    {
      "cell_type": "code",
      "source": [
        "# Making predictions\n",
        "y_pred = model2.predict(X_test)\n",
        "\n",
        "# Evaluating the model\n",
        "accuracy = accuracy_score(y_test, y_pred)\n",
        "print(\"Accuracy:\", accuracy)"
      ],
      "metadata": {
        "colab": {
          "base_uri": "https://localhost:8080/"
        },
        "id": "d8Q3571XdSYU",
        "outputId": "200b4a75-33dd-449f-e310-810c40a63675"
      },
      "execution_count": null,
      "outputs": [
        {
          "output_type": "stream",
          "name": "stdout",
          "text": [
            "Accuracy: 0.918918918918919\n"
          ]
        }
      ]
    },
    {
      "cell_type": "code",
      "source": [
        "y_prob = model2.predict_proba(X_test)[:, 1]\n",
        "roc_auc = roc_auc_score(y_test, y_prob)\n",
        "print(\"ROC AUC Score:\", roc_auc)"
      ],
      "metadata": {
        "colab": {
          "base_uri": "https://localhost:8080/"
        },
        "id": "4pYjF42odp_u",
        "outputId": "e43d1294-7f89-4a92-8c13-155fa6f89179"
      },
      "execution_count": null,
      "outputs": [
        {
          "output_type": "stream",
          "name": "stdout",
          "text": [
            "ROC AUC Score: 0.9607043558850789\n"
          ]
        }
      ]
    },
    {
      "cell_type": "code",
      "source": [
        "# Generate ROC curve\n",
        "fpr, tpr, _ = roc_curve(y_test, y_prob)\n",
        "\n",
        "# Plot ROC curve\n",
        "plt.figure()\n",
        "plt.plot(fpr, tpr, color='darkorange', lw=2, label='ROC curve (area = %0.2f)' % roc_auc)\n",
        "plt.plot([0, 1], [0, 1], color='navy', lw=2, linestyle='--')\n",
        "plt.xlim([0.0, 1.0])\n",
        "plt.ylim([0.0, 1.05])\n",
        "plt.xlabel('False Positive Rate')\n",
        "plt.ylabel('True Positive Rate')\n",
        "plt.title('Receiver Operating Characteristic (ROC) Curve')\n",
        "plt.legend(loc=\"lower right\")\n",
        "plt.show()"
      ],
      "metadata": {
        "colab": {
          "base_uri": "https://localhost:8080/",
          "height": 472
        },
        "id": "66bn12_Zep2s",
        "outputId": "11f8b60a-e627-48a4-e576-a76da67f28fa"
      },
      "execution_count": null,
      "outputs": [
        {
          "output_type": "display_data",
          "data": {
            "text/plain": [
              "<Figure size 640x480 with 1 Axes>"
            ],
            "image/png": "[encoded data removed]"
          },
          "metadata": {}
        }
      ]
    },
    {
      "cell_type": "code",
      "source": [
        "# Print classification report\n",
        "print(\"Classification Report:\")\n",
        "print(classification_report(y_test, y_pred))"
      ],
      "metadata": {
        "colab": {
          "base_uri": "https://localhost:8080/"
        },
        "id": "CTXSaElEeqMF",
        "outputId": "82d4e24a-8310-4e89-ce9b-2d5e1701cc4d"
      },
      "execution_count": null,
      "outputs": [
        {
          "output_type": "stream",
          "name": "stdout",
          "text": [
            "Classification Report:\n",
            "              precision    recall  f1-score   support\n",
            "\n",
            "           0       0.92      0.94      0.93        83\n",
            "           1       0.92      0.89      0.91        65\n",
            "\n",
            "    accuracy                           0.92       148\n",
            "   macro avg       0.92      0.92      0.92       148\n",
            "weighted avg       0.92      0.92      0.92       148\n",
            "\n"
          ]
        }
      ]
    },
    {
      "cell_type": "code",
      "source": [
        "import pickle\n",
        "\n",
        "# Assuming you have trained an XGBoost model named 'model'\n",
        "\n",
        "# Save the model to a file\n",
        "with open('xgboost_model_colic.pkl', 'wb') as f:\n",
        "    pickle.dump(model2, f)"
      ],
      "metadata": {
        "id": "sdNGMjnTwUx6"
      },
      "execution_count": null,
      "outputs": []
    },
    {
      "cell_type": "code",
      "source": [
        "import pickle\n",
        "\n",
        "# Load the model from the file\n",
        "with open('xgboost_model_colic.pkl', 'rb') as f:\n",
        "    loaded_model = pickle.load(f)"
      ],
      "metadata": {
        "id": "e56vbtPMw2-q"
      },
      "execution_count": null,
      "outputs": []
    },
    {
      "cell_type": "code",
      "source": [
        "predictions = loaded_model.predict(X_test)"
      ],
      "metadata": {
        "id": "Y8T5PQHFw5Sy"
      },
      "execution_count": null,
      "outputs": []
    },
    {
      "cell_type": "code",
      "source": [
        "# Print classification report\n",
        "print(\"Classification Report:\")\n",
        "print(classification_report(y_test, predictions))"
      ],
      "metadata": {
        "colab": {
          "base_uri": "https://localhost:8080/"
        },
        "id": "O2GYyIjMw9xH",
        "outputId": "8404b1de-5779-47f7-b18a-ab7809e7a1d0"
      },
      "execution_count": null,
      "outputs": [
        {
          "output_type": "stream",
          "name": "stdout",
          "text": [
            "Classification Report:\n",
            "              precision    recall  f1-score   support\n",
            "\n",
            "           0       0.92      0.94      0.93        83\n",
            "           1       0.92      0.89      0.91        65\n",
            "\n",
            "    accuracy                           0.92       148\n",
            "   macro avg       0.92      0.92      0.92       148\n",
            "weighted avg       0.92      0.92      0.92       148\n",
            "\n"
          ]
        }
      ]
    },
    {
      "cell_type": "code",
      "source": [],
      "metadata": {
        "id": "bnhgAzwsxB_t"
      },
      "execution_count": null,
      "outputs": []
    }
  ],
  "metadata": {
    "kernelspec": {
      "display_name": "Python 3",
      "name": "python3"
    },
    "language_info": {
      "codemirror_mode": {
        "name": "ipython",
        "version": 3
      },
      "file_extension": ".py",
      "mimetype": "text/x-python",
      "name": "python",
      "nbconvert_exporter": "python",
      "pygments_lexer": "ipython3",
      "version": "3.8.5"
    },
    "colab": {
      "provenance": []
    }
  },
  "nbformat": 4,
  "nbformat_minor": 0
}